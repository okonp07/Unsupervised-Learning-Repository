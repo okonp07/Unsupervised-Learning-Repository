{
 "cells": [
  {
   "cell_type": "markdown",
   "metadata": {},
   "source": [
    "<div align=\"center\" style=\"color: #000099\"> <h1><b>EDSA Unsupervised Learning Predict 2022</b></h1>\n",
    "    <h2><b>Movie Recommender Challenge</b></h2>\n",
    "    <h4> By </h4>\n",
    "    <h2>Data Port Inc (Team NM2)</h2>\n",
    "</div>\n",
    "\n",
    "<div align=\"center\"> <h4> Team members: Okon Prince, Odukoya Daniel, Huzaifa Abu, Jerry Iriri, Izunna Enuede </h4>\n",
    "    <div align=\"center\"> <h3> Supervisor: Nomfundo Manyisa </h3>\n",
    "\n",
    "![popcor.gif?w=371](https://c.tenor.com/pB5M0umDavoAAAAC/angry-birds-popcorn.gif)"
   ]
  },
  {
   "cell_type": "markdown",
   "metadata": {},
   "source": [
    "## Table of Contents\n",
    "<a href=#one>1.0 Introduction / Background</a>\n",
    "\n",
    "<a href=#two>1.1 The Mechanism of a Recommender System</a>\n",
    "\n",
    "<a href=#three>1.3 The long tail</a>\n",
    "\n",
    "<a href=#four>1.4 Types of Recommendation Engines</a>\n",
    "\n",
    "<a href=#five>1.5 How Does a Recommendation Engine Work?</a>\n",
    "\n",
    "<a href=#six>1.6 Task</a>\n",
    "\n",
    "<a href=#seven>1.7 Link to comet and Load Dependencies</a>\n",
    "\n",
    "<a href=#eight>2.0 Loading your data set</a>\n",
    "\n",
    "<a href=#nine>2.1 Data Descriptions</a>\n",
    "\n",
    "<a href=#ten>2.2 Exploratory Data Analysis (EDA)</a>\n",
    "\n",
    "<a href=#eleven>2.3 Data Summary</a>\n",
    "\n",
    "<a href=#twelve>2.4 Display the Dataframes of the Data sets</a>\n",
    "\n",
    "<a href=#thirteen>2.5 Check for Missing Values</a>\n",
    "\n",
    "<a href=#fourteen>2.6 Drop NA Values</a>\n",
    "\n",
    "<a href=#fifteen>2.7 User Ratings count</a>\n",
    "\n",
    "<a href=#sixteen>2.8 Distribution of Ratings</a>\n",
    "\n",
    "<a href=#seventeen>2.9 Movie Ratings</a>\n",
    "\n",
    "<a href=#eighteen>2.91 Release Year</a>\n",
    "\n",
    "<a href=#nineteen>3.0 Observation</a>\n",
    "\n",
    "<a href=#twenty>3.1 Movie Rating Distribution</a>\n",
    "\n",
    "<a href=#twentyone>3.2 Movie Rating Observation</a>\n",
    "\n",
    "<a href=#twentytwo>3.3 Greatest Hits: Most Popular Movies</a>\n",
    "\n",
    "<a href=#twentythree>3.4 Rating Distribution of Shawshank Redemption</a>\n",
    "\n",
    "<a href=#twentyfour>3.41 Shawshank Observations</a>\n",
    "\n",
    "<a href=#twentyfive>3.5 Genre</a>\n",
    "\n",
    "<a href=#twentysix>3.6 Genre Observations</a>\n",
    "\n",
    "<a href=#twentyseven>3.7 Directors</a>\n",
    "\n",
    "<a href=#twentyeight>3.8 Word Cloud Plot</a>\n",
    "\n",
    "<a href=#twentynine>4.0 Pre Processing</a>\n",
    "\n",
    "<a href=#thirty>4.1 Multidimensional Scaling</a>\n",
    "\n",
    "<a href=#thirty-one>4.2 t-SNE</a>\n",
    "\n",
    "<a href=#thirty-two>4.3 Principal Component Analysis</a>\n",
    "\n",
    "<a href=#thirty-three>4.4 Cluster Analysis</a>\n",
    "\n",
    "<a href=#thirty-four>5.0 Modelling</a>\n",
    "\n",
    "<a href=#thirty-five>5.1 Collaborative Filtering</a>\n",
    "\n",
    "<a href=#thirty-six>5.1.2 SVD</a>\n",
    "\n",
    "<a href=#thirty-seven>5.1.3 Normal Predictor</a>\n",
    "\n",
    "<a href=#thirty-eight>5.1.4 Baseline Only</a>\n",
    "\n",
    "<a href=#thirty-nine>5.1.5 NMF</a>\n",
    "\n",
    "<a href=#thirty-nine>5.1.6 Slope One</a>\n",
    "\n",
    "<a href=#fourty>5.1.7 CoClustering</a>\n",
    "\n",
    "<a href=#fourty-one>5.2 Content-based Filtering</a>\n",
    "\n",
    "<a href=#fourty-two>6.0 Performance Evaluation</a>\n",
    "\n",
    "<a href=#fourty-three>6.1 Root Mean Squared Error (RMSE)</a>\n",
    "\n",
    "<a href=#fourty-four>7.0 Cross Validation</a>\n",
    "\n",
    "<a href=#fourty-five>7.1 SVD</a>\n",
    "\n",
    "<a href=#fourty-six>7.2 Baseline Only</a>\n",
    "\n",
    "<a href=#fourty-seven>7.3 Model Analysis</a>\n",
    "\n",
    "<a href=#fourty-eight>8.0 Hyper Parameter Tuning</a>\n",
    "\n",
    "<a href=#fourty-nine>9.0 Results</a>\n",
    "\n",
    "<a href=#fifty>10.0 Save Output</a>\n",
    "\n",
    "<a href=#fifty-one>11.0 Conclusion</a>\n",
    "\n",
    "<a href=#fifty-two>12.0 References</a>"
   ]
  },
  {
   "cell_type": "markdown",
   "metadata": {},
   "source": [
    "<a id=\"one\"></a>\n",
    "## 1.0 Introduction / Background\n",
    "In today's technology-driven world, recommender systems are critical to ensuring users can make appropriate decisions about the content they engage with daily. Recommender systems help users select similar items when a product is being chosen online. Netflix or Amazon would suggest different movies and titles that might interest individual users, Online commercial stores may suggest products you may like and In education, these systems may be used to suggest learning material that could improve educational outcomes. These types of algorithms lead to service improvement and customer satisfaction. They do this by addressing the long-tail problem shown below"
   ]
  },
  {
   "cell_type": "markdown",
   "metadata": {},
   "source": [
    "<a id=\"two\"></a>\n",
    "## 1.1 The Mechanism of a Recommender System\n",
    "A recommender system, or a recommendation system, is a subclass of information filtering systems that provide suggestions for items that are most pertinent to a particular user. Typically, the suggestions refer to various decision-making processes, such as what product to purchase, what music to listen to, or what online news to read. Recommender systems are particularly useful when an individual needs to choose an item from a potentially overwhelming number of items that service may offer.\n",
    "\n",
    "Recommender systems are used in a variety of areas, with commonly recognized examples taking the form of playlist generators for video and music services, product recommenders for online stores, or content recommenders for social media platforms and open web content recommenders. These systems can operate using a single input, like music, or multiple inputs within and across platforms like news, books, and search queries. There are also popular recommender systems for specific topics like restaurants and online dating. Recommender systems have also been developed to explore research articles and experts, collaborators, and financial services"
   ]
  },
  {
   "cell_type": "markdown",
   "metadata": {},
   "source": [
    "<a id=\"three\"></a>\n",
    "## 1.3 The long tail\n",
    "\n",
    "\n",
    "<div align=\"center\" style=\"width: 500px; font-size: 80%; text-align: center; margin: 0 auto\">\n",
    "<img src=\"https://media.wired.com/photos/5a5957cf2bbf59566d73366b/master/w_1600%2Cc_limit/FF_170_tail6_f.gif\"\n",
    "     alt = \"The team\"\n",
    "     style=\"float: center; padding-bottom=0.5em\"\n",
    "     width=500px/>\n",
    "</div>\n",
    "\n",
    "In order to maximize profit and guarantee a personalized experience for their customers, most online content providers rely on recommendation systems to maximally exploit the long tail. The long tail is a business strategy that allows companies to realize significant profits by selling low volumes of hard-to-find items to many customers, instead of only selling large volumes of a reduced number of popular items. They achieve this by actively recommending these products for the customer rather than relyin on the customers to find these products themselves."
   ]
  },
  {
   "cell_type": "markdown",
   "metadata": {},
   "source": [
    "<a id=\"four\"></a>\n",
    "## 1.4 Types of Recommendation Engines\n",
    "There are three main types of recommendation engines: collaborative filtering, content-based filtering – and a hybrid of the two.\n",
    "\n",
    "### Collaborative filtering\n",
    "Collaborative filtering focuses on collecting and analyzing data on user behavior, activities, and preferences, to predict what a person will like, based on their similarity to other users.\n",
    "To plot and calculate these similarities, collaborative filtering uses a matrix style formula. An advantage of collaborative filtering is that it doesn’t need to analyze or understand the content (products, films, books). It simply picks items to recommend based on what they know about the user.\n",
    "\n",
    "### Content-based filtering\n",
    "Content-based filtering works on the principle that if you like a particular item, you will also like this other item. To make recommendations, algorithms use a profile of the customer’s preferences and a description of an item (genre, product type, color, word length etc) to work out the similarity of items using cosine and Euclidean distances.  The downside of content-based filtering is that the system is limited to recommending products or content similar to what the person is already buying or using. It can’t go beyond this to recommend other types of products or content. For example, it couldn’t recommend products beyond homeware if the customer had only brought homeware.\n",
    "\n",
    "<div align=\"center\" style=\"width: 500px; font-size: 80%; text-align: center; margin: 0 auto\">\n",
    "<img src=\"https://miro.medium.com/max/998/1*O_GU8xLVlFx8WweIzKNCNw.png\"\n",
    "     alt = \"The team\"\n",
    "     style=\"float: center; padding-bottom=0.5em\"\n",
    "     width=500px/>\n",
    "</div>\n",
    "\n",
    "### Hybrid model\n",
    "A hybrid recommendation engine looks at both the meta (collaborative) data and the transactional (content-based) data. Because of this, it outperforms both. In a hybrid recommendation engine, natural language processing tags can be generated for each product or item (movie, song), and vector equations used to calculate the similarity of products. A collaborative filtering matrix can then be used to recommend items to users depending on their behaviors, activities, and preferences. Netflix is the perfect example of a hybrid recommendation engine. It takes into account both the interests of the user (collaborative) and the descriptions or features of the movie or show (content-based).  \n",
    "\n",
    "<div align=\"center\" style=\"width: 500px; font-size: 80%; text-align: center; margin: 0 auto\">\n",
    "<img src=\"https://149695847.v2.pressablecdn.com/wp-content/uploads/2021/10/image-97.png\"\n",
    "     alt = \"The team\"\n",
    "     style=\"float: center; padding-bottom=0.5em\"\n",
    "     width=500px/>\n",
    "</div>"
   ]
  },
  {
   "cell_type": "markdown",
   "metadata": {},
   "source": [
    "<a id=\"five\"></a>\n",
    "### 1.5 How Does a Recommendation Engine Work?\n",
    "A recommendation engine works using a combination of data and machine learning technology. Data is crucial in the development of a recommendation engine – it is the building blocks from which patterns are derived. The more data it has, the more efficient and effective it will be in making relevant revenue-generating suggestions.\n",
    "Recommendation engines complete a standard four-step process:\n",
    "\n",
    "#### Step 1: Data collection\n",
    "The first and most important step for creating a recommendation engine is to gather data. There are two main types of data to be collected:\n",
    "Implicit Data: This includes information collected from activities such as web search history, clicks, cart events, search log, and order history.\n",
    "Explicit Data: This is information gathered from customer input, such as reviews and ratings, likes and dislikes, and product comments.\n",
    "Recommendation engines also use customer attribute data such as demographics (age, gender) and psychographics (interests, values) to identify similar customers, as well as feature data (genre, item type) to identify product similarity.\n",
    "\n",
    "#### Step 2: Data storage \n",
    "Once the data is gathered, it needs to be stored. Over time, the amount of data will grow to be vast. This means ample, scalable storage must be available. Depending on the type of data you collect, different types of storage are available.\n",
    "\n",
    "#### Step 3: Data analysis \n",
    "To be used, the data must then be drilled down into and analyzed. There are several different ways in which you can analyze data. These include:\n",
    "Real-time analysis: Data is processed as it is created.\n",
    "Batch analysis: Data is processed periodically.\n",
    "Near-real-time analysis : Data is processed in minutes instead of seconds when you don’t need it immediately."
   ]
  },
  {
   "cell_type": "markdown",
   "metadata": {},
   "source": [
    "<a id=\"six\"></a>\n",
    "### 1.6 Task\n",
    "Having been given a sourced and clean data set, (the MovieLens dataset) which has been pre-enriched with additional data, and resampled for fair evaluation purposes, Our task is to use this data to build a Recommendation system algorithm based on content or collaborative filtering, capable of accurately predicting how a user will rate a movie they have not yet viewed, based on their historical preferences."
   ]
  },
  {
   "cell_type": "markdown",
   "metadata": {},
   "source": [
    "<a id=\"seven\"></a>\n",
    "### 1.7 Link to comet and Load Dependencies\n",
    "Install and run all dependencies that the notebook requires to run successfully. The cell below is required to successfully connect the project notebook to comet (For version control). The next cell installs the dependencies required for the jupyter kernel to load and run successfully on Kaggle. The third cell contains all the dependencies required for all python libraries that are needed for this project to run successfully on the jupyter kernel.|"
   ]
  },
  {
   "cell_type": "code",
   "execution_count": null,
   "metadata": {},
   "outputs": [],
   "source": [
    "#Pip install comet and import comet experiment\n",
    "!pip install comet_ml\n",
    "from comet_ml import Experiment\n",
    "\n",
    "# Link workspace to Comet experiment\n",
    "experiment = Experiment(api_key=\"9smvwfgsHqWuSsKKueLCtsiBz\", project_name=\"edsa-unsupervised-learning-predict\", workspace=\"okonp07\")"
   ]
  },
  {
   "cell_type": "code",
   "execution_count": null,
   "metadata": {
    "_cell_guid": "b1076dfc-b9ad-4769-8c92-a6c4dae69d19",
    "_uuid": "8f2839f25d086af736a60e9eeb907d3b93b6e0e5",
    "execution": {
     "iopub.execute_input": "2022-07-07T12:17:39.101738Z",
     "iopub.status.busy": "2022-07-07T12:17:39.100457Z",
     "iopub.status.idle": "2022-07-07T12:17:39.132176Z",
     "shell.execute_reply": "2022-07-07T12:17:39.130971Z",
     "shell.execute_reply.started": "2022-07-07T12:17:39.101616Z"
    }
   },
   "outputs": [],
   "source": [
    "# This Python 3 environment comes with many helpful analytics libraries installed\n",
    "# It is defined by the kaggle/python Docker image: https://github.com/kaggle/docker-python\n",
    "# For example, here's several helpful packages to load\n",
    "\n",
    "import numpy as np # linear algebra\n",
    "import pandas as pd # data processing, CSV file I/O (e.g. pd.read_csv)\n",
    "\n",
    "# Input data files are available in the read-only \"../input/\" directory\n",
    "# For example, running this (by clicking run or pressing Shift+Enter) will list all files under the input directory\n",
    "\n",
    "import os\n",
    "for dirname, _, filenames in os.walk('/kaggle/input'):\n",
    "    for filename in filenames:\n",
    "        print(os.path.join(dirname, filename))\n",
    "\n",
    "# You can write up to 20GB to the current directory (/kaggle/working/) that gets preserved as output when you create a version using \"Save & Run All\" \n",
    "# You can also write temporary files to /kaggle/temp/, but they won't be saved outside of the current session"
   ]
  },
  {
   "cell_type": "code",
   "execution_count": null,
   "metadata": {
    "execution": {
     "iopub.execute_input": "2022-07-07T12:18:35.627887Z",
     "iopub.status.busy": "2022-07-07T12:18:35.627460Z",
     "iopub.status.idle": "2022-07-07T12:18:39.284446Z",
     "shell.execute_reply": "2022-07-07T12:18:39.283159Z",
     "shell.execute_reply.started": "2022-07-07T12:18:35.627853Z"
    }
   },
   "outputs": [],
   "source": [
    "# Ignore warnings\n",
    "import warnings\n",
    "warnings.simplefilter(action='ignore')\n",
    "\n",
    "# Install Prerequisites\n",
    "# import sys\n",
    "# !{sys.executable} -m pip install scikit-learn scikit-surprise\n",
    "# !pip install git+https://github.com/gbolmier/funk-svd\n",
    "# pip install cufflinks\n",
    "\n",
    "\n",
    "# Exploratory Data Analysis\n",
    "import pickle\n",
    "import numpy as np\n",
    "import pandas as pd\n",
    "import seaborn as sns\n",
    "import matplotlib.pyplot as plt\n",
    "import re\n",
    "from wordcloud import WordCloud, STOPWORDS\n",
    "\n",
    "# Data Preprocessing\n",
    "import random\n",
    "from time import time\n",
    "import cufflinks as cf\n",
    "from sklearn.manifold import TSNE\n",
    "from sklearn.cluster import KMeans\n",
    "from sklearn.decomposition import PCA\n",
    "from mpl_toolkits.mplot3d import Axes3D\n",
    "from matplotlib.ticker import NullFormatter\n",
    "from sklearn.preprocessing import StandardScaler\n",
    "from plotly.offline import download_plotlyjs, init_notebook_mode, plot, iplot\n",
    "init_notebook_mode(connected=True)\n",
    "\n",
    "# Models\n",
    "from surprise import Reader, Dataset\n",
    "from surprise import SVD, NormalPredictor, BaselineOnly, NMF, SlopeOne, CoClustering\n",
    "from sklearn.metrics.pairwise import cosine_similarity\n",
    "from sklearn.feature_extraction.text import CountVectorizer\n",
    "\n",
    "# Performance Evaluation\n",
    "from surprise import accuracy\n",
    "from sklearn.metrics import mean_squared_error\n",
    "from surprise.model_selection import GridSearchCV, cross_validate, train_test_split\n",
    "\n",
    "# Display\n",
    "%matplotlib inline\n",
    "sns.set(font_scale=1)\n",
    "sns.set_style(\"white\")\n",
    "pd.set_option('display.max_columns', 37)"
   ]
  },
  {
   "cell_type": "code",
   "execution_count": null,
   "metadata": {},
   "outputs": [],
   "source": []
  },
  {
   "cell_type": "markdown",
   "metadata": {},
   "source": [
    "<a id=\"eight\"></a>\n",
    "### 2.0 Loading your data set:\n",
    "The code block below allows you to load the train and test data sets provided by Kaggle. Note that the train data includes an additional column \"timestamp\" This data represents the time that a particular viewer actually views a movie. This is a redundant column and can be safely dropped as there is no reasonable relationship between the time someone watches a movie and whether or not they rate it favourably. The next cell contains various data that describes the movie itself. There are six of them in all, but we shall be importing only five of them, hence the tags data is commented out. "
   ]
  },
  {
   "cell_type": "code",
   "execution_count": null,
   "metadata": {
    "execution": {
     "iopub.execute_input": "2022-07-07T13:00:50.198359Z",
     "iopub.status.busy": "2022-07-07T13:00:50.197586Z",
     "iopub.status.idle": "2022-07-07T13:00:54.292236Z",
     "shell.execute_reply": "2022-07-07T13:00:54.290712Z",
     "shell.execute_reply.started": "2022-07-07T13:00:50.198303Z"
    }
   },
   "outputs": [],
   "source": [
    "train_df = pd.read_csv('./movie_recommendation_data/train.csv')\n",
    "test_df = pd.read_csv('./movie_recommendation_data/test.csv')\n",
    "print(train_df.shape, test_df.shape)\n",
    "train_df.head(3)"
   ]
  },
  {
   "cell_type": "code",
   "execution_count": null,
   "metadata": {
    "execution": {
     "iopub.execute_input": "2022-07-07T13:00:56.873903Z",
     "iopub.status.busy": "2022-07-07T13:00:56.873144Z",
     "iopub.status.idle": "2022-07-07T13:01:14.536251Z",
     "shell.execute_reply": "2022-07-07T13:01:14.535319Z",
     "shell.execute_reply.started": "2022-07-07T13:00:56.873863Z"
    }
   },
   "outputs": [],
   "source": [
    "movies_df =  pd.read_csv('./movie_recommendation_data/movies.csv', index_col='movieId')\n",
    "imdb_df =  pd.read_csv('./movie_recommendation_data/imdb_data.csv', index_col='movieId')\n",
    "links_df =  pd.read_csv('./movie_recommendation_data/links.csv', index_col='movieId')\n",
    "genome_scores =  pd.read_csv('./movie_recommendation_data/genome_scores.csv', index_col='movieId')\n",
    "genome_tags =  pd.read_csv('./movie_recommendation_data/genome_tags.csv', index_col='tagId')\n",
    "#tags =  pd.read_csv('/kaggle/input/edsa-movie-recommendation-2022/tags.csv')\n",
    "print(movies_df.shape, imdb_df.shape, links_df.shape, genome_scores.shape, genome_tags.shape)"
   ]
  },
  {
   "cell_type": "markdown",
   "metadata": {},
   "source": [
    "<a id=\"nine\"></a>\n",
    "### 2.1 Data Descriptions\n",
    "The Data provided for this project can be divided into 2 broad groups. Numeric and Categorical.\n",
    "\n",
    "**Numeric**\n",
    "* **budget:** - (continuous) dollar cost of production of the movie.\n",
    "* **rating:** - (discrete) users rating of a movie from. **TARGET**\n",
    "* **relevance:** - (continuous) measure (0-1) of the relevance of a genome tag to the movie, where 1 impies 100% relevance.\n",
    "* **runtime:** - (continuos) movie duration in minutes.\n",
    "* **timestamp:** - (continuous) the time at which a user rated the movie.\n",
    "\n",
    "\n",
    "**Categorical**\n",
    "* **director:** - (nominal) the person who controls the making of a film and supervises the actors and technical crew.\n",
    "* **genres:** - (nominal) the style or category of the movie. A movie may belong to multiple (up to nineteen) genres, or may be absent a genre listing.\n",
    "* **imdbId:** - (nominal) unique indentifying key for each IMBD entry. Can also be used in conjunction with the TMDB API.\n",
    "* **movieId:** - (nominal) a unique identifier for each movie. There are 48,213 unique movies.\n",
    "* **plot_keywords:** - (nominal) key words used to identify characteristics of a movie's storyline.\n",
    "* **tag:** - (nominal) genome label\n",
    "* **tagId:** - (nominal) unique genome identifier.\n",
    "* **tmdbId:** - (nominal) unique identifier that works in conjunction with the TMDB API.\n",
    "* **title:** - (nominal) the unique title identifying the movie. Included is a year of release enclosed in parenthesis at the end of the title.\n",
    "* **title_cast:** - (nominal) the actors of the main characters in the movie. This does not include extras.\n",
    "* **userId:** - (nominal) a unique identifier for each user. There are 162,541 unique users.\n",
    "\n",
    "The Movie Genome concept is borrowed from the Human Genome Project, a scientific project to identify and map all human genes. Similarly, a Movie Genome identifies and indexes multiple “genes” (elements and aspects) of a movie. For a deeper dive into  the details of what each of the provided data  represents please refer to the [data overview](https://www.kaggle.com/competitions/edsa-movie-recommendation-2022/data) page in kaggle."
   ]
  },
  {
   "cell_type": "markdown",
   "metadata": {},
   "source": [
    "<a id=\"ten\"></a>\n",
    "### 2.2 Exploratory Data Analysis (EDA)"
   ]
  },
  {
   "cell_type": "markdown",
   "metadata": {},
   "source": [
    "<a id=\"eleven\"></a>\n",
    "### 2.3 Data Summary\n",
    "The data summary reveals insights such as the \"class\" of the data, the number on entries or data points, the various columns present in the data, the data types contained in these columns and the memory used by the data. We shall call up the data summary of the entire data sets to be used for this project. We shall do this in the subsequent six cells."
   ]
  },
  {
   "cell_type": "code",
   "execution_count": null,
   "metadata": {
    "execution": {
     "iopub.execute_input": "2022-07-07T13:01:14.539402Z",
     "iopub.status.busy": "2022-07-07T13:01:14.538190Z",
     "iopub.status.idle": "2022-07-07T13:01:14.553368Z",
     "shell.execute_reply": "2022-07-07T13:01:14.551305Z",
     "shell.execute_reply.started": "2022-07-07T13:01:14.539350Z"
    }
   },
   "outputs": [],
   "source": [
    "train_df.info()"
   ]
  },
  {
   "cell_type": "code",
   "execution_count": null,
   "metadata": {
    "execution": {
     "iopub.execute_input": "2022-07-07T13:01:17.981747Z",
     "iopub.status.busy": "2022-07-07T13:01:17.981088Z",
     "iopub.status.idle": "2022-07-07T13:01:17.991766Z",
     "shell.execute_reply": "2022-07-07T13:01:17.990623Z",
     "shell.execute_reply.started": "2022-07-07T13:01:17.981707Z"
    }
   },
   "outputs": [],
   "source": [
    "test_df.info()"
   ]
  },
  {
   "cell_type": "code",
   "execution_count": null,
   "metadata": {
    "execution": {
     "iopub.execute_input": "2022-07-07T13:01:19.288275Z",
     "iopub.status.busy": "2022-07-07T13:01:19.287512Z",
     "iopub.status.idle": "2022-07-07T13:01:19.305987Z",
     "shell.execute_reply": "2022-07-07T13:01:19.304605Z",
     "shell.execute_reply.started": "2022-07-07T13:01:19.288230Z"
    }
   },
   "outputs": [],
   "source": [
    "movies_df.info()"
   ]
  },
  {
   "cell_type": "code",
   "execution_count": null,
   "metadata": {
    "execution": {
     "iopub.execute_input": "2022-07-07T13:01:20.271851Z",
     "iopub.status.busy": "2022-07-07T13:01:20.270914Z",
     "iopub.status.idle": "2022-07-07T13:01:20.291697Z",
     "shell.execute_reply": "2022-07-07T13:01:20.290765Z",
     "shell.execute_reply.started": "2022-07-07T13:01:20.271808Z"
    }
   },
   "outputs": [],
   "source": [
    "imdb_df.info()"
   ]
  },
  {
   "cell_type": "code",
   "execution_count": null,
   "metadata": {
    "execution": {
     "iopub.execute_input": "2022-07-07T13:01:22.531626Z",
     "iopub.status.busy": "2022-07-07T13:01:22.530955Z",
     "iopub.status.idle": "2022-07-07T13:01:22.543516Z",
     "shell.execute_reply": "2022-07-07T13:01:22.542613Z",
     "shell.execute_reply.started": "2022-07-07T13:01:22.531589Z"
    }
   },
   "outputs": [],
   "source": [
    "links_df.info()"
   ]
  },
  {
   "cell_type": "code",
   "execution_count": null,
   "metadata": {
    "execution": {
     "iopub.execute_input": "2022-07-07T13:01:26.684944Z",
     "iopub.status.busy": "2022-07-07T13:01:26.684559Z",
     "iopub.status.idle": "2022-07-07T13:01:26.695969Z",
     "shell.execute_reply": "2022-07-07T13:01:26.694330Z",
     "shell.execute_reply.started": "2022-07-07T13:01:26.684913Z"
    }
   },
   "outputs": [],
   "source": [
    "genome_scores.info()"
   ]
  },
  {
   "cell_type": "code",
   "execution_count": null,
   "metadata": {
    "execution": {
     "iopub.execute_input": "2022-07-07T13:01:28.174950Z",
     "iopub.status.busy": "2022-07-07T13:01:28.174247Z",
     "iopub.status.idle": "2022-07-07T13:01:28.189669Z",
     "shell.execute_reply": "2022-07-07T13:01:28.188832Z",
     "shell.execute_reply.started": "2022-07-07T13:01:28.174898Z"
    }
   },
   "outputs": [],
   "source": [
    "genome_tags.info()"
   ]
  },
  {
   "cell_type": "markdown",
   "metadata": {},
   "source": [
    "<a id=\"twelve\"></a>\n",
    "### 2.4 Display the Dataframes of the Data sets\n",
    "To further familiarize ourselves with our data, let us display the data frames of all our datasets to identify the columns they contain."
   ]
  },
  {
   "cell_type": "code",
   "execution_count": null,
   "metadata": {},
   "outputs": [],
   "source": [
    "# Display the first 5 entries in each dataframe \n",
    "display(movies_df.head())\n",
    "display(imdb_df.head())\n",
    "display(test_df.head())\n",
    "display(train_df.head())"
   ]
  },
  {
   "cell_type": "markdown",
   "metadata": {},
   "source": [
    "<a id=\"thirteen\"></a>\n",
    "### 2.5 Check for Missing Values\n",
    "The next cell checks for missing values from the data set"
   ]
  },
  {
   "cell_type": "code",
   "execution_count": null,
   "metadata": {
    "execution": {
     "iopub.execute_input": "2022-07-07T13:01:29.666866Z",
     "iopub.status.busy": "2022-07-07T13:01:29.665873Z",
     "iopub.status.idle": "2022-07-07T13:01:29.823393Z",
     "shell.execute_reply": "2022-07-07T13:01:29.822154Z",
     "shell.execute_reply.started": "2022-07-07T13:01:29.666825Z"
    }
   },
   "outputs": [],
   "source": [
    "print(\"Train: \")\n",
    "print(str(train_df.isnull().sum()))\n",
    "print(\"============\")\n",
    "print(\"Test: \")\n",
    "print(str(test_df.isnull().sum()))\n",
    "print(\"============\")\n",
    "print(\"Movies: \")\n",
    "print(str(movies_df.isnull().sum()))\n",
    "# print(\"============\")\n",
    "# print(\"Tags: \")\n",
    "# print(str(tags_df.isnull().sum()))\n",
    "print(\"============\")\n",
    "print(\"Links: \")\n",
    "print(str(links_df.isnull().sum()))\n",
    "print(\"============\")\n",
    "print(\"IMDB: \")\n",
    "print(str(imdb_df.isnull().sum()))\n",
    "print(\"============\")\n",
    "print(\"Genome scores: \")\n",
    "print(str(genome_scores.isnull().sum()))\n",
    "print(\"============\")\n",
    "print(\"Genome tags: \")\n",
    "print(str(genome_tags.isnull().sum()))"
   ]
  },
  {
   "cell_type": "markdown",
   "metadata": {},
   "source": [
    "The result above shows that most of the data do not feature null values. Only the tmdbId in the links data set features 107 null entries. The data set that contains the most null values by far is the IMDB data set with, the title_cast column having 10068 null entries, director having 9874, runtime, 12089, budget, 19372 and plot_keywords with 11078 null entries. "
   ]
  },
  {
   "cell_type": "markdown",
   "metadata": {},
   "source": [
    "<a id=\"fourteen\"></a>\n",
    "### 2.6 Drop NA Values\n",
    "We choose to drop the null values in the link_df data frame. This is because they are few (only 107) and dropping them will not significantly impact our model."
   ]
  },
  {
   "cell_type": "code",
   "execution_count": null,
   "metadata": {
    "execution": {
     "iopub.execute_input": "2022-07-07T13:01:31.155994Z",
     "iopub.status.busy": "2022-07-07T13:01:31.155631Z",
     "iopub.status.idle": "2022-07-07T13:01:31.166459Z",
     "shell.execute_reply": "2022-07-07T13:01:31.165358Z",
     "shell.execute_reply.started": "2022-07-07T13:01:31.155965Z"
    }
   },
   "outputs": [],
   "source": [
    "# Drop missing rows\n",
    "# tags_df.dropna(axis=0,inplace=True)\n",
    "links_df.dropna(axis=0,inplace=True)"
   ]
  },
  {
   "cell_type": "code",
   "execution_count": null,
   "metadata": {
    "execution": {
     "iopub.execute_input": "2022-07-07T13:01:34.697726Z",
     "iopub.status.busy": "2022-07-07T13:01:34.697317Z",
     "iopub.status.idle": "2022-07-07T13:01:34.702358Z",
     "shell.execute_reply": "2022-07-07T13:01:34.700959Z",
     "shell.execute_reply.started": "2022-07-07T13:01:34.697683Z"
    }
   },
   "outputs": [],
   "source": [
    "# Drop duplicate movie titles?\n",
    "movies_df.drop_duplicates(subset=\"title\", keep=False, inplace=True)"
   ]
  },
  {
   "cell_type": "markdown",
   "metadata": {},
   "source": [
    "<a id=\"fifteen\"></a>\n",
    "### 2.7 User Ratings count\n",
    "The number of ratings per user is an important feature to consider in our data as the ratings is an important point that a viewer can use to express subjective satisfaction with a movie viewing experience.  The following cell shows the rating that a viewer ascribes to a movie. The bar chart is a visual representation of the ratings. "
   ]
  },
  {
   "cell_type": "code",
   "execution_count": null,
   "metadata": {
    "execution": {
     "iopub.execute_input": "2022-07-07T13:01:36.295901Z",
     "iopub.status.busy": "2022-07-07T13:01:36.295056Z",
     "iopub.status.idle": "2022-07-07T13:01:36.305355Z",
     "shell.execute_reply": "2022-07-07T13:01:36.304323Z",
     "shell.execute_reply.started": "2022-07-07T13:01:36.295850Z"
    }
   },
   "outputs": [],
   "source": [
    "def user_ratings_count(df, n):\n",
    "    \"\"\"\n",
    "    Counts the number of user ratings.\n",
    "    Parameters\n",
    "    ----------\n",
    "        df (DataFrame): input DataFrame\n",
    "        n (int): number of users to show\n",
    "    Returns\n",
    "    -------\n",
    "        barplot (NoneType): barplot of top n users by number of observations\n",
    "    Example\n",
    "    -------\n",
    "        >>> df = pd.DataFrame({'userId':[1,2,3,1,2,4,5,4]})\n",
    "        >>> user_ratings_count(df, 3)\n",
    "            NoneType (barplot)\n",
    "    \"\"\"\n",
    "    plt.figure(figsize=(8,6))\n",
    "    data = df['userId'].value_counts().head(n)\n",
    "    ax = sns.barplot(x = data.index, y = data, order= data.index, palette='tab10', edgecolor=\"black\")\n",
    "    for p in ax.patches:\n",
    "        ax.text(p.get_x() + p.get_width()/2., p.get_height(), '%d' % int(p.get_height()), fontsize=11, ha='center', va='bottom')\n",
    "    plt.title(f'Top {n} Users by Number of Ratings')\n",
    "    plt.xlabel('User ID')\n",
    "    plt.ylabel('Number of Ratings')\n",
    "    print(\"Combined number of ratings:\\t\",df['userId'].value_counts().head(n).sum(),\n",
    "         \"\\nTotal number of movies:\\t\\t\", df['movieId'].nunique())\n",
    "    plt.show()"
   ]
  },
  {
   "cell_type": "code",
   "execution_count": null,
   "metadata": {
    "execution": {
     "iopub.execute_input": "2022-07-07T13:01:37.676706Z",
     "iopub.status.busy": "2022-07-07T13:01:37.675999Z",
     "iopub.status.idle": "2022-07-07T13:01:39.123380Z",
     "shell.execute_reply": "2022-07-07T13:01:39.122131Z",
     "shell.execute_reply.started": "2022-07-07T13:01:37.676666Z"
    },
    "scrolled": false
   },
   "outputs": [],
   "source": [
    "user_ratings_count(train_df,10)"
   ]
  },
  {
   "cell_type": "markdown",
   "metadata": {},
   "source": [
    "The above cell shows that User 72315 has rated an extreme number of movies relative to other users with a total rating count of 12,952 movies. This shows that the user is clearly an outlier. For EDA purposes, this user is removed to make interpretation easier. We will therefore exclude user 72315 from our data to ensure that we get a result that is more representative of the entire data. "
   ]
  },
  {
   "cell_type": "code",
   "execution_count": null,
   "metadata": {
    "execution": {
     "iopub.execute_input": "2022-07-07T13:01:39.358930Z",
     "iopub.status.busy": "2022-07-07T13:01:39.358496Z",
     "iopub.status.idle": "2022-07-07T13:01:39.749977Z",
     "shell.execute_reply": "2022-07-07T13:01:39.748796Z",
     "shell.execute_reply.started": "2022-07-07T13:01:39.358891Z"
    }
   },
   "outputs": [],
   "source": [
    "# Exclude user 72315 for EDA\n",
    "eda_df = train_df[train_df['userId']!=72315]"
   ]
  },
  {
   "cell_type": "code",
   "execution_count": null,
   "metadata": {
    "execution": {
     "iopub.execute_input": "2022-07-07T13:01:41.364666Z",
     "iopub.status.busy": "2022-07-07T13:01:41.364253Z",
     "iopub.status.idle": "2022-07-07T13:01:42.796147Z",
     "shell.execute_reply": "2022-07-07T13:01:42.794789Z",
     "shell.execute_reply.started": "2022-07-07T13:01:41.364632Z"
    }
   },
   "outputs": [],
   "source": [
    "user_ratings_count(eda_df,10)"
   ]
  },
  {
   "cell_type": "markdown",
   "metadata": {},
   "source": [
    "Evidently, our outlier user gave ratings to a lot of films. The decline in unique ratings suggests that the user might have been the only viewer of those films."
   ]
  },
  {
   "cell_type": "code",
   "execution_count": null,
   "metadata": {
    "execution": {
     "iopub.execute_input": "2022-07-07T13:01:43.998166Z",
     "iopub.status.busy": "2022-07-07T13:01:43.997786Z",
     "iopub.status.idle": "2022-07-07T13:01:44.007974Z",
     "shell.execute_reply": "2022-07-07T13:01:44.007080Z",
     "shell.execute_reply.started": "2022-07-07T13:01:43.998135Z"
    }
   },
   "outputs": [],
   "source": [
    "# How many ratings have we lost?\n",
    "34398-23734"
   ]
  },
  {
   "cell_type": "code",
   "execution_count": null,
   "metadata": {
    "execution": {
     "iopub.execute_input": "2022-07-07T13:01:45.568332Z",
     "iopub.status.busy": "2022-07-07T13:01:45.567423Z",
     "iopub.status.idle": "2022-07-07T13:01:45.574438Z",
     "shell.execute_reply": "2022-07-07T13:01:45.573605Z",
     "shell.execute_reply.started": "2022-07-07T13:01:45.568287Z"
    }
   },
   "outputs": [],
   "source": [
    "# How many movies were only rated by our outlier?\n",
    "48213-45844"
   ]
  },
  {
   "cell_type": "markdown",
   "metadata": {},
   "source": [
    "<a id=\"sixteen\"></a>\n",
    "### 2.8 Distribution of ratings"
   ]
  },
  {
   "cell_type": "code",
   "execution_count": null,
   "metadata": {
    "execution": {
     "iopub.execute_input": "2022-07-07T13:01:47.911570Z",
     "iopub.status.busy": "2022-07-07T13:01:47.910421Z",
     "iopub.status.idle": "2022-07-07T13:01:47.921383Z",
     "shell.execute_reply": "2022-07-07T13:01:47.920460Z",
     "shell.execute_reply.started": "2022-07-07T13:01:47.911492Z"
    }
   },
   "outputs": [],
   "source": [
    "def ratings_distplot(df, column='rating'):\n",
    "    \"\"\"\n",
    "    Plots the distribution of ratings in the dataset.\n",
    "    Parameters\n",
    "    ----------\n",
    "        df (DataFrame): input DataFrame\n",
    "        column (str): column to plot\n",
    "    Returns\n",
    "    -------\n",
    "        distplot (NoneType): distplot of rating frequencies\n",
    "    \"\"\"\n",
    "    plt.figure(figsize=(8,6))\n",
    "    ax = sns.distplot(df[f'{column}'],bins=10, kde=False, hist_kws=dict(alpha=0.6),color=\"#2B251F\")\n",
    "    mean = df[f'{column}'].mean()\n",
    "    median = df[f'{column}'].median()\n",
    "    plt.axvline(x=mean, label = f'mean {round(mean,2)}' , color='#B07438', lw=3, ls = '--')\n",
    "    plt.axvline(x=median, label = f'median {median}' , color='#B07438', lw=3, ls = '--')\n",
    "    plt.xlim((0.5,5))\n",
    "    plt.ylim((0,2500000))\n",
    "    plt.title(f'Distribution of Ratings', fontsize=14)\n",
    "    plt.xlabel('Rating')\n",
    "    plt.ylabel('Frequency')\n",
    "    plt.legend()\n",
    "    plt.show()"
   ]
  },
  {
   "cell_type": "code",
   "execution_count": null,
   "metadata": {
    "execution": {
     "iopub.execute_input": "2022-07-07T13:01:48.917556Z",
     "iopub.status.busy": "2022-07-07T13:01:48.916801Z",
     "iopub.status.idle": "2022-07-07T13:01:49.783373Z",
     "shell.execute_reply": "2022-07-07T13:01:49.782487Z",
     "shell.execute_reply.started": "2022-07-07T13:01:48.917488Z"
    }
   },
   "outputs": [],
   "source": [
    "ratings_distplot(eda_df)"
   ]
  },
  {
   "cell_type": "markdown",
   "metadata": {},
   "source": [
    "It's worth noting that the ratings are skewed to the left. It was expected that the distribution would be normal, with a mean rating of 3. Instead, we find that users tend to rate movies positively and avoid giving negative ratings. This skew could be explained by users' proclivity to rate movies they enjoy. In other words, if a user dislikes a movie, it is unlikely that they will watch it all the way through, let alone rate it."
   ]
  },
  {
   "cell_type": "code",
   "execution_count": null,
   "metadata": {
    "execution": {
     "iopub.execute_input": "2022-07-07T13:01:50.767050Z",
     "iopub.status.busy": "2022-07-07T13:01:50.766289Z",
     "iopub.status.idle": "2022-07-07T13:01:50.773690Z",
     "shell.execute_reply": "2022-07-07T13:01:50.772611Z",
     "shell.execute_reply.started": "2022-07-07T13:01:50.767007Z"
    }
   },
   "outputs": [],
   "source": [
    "def mean_ratings_scatter(df, color='#4DA017', column='userId'):\n",
    "    \"\"\"\n",
    "    Make scatterplots of mean ratings.\n",
    "    Parameters\n",
    "    ----------\n",
    "        df (DataFrame): input DataFrame\n",
    "        color (str): plot colour\n",
    "        column (str): column to plot\n",
    "    Returns\n",
    "    -------\n",
    "        scatterplot (NoneType): scatterplot of mean number of ratings\n",
    "    \"\"\"\n",
    "    plt.figure(figsize=(8,5))\n",
    "    mean_ratings = df.groupby(f'{column}')['rating'].mean()\n",
    "    user_counts = df.groupby(f'{column}')['movieId'].count().values\n",
    "    sns.scatterplot(x=mean_ratings, y = user_counts, color=color)\n",
    "    plt.title(f'Mean Ratings by Number of Ratings', fontsize=14)\n",
    "    plt.xlabel('Rating')\n",
    "    plt.ylabel('Number of Ratings')\n",
    "    plt.show()"
   ]
  },
  {
   "cell_type": "code",
   "execution_count": null,
   "metadata": {
    "execution": {
     "iopub.execute_input": "2022-07-07T13:01:52.418796Z",
     "iopub.status.busy": "2022-07-07T13:01:52.417633Z",
     "iopub.status.idle": "2022-07-07T13:01:53.787660Z",
     "shell.execute_reply": "2022-07-07T13:01:53.786741Z",
     "shell.execute_reply.started": "2022-07-07T13:01:52.418751Z"
    }
   },
   "outputs": [],
   "source": [
    "# Mean user ratings by number of ratings\n",
    "mean_ratings_scatter(eda_df,'#B22222')"
   ]
  },
  {
   "cell_type": "markdown",
   "metadata": {},
   "source": [
    "There is no correlation between the number of movies a user has rated and how a user rates a movie."
   ]
  },
  {
   "cell_type": "code",
   "execution_count": null,
   "metadata": {
    "execution": {
     "iopub.execute_input": "2022-07-07T13:01:54.752339Z",
     "iopub.status.busy": "2022-07-07T13:01:54.751316Z",
     "iopub.status.idle": "2022-07-07T13:01:55.648734Z",
     "shell.execute_reply": "2022-07-07T13:01:55.647461Z",
     "shell.execute_reply.started": "2022-07-07T13:01:54.752291Z"
    }
   },
   "outputs": [],
   "source": [
    "# Mean movie ratings by number of ratings\n",
    "mean_ratings_scatter(eda_df,'#0F90B0', column='movieId')"
   ]
  },
  {
   "cell_type": "markdown",
   "metadata": {},
   "source": [
    "This time, a correlation is increasingly obvious: a movie is more likely to receive good reviews the more ratings it has. This supports our working hypothesis that the higher a movie's rating, the more likely it is that viewers will recommend it to one another. "
   ]
  },
  {
   "cell_type": "markdown",
   "metadata": {
    "execution": {
     "iopub.execute_input": "2022-07-07T13:01:58.582060Z",
     "iopub.status.busy": "2022-07-07T13:01:58.581457Z",
     "iopub.status.idle": "2022-07-07T13:01:58.787727Z",
     "shell.execute_reply": "2022-07-07T13:01:58.786562Z",
     "shell.execute_reply.started": "2022-07-07T13:01:58.582025Z"
    }
   },
   "source": [
    "<a id=\"seventeen\"></a>\n",
    "### 2.9 Movies Ratings"
   ]
  },
  {
   "cell_type": "markdown",
   "metadata": {},
   "source": [
    "The ratings for movies range from 0 to 5, with 5 being the highest and 0.5 being the lowest."
   ]
  },
  {
   "cell_type": "code",
   "execution_count": null,
   "metadata": {},
   "outputs": [],
   "source": [
    "# Determine and display the min and max ratings received\n",
    "min_rating = train_df.rating.min()\n",
    "max_rating = train_df.rating.max()\n",
    "print('Lowest rating: {}'.format(min_rating))\n",
    "print('Highest rating: {}'.format(max_rating))"
   ]
  },
  {
   "cell_type": "code",
   "execution_count": null,
   "metadata": {
    "execution": {
     "iopub.execute_input": "2022-07-07T13:02:01.622651Z",
     "iopub.status.busy": "2022-07-07T13:02:01.621930Z",
     "iopub.status.idle": "2022-07-07T13:02:06.158762Z",
     "shell.execute_reply": "2022-07-07T13:02:06.157617Z",
     "shell.execute_reply.started": "2022-07-07T13:02:01.622613Z"
    }
   },
   "outputs": [],
   "source": [
    "# Merge train with movies to join movie titles and ratings \n",
    "ratings = train_df.merge(movies_df, on='movieId', how='inner') \n",
    "ratings.drop('timestamp', axis=1, inplace=True)  #drop timestamp after joining the train with movies dataset\n",
    "ratings.head()"
   ]
  },
  {
   "cell_type": "markdown",
   "metadata": {},
   "source": [
    "<a id=\"eighteen\"></a>\n",
    "### 2.91 Release Year"
   ]
  },
  {
   "cell_type": "markdown",
   "metadata": {},
   "source": [
    "The release date of a film is frequently critical in determining its success and revenue. In this section, we will try and gain insights about release dates."
   ]
  },
  {
   "cell_type": "code",
   "execution_count": null,
   "metadata": {
    "execution": {
     "iopub.execute_input": "2022-07-07T13:02:07.378422Z",
     "iopub.status.busy": "2022-07-07T13:02:07.377764Z",
     "iopub.status.idle": "2022-07-07T13:02:11.884721Z",
     "shell.execute_reply": "2022-07-07T13:02:11.883249Z",
     "shell.execute_reply.started": "2022-07-07T13:02:07.378371Z"
    }
   },
   "outputs": [],
   "source": [
    "# Extract the release year fron the movie titles\n",
    "ratings['release_year'] = ratings.title.map(lambda x: re.findall('\\d\\d\\d\\d', x))\n",
    "ratings.release_year = ratings.release_year.apply(lambda x: np.nan if not x else int(x[-1]))\n",
    "years =  pd.DataFrame(ratings.groupby(['release_year'])['title'].count())\n",
    "years.rename(columns={'title':'movies released'}, inplace=True)\n",
    "\n",
    "# Plot the number of movies released per year\n",
    "plt.figure(figsize=(8,5))\n",
    "plot = sns.lineplot(data=years, dashes=False, legend=False, color='#B31127')\n",
    "\n",
    "# Add figure labels\n",
    "plt.xlabel('Years', fontsize=12)\n",
    "plt.ylabel('Number of movies released')\n",
    "plt.title('Movies released per year\\n')\n",
    "\n",
    "plt.show() "
   ]
  },
  {
   "cell_type": "markdown",
   "metadata": {},
   "source": [
    "<a id=\"nineteen\"></a>\n",
    "### 3.0 Observation\n",
    "- This dataset contains movie ratings and movie specific data dating back 50 years.\n",
    "- Between 1990 and 2000, there was a significant increase in movie production, which has decelerated significantly."
   ]
  },
  {
   "cell_type": "markdown",
   "metadata": {},
   "source": [
    "<a id=\"twenty\"></a>\n",
    "### 3.1 Movie Rating Distribution"
   ]
  },
  {
   "cell_type": "markdown",
   "metadata": {},
   "source": [
    "Let's examine the average rating for each movie.\n",
    "\n",
    "Though these statistics might be misleading: Even if only one user gave a movie five stars, it could still rank at the top of the list. A really good movie typically receives a higher rating from a large number of users. We will keep track of the number of ratings each movie has received with this in mind."
   ]
  },
  {
   "cell_type": "code",
   "execution_count": null,
   "metadata": {},
   "outputs": [],
   "source": [
    "# Merge train with movies to join movie titles and ratings \n",
    "ratings = train_df.merge(movies_df, on='movieId', how='inner')\n",
    "ratings.drop('timestamp', axis=1, inplace=True)\n",
    "\n",
    "# Count how many ratings are in each category (1 star, 2 star, ect)\n",
    "grouped = pd.DataFrame(ratings.groupby(['rating'])['title'].count())\n",
    "grouped.rename(columns={'title':'rating_count'}, inplace=True)\n",
    "\n",
    "# Creating plots \n",
    "fig = plt.figure(figsize=(13,13))\n",
    "ax = fig.add_subplot(122)\n",
    "    \n",
    "# Create colour palette\n",
    "labels = ['0.5 Star', '1 Stars', '1.5 Stars', '2 Stars', '2.5 Stars', '3 Star', '3.5 Stars', '4 Stars', '4.5 Stars', '5 Stars']\n",
    "theme = plt.get_cmap('tab10')\n",
    "ax.set_prop_cycle(\"color\", [theme(1. * i / len(labels))\n",
    "                                 for i in range(len(labels))])\n",
    "sns.set(font_scale=1.25)\n",
    "\n",
    "# Create pie chart\n",
    "pie = ax.pie(grouped['rating_count'],\n",
    "                 autopct='%1.1f%%',\n",
    "                 shadow=True,\n",
    "                 startangle=20,\n",
    "                 pctdistance=1.115,\n",
    "                 explode=(0.1, 0.1, 0.1, 0.1, 0.1, 0.1, 0.1, 0.1, 0.1, 0.1))\n",
    "   \n",
    "# Turn pie chart into a donut chart\n",
    "centre_circle = plt.Circle((0,0),0.70,fc='white')\n",
    "fig = plt.gcf()\n",
    "fig.gca().add_artist(centre_circle)\n",
    "\n",
    "# Display donut plot with legend\n",
    "plt.legend(pie[0], labels, loc=\"lower left\")\n",
    "ax.set_title('Movie Rating distribution\\n', fontsize=12)\n",
    "plt.tight_layout()\n",
    "plt.show()"
   ]
  },
  {
   "cell_type": "code",
   "execution_count": null,
   "metadata": {},
   "outputs": [],
   "source": [
    "# Creating a plots bar plot of the above pie chart which represents the distribution of movie ratings\n",
    "movieRatingDistGroup = train_df['rating'].value_counts().sort_index().reset_index()\n",
    "fig, ax = plt.subplots(figsize=(10,6))\n",
    "sns.barplot(data=movieRatingDistGroup, x='index', y='rating', palette=\"tab10\",  ax=ax)\n",
    "ax.set_xlabel(\"Rating\")\n",
    "ax.set_ylabel('Number of Users')\n",
    "ax.set_yticklabels(['{:,}'.format(int(x)) for x in ax.get_yticks().tolist()])\n",
    "total = float(movieRatingDistGroup['rating'].sum())\n",
    "for p in ax.patches:\n",
    "    height = p.get_height()\n",
    "    ax.text(p.get_x()+p.get_width()/2., height+350, '{0:.2%}'.format(height/total), fontsize=11, ha=\"center\", va='bottom')\n",
    "plt.title('Number of Users Per Rating', fontsize=14)\n",
    "plt.show()"
   ]
  },
  {
   "cell_type": "markdown",
   "metadata": {},
   "source": [
    "<a id=\"twentyone\"></a>\n",
    "### 3.2 Movie Rating Observations\n",
    "\n",
    "- With 26.5 percent of the total ratings in the MovieLens dataset, 4 Star ratings account for the vast majority of ratings.\n",
    "- The second largest percentage of ratings in the dataset, at 19.60 percent, are 3 Star ratings.\n",
    "- Of the total ratings, 14.5 percent are 5 star ratings (3rd largest portion)\n",
    "- Only 1.58 percent of ratings are for products with less than 0.5 stars.\n",
    "- 12.79% of ratings fall between 2 and 0.5 stars."
   ]
  },
  {
   "cell_type": "markdown",
   "metadata": {},
   "source": [
    "<a id=\"twentytwo\"></a>\n",
    "### 3.3 Greatest hits: Most popular movies"
   ]
  },
  {
   "cell_type": "markdown",
   "metadata": {},
   "source": [
    "The sum of a movie's average rating and the total number of ratings it has received will be used to calculate its popularity."
   ]
  },
  {
   "cell_type": "code",
   "execution_count": null,
   "metadata": {},
   "outputs": [],
   "source": [
    "# Determine the average rating and number of ratings for each movie\n",
    "ratings_mean_count = pd.DataFrame(ratings.groupby(['title'])[['rating']].mean())\n",
    "ratings_mean_count['rating_counts'] = pd.DataFrame(ratings.groupby(['title'])['rating'].count())\n",
    "ratings_mean_count['popularity'] = pd.DataFrame(ratings.groupby(['title'])['rating'].count()*ratings.groupby(['title'])['rating'].mean())\n",
    "\n",
    "# Extract and display the 5 most popular films in the dataset \n",
    "ratings_mean_count = ratings_mean_count.sort_values(by='popularity', ascending=False).head(15)\n",
    "ratings_mean_count.head()"
   ]
  },
  {
   "attachments": {
    "The_Shawshank_redemption.jpg": {
     "image/jpeg": "[encoded data removed]"
    }
   },
   "cell_type": "markdown",
   "metadata": {},
   "source": [
    "**The most popular movie is... The Shawshank redemption!!**\n",
    "![The_Shawshank_redemption.jpg](attachment:The_Shawshank_redemption.jpg)"
   ]
  },
  {
   "cell_type": "markdown",
   "metadata": {},
   "source": [
    "<a id=\"twentythree\"></a>\n",
    "### 3.4 Rating distribution of Shawshank Redemption"
   ]
  },
  {
   "cell_type": "markdown",
   "metadata": {},
   "source": [
    "Let's examine the ratings distribution for the most popular movie in more detail."
   ]
  },
  {
   "cell_type": "code",
   "execution_count": null,
   "metadata": {},
   "outputs": [],
   "source": [
    "# Extract shawshank redemption ratings\n",
    "top = ratings[ratings['title']=='Shawshank Redemption, The (1994)']\n",
    "\n",
    "# Group all 2 star and lower ratings together\n",
    "top.rating[top.rating == 0.5] = 2 \n",
    "top.rating[top.rating == 1] = 2 \n",
    "top.rating[top.rating == 1.5] = 2 \n",
    "\n",
    "# Count how many ratings are in each category: 1 star, 2 star, ect\n",
    "grouped = pd.DataFrame(top.groupby(['rating'])['title'].count())\n",
    "grouped.rename(columns={'title':'rating_count'}, inplace=True)\n",
    "\n",
    "# Create the figure\n",
    "fig = plt.figure(figsize=(13,13))\n",
    "ax = fig.add_subplot(122)\n",
    "    \n",
    "# Create the colour palette\n",
    "labels = ['2 Stars and less', '2.5 Stars', '3 Star', '3.5 Stars', '4 Stars', '4.5 Stars', '5 Stars']\n",
    "theme = plt.get_cmap('tab20c')\n",
    "ax.set_prop_cycle(\"color\", [theme(1. * i / len(labels))\n",
    "                                 for i in range(len(labels))])\n",
    "sns.set(font_scale=1.25)\n",
    "\n",
    "# Create the pie chart\n",
    "pie = ax.pie(grouped['rating_count'],\n",
    "                 autopct='%1.1f%%',\n",
    "                 #labels=labels, \n",
    "                 shadow=True,\n",
    "                 startangle=10,\n",
    "                 pctdistance=1.115,\n",
    "                 explode = (0.1, 0.1, 0.1, 0.1, 0.1, 0.1, 0.1))\n",
    "   \n",
    "# Turn the pie chart into a donut chart\n",
    "centre_circle = plt.Circle((0,0),0.70,fc='white')\n",
    "fig = plt.gcf()\n",
    "fig.gca().add_artist(centre_circle)\n",
    "\n",
    "# Display the donut chart with a legend\n",
    "ax.set_title('Rating distribution for the Shawshanck Redemption\\n', fontsize=15)\n",
    "plt.legend(pie[0], labels, loc=\"lower left\")\n",
    "plt.tight_layout()\n",
    "plt.show()"
   ]
  },
  {
   "cell_type": "markdown",
   "metadata": {},
   "source": [
    "<a id=\"twentyfour\"></a>\n",
    "### 3.41 Shawshank Observations:\n",
    "- 48.9% of the ratings received were 5 stars\n",
    "- 86.4 percent of the ratings were between 5 and 4 stars\n",
    "- Only 2% of the ratings received were for two stars or less - This was obviously a fan favorite."
   ]
  },
  {
   "cell_type": "markdown",
   "metadata": {},
   "source": [
    "<a id=\"twentyfive\"></a>\n",
    "### 3.5 Genre"
   ]
  },
  {
   "cell_type": "markdown",
   "metadata": {},
   "source": [
    "The following figure shows the number of ratings movies from each genre"
   ]
  },
  {
   "cell_type": "code",
   "execution_count": null,
   "metadata": {
    "execution": {
     "iopub.execute_input": "2022-07-07T13:02:12.285211Z",
     "iopub.status.busy": "2022-07-07T13:02:12.284854Z",
     "iopub.status.idle": "2022-07-07T13:02:12.293273Z",
     "shell.execute_reply": "2022-07-07T13:02:12.291666Z",
     "shell.execute_reply.started": "2022-07-07T13:02:12.285179Z"
    }
   },
   "outputs": [],
   "source": [
    "# function that hasn't found a use yet - it was usefull in the app!!\n",
    "def feat_extractor(df, col):\n",
    "    \"\"\"\n",
    "    Returns a list of all unique features in a DataFrame columns separated by \"|\"\n",
    "    \"\"\"\n",
    "    df.fillna(\"\", inplace=True)\n",
    "    feat_set = set()\n",
    "    for i in range(len(df[f'{col}'])):\n",
    "        for feat in df[f'{col}'].iloc[i].split('|'):\n",
    "            feat_set.add(feat)\n",
    "    return sorted([feat for feat in feat_set if feat != \"\"])"
   ]
  },
  {
   "cell_type": "code",
   "execution_count": null,
   "metadata": {
    "execution": {
     "iopub.execute_input": "2022-07-07T13:02:12.320451Z",
     "iopub.status.busy": "2022-07-07T13:02:12.319099Z",
     "iopub.status.idle": "2022-07-07T13:02:12.877866Z",
     "shell.execute_reply": "2022-07-07T13:02:12.876638Z",
     "shell.execute_reply.started": "2022-07-07T13:02:12.320385Z"
    }
   },
   "outputs": [],
   "source": [
    "genres = feat_extractor(movies_df, 'genres') # extract genre column from the dataset\n",
    "genres  # genre list"
   ]
  },
  {
   "cell_type": "code",
   "execution_count": null,
   "metadata": {
    "execution": {
     "iopub.execute_input": "2022-07-07T13:02:15.218100Z",
     "iopub.status.busy": "2022-07-07T13:02:15.217715Z",
     "iopub.status.idle": "2022-07-07T13:02:26.273763Z",
     "shell.execute_reply": "2022-07-07T13:02:26.272738Z",
     "shell.execute_reply.started": "2022-07-07T13:02:15.218068Z"
    }
   },
   "outputs": [],
   "source": [
    "def feature_frequency(df, column):\n",
    "    \"\"\"\n",
    "    Function to count the number of occurences of metadata such as genre\n",
    "    Parameters\n",
    "    ----------\n",
    "        df (DataFrame): input DataFrame containing movie metadata\n",
    "        column (str): target column to extract features from\n",
    "    Returns\n",
    "    -------\n",
    "        \n",
    "    \"\"\"\n",
    "    # Creat a dict to store values\n",
    "    df = df.dropna(axis=0)\n",
    "    genre_dict = {f'{column}': list(),\n",
    "                 'count': list(),}\n",
    "    # Retrieve a list of all possible genres\n",
    "    print('retrieving features...')\n",
    "    for movie in range(len(df)):\n",
    "        gens = df[f'{column}'].iloc[movie].split('|')\n",
    "        for gen in gens:\n",
    "            if gen not in genre_dict[f'{column}']:\n",
    "                genre_dict[f'{column}'].append(gen)\n",
    "    # count the number of occurences of each genre\n",
    "    print('counting...')\n",
    "    for genre in genre_dict[f'{column}']:\n",
    "        count = 0\n",
    "        for movie in range(len(df)):\n",
    "            gens = df[f'{column}'].iloc[movie].split('|')\n",
    "            if genre in gens:\n",
    "                count += 1\n",
    "        genre_dict['count'].append(count)\n",
    "        \n",
    "        # Calculate metrics\n",
    "    data = pd.DataFrame(genre_dict)\n",
    "    print('done!')\n",
    "    return data\n",
    "genres = feature_frequency(movies_df, 'genres')"
   ]
  },
  {
   "cell_type": "code",
   "execution_count": null,
   "metadata": {
    "execution": {
     "iopub.execute_input": "2022-07-07T13:02:26.276044Z",
     "iopub.status.busy": "2022-07-07T13:02:26.275149Z",
     "iopub.status.idle": "2022-07-07T13:02:26.282684Z",
     "shell.execute_reply": "2022-07-07T13:02:26.281088Z",
     "shell.execute_reply.started": "2022-07-07T13:02:26.276003Z"
    }
   },
   "outputs": [],
   "source": [
    "def feature_count(df, column):\n",
    "    plt.figure(figsize=(12,6))\n",
    "    ax = sns.barplot(y = df[f'{column}'], x = df['count'], palette='tab10', orient='h')\n",
    "    plt.title(f'Number of Movies Per {column}', fontsize=12)\n",
    "    plt.ylabel(f'{column}')\n",
    "    plt.xlabel('Count')\n",
    "    plt.show()"
   ]
  },
  {
   "cell_type": "code",
   "execution_count": null,
   "metadata": {
    "execution": {
     "iopub.execute_input": "2022-07-07T13:02:28.092400Z",
     "iopub.status.busy": "2022-07-07T13:02:28.091602Z",
     "iopub.status.idle": "2022-07-07T13:02:28.424712Z",
     "shell.execute_reply": "2022-07-07T13:02:28.423430Z",
     "shell.execute_reply.started": "2022-07-07T13:02:28.092350Z"
    }
   },
   "outputs": [],
   "source": [
    "feature_count(genres.sort_values(by = 'count', ascending=False), 'genres')"
   ]
  },
  {
   "cell_type": "markdown",
   "metadata": {},
   "source": [
    "<a id=\"twentysix\"></a>\n",
    "### 3.6 Genre Observations: \n",
    "* There are 19 distinct genres \n",
    "* The majority of the films fall into the drama, comedy, and thriller genres\n",
    "* Dramas account for 23% of the films \n",
    "* Comedies account for 15% of the films \n",
    "* Thrillers account for 8% of the films \n",
    "* The Imax genre accounts for less than 1% of the films in the dataset because it is a relatively new genre and the dataset spans 50 years"
   ]
  },
  {
   "cell_type": "code",
   "execution_count": null,
   "metadata": {
    "execution": {
     "iopub.execute_input": "2022-07-07T13:02:29.968330Z",
     "iopub.status.busy": "2022-07-07T13:02:29.967927Z",
     "iopub.status.idle": "2022-07-07T13:02:29.983344Z",
     "shell.execute_reply": "2022-07-07T13:02:29.981782Z",
     "shell.execute_reply.started": "2022-07-07T13:02:29.968295Z"
    }
   },
   "outputs": [],
   "source": [
    "def mean_calc(feat_df, ratings = eda_df, movies = movies_df, metadata = imdb_df, column = 'genres'):\n",
    "    mean_ratings = pd.DataFrame(ratings.join(movies, on='movieId', how='left').groupby(['movieId'])['rating'].mean())\n",
    "    movie_eda = movies.copy()\n",
    "    movie_eda = movie_eda.join(mean_ratings, on = 'movieId', how = 'left')\n",
    "\n",
    "    # Exclude missing values\n",
    "    movie_eda = movie_eda\n",
    "    movie_eda2 = movie_eda[movie_eda['rating'].notnull()]\n",
    "\n",
    "    means = []\n",
    "    for feat in feat_df[f'{column}']:\n",
    "        mean = round(movie_eda2[movie_eda2[f'{column}'].str.contains(feat)]['rating'].mean(),2)\n",
    "        means.append(mean)\n",
    "    return means"
   ]
  },
  {
   "cell_type": "code",
   "execution_count": null,
   "metadata": {
    "execution": {
     "iopub.execute_input": "2022-07-07T13:02:36.807231Z",
     "iopub.status.busy": "2022-07-07T13:02:36.806042Z",
     "iopub.status.idle": "2022-07-07T13:02:38.836210Z",
     "shell.execute_reply": "2022-07-07T13:02:38.834839Z",
     "shell.execute_reply.started": "2022-07-07T13:02:36.807177Z"
    }
   },
   "outputs": [],
   "source": [
    "genres['mean_rating'] = mean_calc(genres)"
   ]
  },
  {
   "cell_type": "code",
   "execution_count": null,
   "metadata": {
    "execution": {
     "iopub.execute_input": "2022-07-07T13:02:40.387885Z",
     "iopub.status.busy": "2022-07-07T13:02:40.387469Z",
     "iopub.status.idle": "2022-07-07T13:02:40.400383Z",
     "shell.execute_reply": "2022-07-07T13:02:40.399144Z",
     "shell.execute_reply.started": "2022-07-07T13:02:40.387851Z"
    }
   },
   "outputs": [],
   "source": [
    "genres.sort_values('mean_rating', ascending=False).head()"
   ]
  },
  {
   "cell_type": "code",
   "execution_count": null,
   "metadata": {
    "execution": {
     "iopub.execute_input": "2022-07-07T13:02:43.826820Z",
     "iopub.status.busy": "2022-07-07T13:02:43.825809Z",
     "iopub.status.idle": "2022-07-07T13:02:43.835777Z",
     "shell.execute_reply": "2022-07-07T13:02:43.834480Z",
     "shell.execute_reply.started": "2022-07-07T13:02:43.826772Z"
    }
   },
   "outputs": [],
   "source": [
    "def genre_popularity(df):\n",
    "    \"\"\"\n",
    "    Plots the mean rating per genre.\n",
    "    \"\"\"\n",
    "    count_filt = 500\n",
    "    plt.figure(figsize=(10,6))\n",
    "    plot_data = df[df['count']>count_filt]\n",
    "    mean = plot_data['mean_rating'].mean()\n",
    "    min_ = plot_data['mean_rating'].min()\n",
    "    max_ = plot_data['mean_rating'].max()\n",
    "    sns.barplot(y = plot_data['genres'], x = plot_data['mean_rating'], order = plot_data['genres'], orient='h',palette='Set1')\n",
    "    plt.axvline(x=mean, label = f'mean {round(mean,1)}' , color='#898A8B', lw=1, ls ='--')\n",
    "    plt.axvline(x=min_, label = f'min {round(min_,1)}' , color='#898A8B', lw=1, ls = '--') \n",
    "    plt.axvline(x=max_, label = f'max {max_}' , color='#898A8B', lw=1,ls = '--')\n",
    "    plt.title(f'Mean Rating Per Genre', fontsize=14)\n",
    "    plt.ylabel('Genre')\n",
    "    plt.xlabel('Mean Rating')\n",
    "    plt.legend(loc='lower center')\n",
    "    plt.show()"
   ]
  },
  {
   "cell_type": "code",
   "execution_count": null,
   "metadata": {},
   "outputs": [],
   "source": [
    "genre_popularity(genres.sort_values('mean_rating', ascending=False))"
   ]
  },
  {
   "cell_type": "markdown",
   "metadata": {},
   "source": [
    "- The highest average ratings are given to documentaries, while the lowest user mean ratings are given to horror movies.\n",
    "- The ratings are almost evenly distributed With the exception of Documentaries, War, Drama, Musicals, and Romance and Thriller, Action, Sci-Fi, and Horror, which score above average and significantly below average. "
   ]
  },
  {
   "cell_type": "markdown",
   "metadata": {
    "execution": {
     "iopub.execute_input": "2022-07-07T13:02:45.895164Z",
     "iopub.status.busy": "2022-07-07T13:02:45.894375Z",
     "iopub.status.idle": "2022-07-07T13:02:46.248378Z",
     "shell.execute_reply": "2022-07-07T13:02:46.247097Z",
     "shell.execute_reply.started": "2022-07-07T13:02:45.895115Z"
    }
   },
   "source": [
    "<a id=\"twentyseven\"></a>\n",
    "### 3.7 Directors"
   ]
  },
  {
   "cell_type": "markdown",
   "metadata": {},
   "source": [
    "A film director is in charge of the artistic and dramatic aspects of a film, as well as visualizing the screenplay and directing the technical crew and actors in carrying out that vision. The director is responsible for casting, production design, and all creative aspects of filmmaking.\n",
    "\n",
    "Let's take a closer look at the directors who show up frequently in our data."
   ]
  },
  {
   "cell_type": "code",
   "execution_count": null,
   "metadata": {
    "execution": {
     "iopub.execute_input": "2022-07-07T13:06:13.601704Z",
     "iopub.status.busy": "2022-07-07T13:06:13.600880Z",
     "iopub.status.idle": "2022-07-07T13:06:13.619778Z",
     "shell.execute_reply": "2022-07-07T13:06:13.618674Z",
     "shell.execute_reply.started": "2022-07-07T13:06:13.601661Z"
    }
   },
   "outputs": [],
   "source": [
    "def count_directors(df, count = 10):\n",
    "    \"\"\"\n",
    "    Function to count the most common dircetors in a DataFrame:\n",
    "    Parameters\n",
    "    ----------\n",
    "        df (DataFrame): input dataframe containing imdb metadata\n",
    "        count (int): filter directors with fewer than count films\n",
    "        \n",
    "    Returns\n",
    "    -------\n",
    "        directors (DataFrame): output DataFrame\n",
    "    Examples\n",
    "    --------\n",
    "        >>> df = pd.DataFrame({'imdbid':[0,1,2,3,4,5], 'director': [A,B,A,C,B]})\n",
    "        >>> count_directors(df, count = 1)\n",
    "            |index|director|count|\n",
    "            |0|A|2|\n",
    "            |1|B|2|\n",
    "            |2|C|1|\n",
    "    \"\"\"\n",
    "    directors = pd.DataFrame(df['director'].value_counts()).reset_index()\n",
    "    directors.columns = ['director', 'count']\n",
    "    # Lets only take directors who have made 10 or more movies otherwise we will have to analyze 11000 directors\n",
    "    directors = directors[directors['count']>=count]\n",
    "    return directors.sort_values('count', ascending = False)\n",
    "directors = count_directors(imdb_df)"
   ]
  },
  {
   "cell_type": "code",
   "execution_count": null,
   "metadata": {
    "execution": {
     "iopub.execute_input": "2022-07-07T13:06:31.733745Z",
     "iopub.status.busy": "2022-07-07T13:06:31.733025Z",
     "iopub.status.idle": "2022-07-07T13:06:32.021503Z",
     "shell.execute_reply": "2022-07-07T13:06:32.020387Z",
     "shell.execute_reply.started": "2022-07-07T13:06:31.733705Z"
    }
   },
   "outputs": [],
   "source": [
    "feature_count(directors.head(20), 'director') # display the number of movies directed"
   ]
  },
  {
   "cell_type": "markdown",
   "metadata": {},
   "source": [
    "To determine who is the most popular, we must calculate a mean rating for each director."
   ]
  },
  {
   "cell_type": "code",
   "execution_count": null,
   "metadata": {
    "execution": {
     "iopub.execute_input": "2022-07-07T13:06:52.058333Z",
     "iopub.status.busy": "2022-07-07T13:06:52.057933Z",
     "iopub.status.idle": "2022-07-07T13:06:52.065716Z",
     "shell.execute_reply": "2022-07-07T13:06:52.064458Z",
     "shell.execute_reply.started": "2022-07-07T13:06:52.058299Z"
    }
   },
   "outputs": [],
   "source": [
    "# function to display the number of movies and average ratigs for all directors\n",
    "def dir_mean(df):\n",
    "    df.set_index('director', inplace=True)\n",
    "\n",
    "    direct_ratings = []\n",
    "    directors_eda = eda_df.join(imdb_df, on = 'movieId', how = 'left')\n",
    "    for director in df.index:\n",
    "        rating = round(directors_eda[directors_eda['director']==director]['rating'].mean(),2)\n",
    "        direct_ratings.append(rating)\n",
    "    df['mean_rating'] = direct_ratings\n",
    "    return df.sort_values('mean_rating', ascending = False)"
   ]
  },
  {
   "cell_type": "code",
   "execution_count": null,
   "metadata": {
    "execution": {
     "iopub.execute_input": "2022-07-07T13:07:03.649109Z",
     "iopub.status.busy": "2022-07-07T13:07:03.648683Z",
     "iopub.status.idle": "2022-07-07T13:07:31.470110Z",
     "shell.execute_reply": "2022-07-07T13:07:31.468777Z",
     "shell.execute_reply.started": "2022-07-07T13:07:03.649074Z"
    }
   },
   "outputs": [],
   "source": [
    "#Assign the name \"Directors\" to the dataframe that dislays the average ratings for all directors\n",
    "directors = dir_mean(directors) "
   ]
  },
  {
   "cell_type": "code",
   "execution_count": null,
   "metadata": {
    "execution": {
     "iopub.execute_input": "2022-07-07T13:07:31.473114Z",
     "iopub.status.busy": "2022-07-07T13:07:31.472595Z",
     "iopub.status.idle": "2022-07-07T13:07:31.484946Z",
     "shell.execute_reply": "2022-07-07T13:07:31.483738Z",
     "shell.execute_reply.started": "2022-07-07T13:07:31.473061Z"
    }
   },
   "outputs": [],
   "source": [
    "# call \"df head\" to see the top 5 directos \n",
    "directors.head() "
   ]
  },
  {
   "cell_type": "code",
   "execution_count": null,
   "metadata": {},
   "outputs": [],
   "source": []
  },
  {
   "cell_type": "markdown",
   "metadata": {},
   "source": [
    "To ascertain how popular a director is among viewers, we can assess the number of ratings that the director has. This is intuitive as we naturally expect that a director ratings will be proportionate with the viewers approval of the movie."
   ]
  },
  {
   "cell_type": "code",
   "execution_count": null,
   "metadata": {
    "execution": {
     "iopub.execute_input": "2022-07-07T13:08:05.201110Z",
     "iopub.status.busy": "2022-07-07T13:08:05.200376Z",
     "iopub.status.idle": "2022-07-07T13:08:05.209465Z",
     "shell.execute_reply": "2022-07-07T13:08:05.208640Z",
     "shell.execute_reply.started": "2022-07-07T13:08:05.201067Z"
    }
   },
   "outputs": [],
   "source": [
    "def feat_popularity(df, title = 'feat'):\n",
    "    \"\"\"\n",
    "    Plots the mean rating per director.\n",
    "    \"\"\"\n",
    "    plt.figure(figsize=(10,6))\n",
    "    plot_data = df.copy()\n",
    "    mean = plot_data['mean_rating'].mean()\n",
    "    min_ = plot_data['mean_rating'].min()\n",
    "    max_ = round(plot_data['mean_rating'].max(),2)\n",
    "    sns.barplot(y = plot_data.index, x = plot_data['mean_rating'], order = plot_data.index, orient='h',palette='tab20')\n",
    "    plt.axvline(x=mean, label = f'mean {round(mean,1)}' , color='black', lw=1, ls ='--')\n",
    "    plt.axvline(x=min_, label = f'min {round(min_,1)}' , color='#4D17A0', lw=1, ls = '--')\n",
    "    plt.axvline(x=max_, label = f'max {max_}' , color='#4DA017', lw=1,ls = '--')\n",
    "    plt.title(f'Mean Rating Per {title}', fontsize=14)\n",
    "    plt.ylabel(f'{title}')\n",
    "    plt.xlabel('Mean Rating')\n",
    "    plt.legend(loc='lower center')\n",
    "    plt.show()"
   ]
  },
  {
   "cell_type": "code",
   "execution_count": null,
   "metadata": {
    "execution": {
     "iopub.execute_input": "2022-07-07T13:08:24.172697Z",
     "iopub.status.busy": "2022-07-07T13:08:24.172074Z",
     "iopub.status.idle": "2022-07-07T13:08:24.491512Z",
     "shell.execute_reply": "2022-07-07T13:08:24.490137Z",
     "shell.execute_reply.started": "2022-07-07T13:08:24.172659Z"
    }
   },
   "outputs": [],
   "source": [
    "feat_popularity(directors.head(10), 'Director')"
   ]
  },
  {
   "cell_type": "markdown",
   "metadata": {},
   "source": [
    "Many well-known directors come to mind right away; unsurprisingly, Stephen King and Quentin Tarantino are at the top of the list. We must identify the directors with the lowest ratings so that we can examine the dataset in more detail."
   ]
  },
  {
   "cell_type": "code",
   "execution_count": null,
   "metadata": {
    "execution": {
     "iopub.execute_input": "2022-07-07T13:08:48.608452Z",
     "iopub.status.busy": "2022-07-07T13:08:48.608095Z",
     "iopub.status.idle": "2022-07-07T13:08:48.912396Z",
     "shell.execute_reply": "2022-07-07T13:08:48.911141Z",
     "shell.execute_reply.started": "2022-07-07T13:08:48.608423Z"
    }
   },
   "outputs": [],
   "source": [
    "feat_popularity(directors.tail(10),'Director')"
   ]
  },
  {
   "cell_type": "markdown",
   "metadata": {},
   "source": [
    "American producer and director Charles Robert Band is well-known for his work on horror comedies which score the least based on user ratings. It is regrettable that Tyler Perry and Akira Toriyama have such low ratings. The Madea movie franchise is what made Tyler Perry famous. Sequels do not perform well, as we saw from the least popular movies, and Madea has a ton of them."
   ]
  },
  {
   "cell_type": "markdown",
   "metadata": {},
   "source": [
    "<a id=\"twentyeight\"></a>\n",
    "### 3.8 Word cloud Plot "
   ]
  },
  {
   "cell_type": "markdown",
   "metadata": {},
   "source": [
    "Do certain words appear more frequently in movie titles and blurbs? I have a suspicion that some words are regarded as more powerful and deserving of a title. Let's explore!\n",
    "\n",
    "**Plot keywords**\n",
    "\n",
    "Lets have a look at the most frequently occuring plot keywords in the movielens dataset"
   ]
  },
  {
   "cell_type": "code",
   "execution_count": null,
   "metadata": {},
   "outputs": [],
   "source": [
    "# creating the data corpus of the frequently occuring keywords in the movielens dataset\n",
    "movies_df['title'] = movies_df['title'].astype('str')\n",
    "movies_df['genres'] = movies_df['genres'].astype('str')\n",
    "imdb_df['director'] = imdb_df['director'].astype('str')\n",
    "imdb_df['plot_keywords'] = imdb_df['plot_keywords'].astype('str')\n"
   ]
  },
  {
   "cell_type": "code",
   "execution_count": null,
   "metadata": {},
   "outputs": [],
   "source": [
    "title_corpus = ' '.join(movies_df['title'])\n",
    "keyplot_corpus = ' '.join(imdb_df['plot_keywords'])"
   ]
  },
  {
   "cell_type": "code",
   "execution_count": null,
   "metadata": {},
   "outputs": [],
   "source": [
    "# Plot wordcloud for Plot wordcloud\n",
    "title_wordcloud = WordCloud(stopwords=STOPWORDS, random_state=0,background_color='black',colormap='Reds', height=500, width=800).generate(keyplot_corpus)\n",
    "plt.figure(figsize=(16,8))\n",
    "plt.imshow(title_wordcloud)\n",
    "plt.axis('off')\n",
    "plt.show()"
   ]
  },
  {
   "cell_type": "markdown",
   "metadata": {},
   "source": [
    "**Observations:**\n",
    "\n",
    "We can get a good idea of the most common themes in movies from these wordclouds. Keywords like sex, nudity, woman, and murder are common. This is because sex and murder seem to be present in the majority of movies, regardless of their genre."
   ]
  },
  {
   "cell_type": "code",
   "execution_count": null,
   "metadata": {},
   "outputs": [],
   "source": [
    "# Plot moveie titles\n",
    "title_wordcloud = WordCloud(stopwords=STOPWORDS,max_words=1000, random_state=0, background_color='black',colormap='Reds', height=500, width=800).generate(title_corpus)\n",
    "plt.figure(figsize=(16,8))\n",
    "plt.imshow(title_wordcloud)\n",
    "plt.axis('off')\n",
    "plt.show()"
   ]
  },
  {
   "cell_type": "markdown",
   "metadata": {},
   "source": [
    "**Observations:**\n",
    "\n",
    "The most frequent word in movie titles is \"love.\" Among the words that appear the most frequently are Girl, Night,Life, and Man. This, in my opinion, pretty effectively captures the notion of romance's prevalance in movies."
   ]
  },
  {
   "cell_type": "markdown",
   "metadata": {},
   "source": [
    "<a id=\"twentynine\"></a>\n",
    "### 4.0 Pre-processing\n",
    "\n",
    "Before data is used for the purpose of model creation, it must first be converted into a form that is usable by the model algorithm to to generate predictions. The entire process of conversion of this data to a mode that is usable by the model is called pre-processing."
   ]
  },
  {
   "cell_type": "markdown",
   "metadata": {},
   "source": [
    "<a id=\"thirty\"></a>\n",
    "### 4.1 Multidimensional Scaling\n",
    "Multidimensional scaling (MDS) is a technique for visualizing distances between objects on a map, where the distance is known between pairs of the objects.  \n",
    "\"The t-SNE algorithm comprises two main stages. First, t-SNE constructs a probability distribution over pairs of high-dimensional objects in such a way that similar objects have a high probability of being picked, whilst dissimilar points have an extremely small probability of being picked. Second, t-SNE defines a similar probability distribution over the points in the low-dimensional map, and it minimizes the [Kullback–Leibler divergence](https://en.wikipedia.org/wiki/Kullback%E2%80%93Leibler_divergence) between the two distributions with respect to the locations of the points in the map. Note that whilst the original algorithm uses the Euclidean distance between objects as the base of its similarity metric, this should be changed as appropriate.\""
   ]
  },
  {
   "cell_type": "code",
   "execution_count": null,
   "metadata": {
    "execution": {
     "iopub.execute_input": "2022-07-07T13:09:14.241525Z",
     "iopub.status.busy": "2022-07-07T13:09:14.241055Z",
     "iopub.status.idle": "2022-07-07T13:09:14.250480Z",
     "shell.execute_reply": "2022-07-07T13:09:14.249091Z",
     "shell.execute_reply.started": "2022-07-07T13:09:14.241486Z"
    }
   },
   "outputs": [],
   "source": [
    "# Subset the data to cut down computation time for now\n",
    "genome_score = genome_scores[:10000000]"
   ]
  },
  {
   "cell_type": "code",
   "execution_count": null,
   "metadata": {
    "execution": {
     "iopub.execute_input": "2022-07-07T13:09:26.799346Z",
     "iopub.status.busy": "2022-07-07T13:09:26.798920Z",
     "iopub.status.idle": "2022-07-07T13:09:27.333865Z",
     "shell.execute_reply": "2022-07-07T13:09:27.332644Z",
     "shell.execute_reply.started": "2022-07-07T13:09:26.799314Z"
    }
   },
   "outputs": [],
   "source": [
    "# Although scores are in the range of 0-1, there is no harm in scaling\n",
    "scaler_mds = StandardScaler()\n",
    "mds_genome = scaler_mds.fit_transform(genome_score.sample(frac=0.0001))"
   ]
  },
  {
   "cell_type": "markdown",
   "metadata": {},
   "source": [
    "<a id=\"thirty-one\"></a>\n",
    "### 4.2 t-SNE \n",
    "This is a tool to visualize high-dimensional data. It converts similarities between data points to joint probabilities and tries to minimize the Kullback-Leibler divergence between the joint probabilities of the low-dimensional embedding and the high-dimensional data. t-SNE has a cost function that is not convex, i.e. with different initializations we can get different results. The code bolow implements t-SNE on the data."
   ]
  },
  {
   "cell_type": "code",
   "execution_count": null,
   "metadata": {
    "execution": {
     "iopub.execute_input": "2022-07-07T13:09:38.218168Z",
     "iopub.status.busy": "2022-07-07T13:09:38.217789Z",
     "iopub.status.idle": "2022-07-07T13:09:38.224696Z",
     "shell.execute_reply": "2022-07-07T13:09:38.223374Z",
     "shell.execute_reply.started": "2022-07-07T13:09:38.218139Z"
    }
   },
   "outputs": [],
   "source": [
    "tsne = TSNE(3, n_jobs = -1, verbose = 2, perplexity = 10, learning_rate = 0.1)"
   ]
  },
  {
   "cell_type": "code",
   "execution_count": null,
   "metadata": {
    "execution": {
     "iopub.execute_input": "2022-07-07T13:09:51.110660Z",
     "iopub.status.busy": "2022-07-07T13:09:51.110251Z",
     "iopub.status.idle": "2022-07-07T13:09:58.079183Z",
     "shell.execute_reply": "2022-07-07T13:09:58.077880Z",
     "shell.execute_reply.started": "2022-07-07T13:09:51.110628Z"
    }
   },
   "outputs": [],
   "source": [
    "tsne.fit(mds_genome)"
   ]
  },
  {
   "cell_type": "code",
   "execution_count": null,
   "metadata": {
    "execution": {
     "iopub.execute_input": "2022-07-07T13:10:56.652216Z",
     "iopub.status.busy": "2022-07-07T13:10:56.651831Z",
     "iopub.status.idle": "2022-07-07T13:10:56.927945Z",
     "shell.execute_reply": "2022-07-07T13:10:56.926827Z",
     "shell.execute_reply.started": "2022-07-07T13:10:56.652183Z"
    }
   },
   "outputs": [],
   "source": [
    "Axes3D\n",
    "\n",
    "fig = plt.figure(figsize=(15, 8))\n",
    "\n",
    "# Add 3D scatter plot\n",
    "ax = fig.add_subplot(projection='3d')\n",
    "ax.scatter(tsne.embedding_[:,0], tsne.embedding_[:,1], tsne.embedding_[:,2], color='#4D17A0')\n",
    "plt.show()"
   ]
  },
  {
   "cell_type": "code",
   "execution_count": null,
   "metadata": {
    "execution": {
     "iopub.execute_input": "2022-07-07T13:11:26.369073Z",
     "iopub.status.busy": "2022-07-07T13:11:26.367702Z",
     "iopub.status.idle": "2022-07-07T13:11:26.743637Z",
     "shell.execute_reply": "2022-07-07T13:11:26.742524Z",
     "shell.execute_reply.started": "2022-07-07T13:11:26.369015Z"
    }
   },
   "outputs": [],
   "source": [
    "fig = plt.figure(figsize=(8, 6))\n",
    "sns.scatterplot(x = tsne.embedding_[:,0], y = tsne.embedding_[:,1], size=tsne.embedding_[:,2],color='#4DA017')\n",
    "plt.show()"
   ]
  },
  {
   "cell_type": "markdown",
   "metadata": {},
   "source": [
    "<a id=\"thirty-two\"></a>\n",
    "### 4.3 Principal Component Analysis\n",
    "Principal component analysis (PCA) is a technique for reducing the dimensionality of such datasets, increasing interpretability but at the same time minimizing information loss. It does so by creating new uncorrelated variables that successively maximize variance. [[4]](#ref4)"
   ]
  },
  {
   "cell_type": "code",
   "execution_count": null,
   "metadata": {
    "execution": {
     "iopub.execute_input": "2022-07-07T13:11:45.252762Z",
     "iopub.status.busy": "2022-07-07T13:11:45.252078Z",
     "iopub.status.idle": "2022-07-07T13:11:45.259133Z",
     "shell.execute_reply": "2022-07-07T13:11:45.257885Z",
     "shell.execute_reply.started": "2022-07-07T13:11:45.252720Z"
    }
   },
   "outputs": [],
   "source": [
    "# Manually pivot table as data is too large for in-built functions\n",
    "def pivot_(df):\n",
    "    \"\"\"\n",
    "    Pivots table.\n",
    "    \"\"\"\n",
    "    new_dict = {'movieId':sorted(set(df.index))}\n",
    "    pivoted = pd.DataFrame(new_dict)\n",
    "    tagids = sorted(set(df['tagId']))\n",
    "    for Id in range(len(tagids)):\n",
    "        pivoted[f'{Id+1}'] = list(df[df['tagId'] == Id+1]['relevance'])\n",
    "    return pivoted"
   ]
  },
  {
   "cell_type": "code",
   "execution_count": null,
   "metadata": {
    "execution": {
     "iopub.execute_input": "2022-07-07T13:11:58.097889Z",
     "iopub.status.busy": "2022-07-07T13:11:58.097504Z",
     "iopub.status.idle": "2022-07-07T13:12:23.634821Z",
     "shell.execute_reply": "2022-07-07T13:12:23.633451Z",
     "shell.execute_reply.started": "2022-07-07T13:11:58.097859Z"
    }
   },
   "outputs": [],
   "source": [
    "# Assign the a variable name to the pivot\n",
    "pca_data_pivoted = pivot_(genome_scores).set_index('movieId')"
   ]
  },
  {
   "cell_type": "code",
   "execution_count": null,
   "metadata": {
    "execution": {
     "iopub.execute_input": "2022-07-07T13:12:31.983849Z",
     "iopub.status.busy": "2022-07-07T13:12:31.983394Z",
     "iopub.status.idle": "2022-07-07T13:12:31.993297Z",
     "shell.execute_reply": "2022-07-07T13:12:31.991947Z",
     "shell.execute_reply.started": "2022-07-07T13:12:31.983806Z"
    }
   },
   "outputs": [],
   "source": [
    "# Check the Number of rows and columns of the pivot data frame\n",
    "pca_data_pivoted.shape"
   ]
  },
  {
   "cell_type": "code",
   "execution_count": null,
   "metadata": {
    "execution": {
     "iopub.execute_input": "2022-07-07T13:12:53.413895Z",
     "iopub.status.busy": "2022-07-07T13:12:53.413445Z",
     "iopub.status.idle": "2022-07-07T13:12:53.419834Z",
     "shell.execute_reply": "2022-07-07T13:12:53.418733Z",
     "shell.execute_reply.started": "2022-07-07T13:12:53.413851Z"
    }
   },
   "outputs": [],
   "source": [
    "pca_data_pivoted.columns = list(genome_tags['tag'])"
   ]
  },
  {
   "cell_type": "code",
   "execution_count": null,
   "metadata": {
    "execution": {
     "iopub.execute_input": "2022-07-07T13:13:07.379769Z",
     "iopub.status.busy": "2022-07-07T13:13:07.378671Z",
     "iopub.status.idle": "2022-07-07T13:13:07.421361Z",
     "shell.execute_reply": "2022-07-07T13:13:07.420195Z",
     "shell.execute_reply.started": "2022-07-07T13:13:07.379726Z"
    }
   },
   "outputs": [],
   "source": [
    "# Observe the 1st 5 rows of the pivot dataframe\n",
    "pca_data_pivoted.head()"
   ]
  },
  {
   "cell_type": "code",
   "execution_count": null,
   "metadata": {
    "execution": {
     "iopub.execute_input": "2022-07-07T13:13:33.174740Z",
     "iopub.status.busy": "2022-07-07T13:13:33.174231Z",
     "iopub.status.idle": "2022-07-07T13:13:33.180247Z",
     "shell.execute_reply": "2022-07-07T13:13:33.179439Z",
     "shell.execute_reply.started": "2022-07-07T13:13:33.174699Z"
    }
   },
   "outputs": [],
   "source": [
    "features = [col for col in pca_data_pivoted.columns]"
   ]
  },
  {
   "cell_type": "markdown",
   "metadata": {},
   "source": [
    "#### Scales of measurement\n",
    "It is important that we scale the data before dimensionality reduction.\n",
    "Although all variables are measured on the same scale (0-1), there shouldn't be any downside to setting the mean to zero and standard deviation to 1"
   ]
  },
  {
   "cell_type": "code",
   "execution_count": null,
   "metadata": {
    "execution": {
     "iopub.execute_input": "2022-07-07T13:14:03.192524Z",
     "iopub.status.busy": "2022-07-07T13:14:03.191670Z",
     "iopub.status.idle": "2022-07-07T13:14:06.046522Z",
     "shell.execute_reply": "2022-07-07T13:14:06.044669Z",
     "shell.execute_reply.started": "2022-07-07T13:14:03.192473Z"
    }
   },
   "outputs": [],
   "source": [
    "cf.set_config_file(offline=True, world_readable=True, theme='white')\n",
    "columns = random.sample(range(0, 1129), 20)\n",
    "pca_data_pivoted.iloc[:,columns].iplot(kind='box', title=\"Boxplots of Features (Unscaled)\")"
   ]
  },
  {
   "cell_type": "markdown",
   "metadata": {},
   "source": [
    "The function below takes in a dataframe as an input and scales and returns the inputed data frame"
   ]
  },
  {
   "cell_type": "code",
   "execution_count": null,
   "metadata": {
    "execution": {
     "iopub.execute_input": "2022-07-07T13:17:41.163331Z",
     "iopub.status.busy": "2022-07-07T13:17:41.162914Z",
     "iopub.status.idle": "2022-07-07T13:17:41.168492Z",
     "shell.execute_reply": "2022-07-07T13:17:41.167658Z",
     "shell.execute_reply.started": "2022-07-07T13:17:41.163296Z"
    }
   },
   "outputs": [],
   "source": [
    "def scaler(df):\n",
    "    \"\"\"\n",
    "    Scales data.\n",
    "    \"\"\"\n",
    "    scaler = StandardScaler(with_std=True)\n",
    "    scaled_data = scaler.fit_transform(df)\n",
    "    return scaled_data"
   ]
  },
  {
   "cell_type": "code",
   "execution_count": null,
   "metadata": {
    "execution": {
     "iopub.execute_input": "2022-07-07T13:17:51.328150Z",
     "iopub.status.busy": "2022-07-07T13:17:51.327041Z",
     "iopub.status.idle": "2022-07-07T13:17:51.565521Z",
     "shell.execute_reply": "2022-07-07T13:17:51.564273Z",
     "shell.execute_reply.started": "2022-07-07T13:17:51.328106Z"
    }
   },
   "outputs": [],
   "source": [
    "pca_scaled = scaler(pca_data_pivoted)"
   ]
  },
  {
   "cell_type": "code",
   "execution_count": null,
   "metadata": {
    "execution": {
     "iopub.execute_input": "2022-07-07T13:18:03.058841Z",
     "iopub.status.busy": "2022-07-07T13:18:03.057933Z",
     "iopub.status.idle": "2022-07-07T13:18:03.064081Z",
     "shell.execute_reply": "2022-07-07T13:18:03.062915Z",
     "shell.execute_reply.started": "2022-07-07T13:18:03.058803Z"
    }
   },
   "outputs": [],
   "source": [
    "scaled_pca = pd.DataFrame(pca_scaled, index = pca_data_pivoted.index, columns = pca_data_pivoted.columns)"
   ]
  },
  {
   "cell_type": "code",
   "execution_count": null,
   "metadata": {
    "execution": {
     "iopub.execute_input": "2022-07-07T13:18:18.454944Z",
     "iopub.status.busy": "2022-07-07T13:18:18.454460Z",
     "iopub.status.idle": "2022-07-07T13:18:21.494119Z",
     "shell.execute_reply": "2022-07-07T13:18:21.492775Z",
     "shell.execute_reply.started": "2022-07-07T13:18:18.454903Z"
    }
   },
   "outputs": [],
   "source": [
    "cf.set_config_file(offline=True, world_readable=True, theme='white')\n",
    "# using plotly to plot the boxplot\n",
    "scaled_pca.iloc[:,columns].iplot(kind='box', title=\"Boxplots of Features (Scaled)\")"
   ]
  },
  {
   "cell_type": "code",
   "execution_count": null,
   "metadata": {
    "execution": {
     "iopub.execute_input": "2022-07-07T13:18:42.737790Z",
     "iopub.status.busy": "2022-07-07T13:18:42.737355Z",
     "iopub.status.idle": "2022-07-07T13:18:46.491707Z",
     "shell.execute_reply": "2022-07-07T13:18:46.490693Z",
     "shell.execute_reply.started": "2022-07-07T13:18:42.737751Z"
    }
   },
   "outputs": [],
   "source": [
    "# define PCA object\n",
    "pca = PCA()\n",
    "\n",
    "# fit the PCA model to our data and apply the dimensionality reduction \n",
    "prin_comp = pca.fit_transform(pca_data_pivoted[features])\n",
    "\n",
    "# create a dataframe containing the principal components\n",
    "pca_df = pd.DataFrame(data = prin_comp,\n",
    "                      index=pca_data_pivoted.index, columns=pca_data_pivoted.columns\n",
    "                     )\n",
    "\n",
    "# plot line graph of cumulative variance explained\n",
    "plt.plot(np.cumsum(pca.explained_variance_ratio_),color='#4D17A0')\n",
    "plt.xlabel('Number of components')\n",
    "plt.ylabel('Cumulative explained variance')"
   ]
  },
  {
   "cell_type": "code",
   "execution_count": null,
   "metadata": {
    "execution": {
     "iopub.execute_input": "2022-07-07T13:19:10.895895Z",
     "iopub.status.busy": "2022-07-07T13:19:10.895483Z",
     "iopub.status.idle": "2022-07-07T13:19:14.364579Z",
     "shell.execute_reply": "2022-07-07T13:19:14.362972Z",
     "shell.execute_reply.started": "2022-07-07T13:19:10.895862Z"
    }
   },
   "outputs": [],
   "source": [
    "# Create a dataframe with the 131 principal components\n",
    "pca_75 = PCA(.80)\n",
    "pca_75_df = pca_75.fit_transform(pca_data_pivoted)\n",
    "print(round(pca_75.explained_variance_ratio_.sum()*100, 1),\n",
    "      \"% of variance explained by\",\n",
    "      pca_75.n_components_,\n",
    "      \"components.\")"
   ]
  },
  {
   "cell_type": "markdown",
   "metadata": {},
   "source": [
    "Note that 80% of the variance is explained by 131 0f the over 1000 components.\n",
    "The cummulative explained variance shows an initially steep then gradual curve and not the sharp elbow we were expecting. This could be a result of the genomes already having been chosen as the principle components of movies. However we can see that 80% of the variance in the movie dataset is explained by 131 components. We should use only these components for computatonal efficiency in a content based model"
   ]
  },
  {
   "cell_type": "code",
   "execution_count": null,
   "metadata": {
    "execution": {
     "iopub.execute_input": "2022-07-07T13:19:24.732726Z",
     "iopub.status.busy": "2022-07-07T13:19:24.731661Z",
     "iopub.status.idle": "2022-07-07T13:19:24.767745Z",
     "shell.execute_reply": "2022-07-07T13:19:24.766574Z",
     "shell.execute_reply.started": "2022-07-07T13:19:24.732688Z"
    }
   },
   "outputs": [],
   "source": [
    "pca_75_df = pd.DataFrame(pca_75_df, index = pca_data_pivoted.index)\n",
    "pca_75_df.head()"
   ]
  },
  {
   "cell_type": "markdown",
   "metadata": {},
   "source": [
    "<a id=\"thirty-three\"></a>\n",
    "### 4.4 Cluster Analysis\n",
    "For each value of K, we calculatie  the WCSS ( Within-Cluster Sum of Square ). WCSS is the sum of squared distance between each point and the centroid in a cluster. When we plot the WCSS with the K value, the plot looks like an Elbow. As the number of clusters increases, the WCSS value will start to decrease. WCSS value is largest when K = 1. When we analyze the graph we can see that the graph will rapidly change at a point and thus creating an elbow shape. From this point, the graph starts to move almost parallel to the X-axis. The K value corresponding to this point is the optimal K value or an optimal number of clusters."
   ]
  },
  {
   "cell_type": "code",
   "execution_count": null,
   "metadata": {
    "execution": {
     "iopub.execute_input": "2022-07-07T13:19:47.737954Z",
     "iopub.status.busy": "2022-07-07T13:19:47.737522Z",
     "iopub.status.idle": "2022-07-07T13:19:47.745119Z",
     "shell.execute_reply": "2022-07-07T13:19:47.743986Z",
     "shell.execute_reply.started": "2022-07-07T13:19:47.737924Z"
    }
   },
   "outputs": [],
   "source": [
    "# Manually implement the WCSS\n",
    "def within_cluster_variation(df, label_col='cluster_label'):\n",
    "    \"\"\"\n",
    "    Manually implements the WCSS.\n",
    "    \"\"\"\n",
    "    centroids = df.groupby(label_col).mean()\n",
    "    out = 0\n",
    "    for label, point in centroids.iterrows():\n",
    "        df_features = df[df[label_col] == label].drop(label_col, axis=1)\n",
    "        out += (df_features - point).pow(2).sum(axis=1).sum()\n",
    "    return out"
   ]
  },
  {
   "cell_type": "code",
   "execution_count": null,
   "metadata": {
    "execution": {
     "iopub.execute_input": "2022-07-07T13:20:02.840238Z",
     "iopub.status.busy": "2022-07-07T13:20:02.839495Z",
     "iopub.status.idle": "2022-07-07T13:20:45.570228Z",
     "shell.execute_reply": "2022-07-07T13:20:45.568231Z",
     "shell.execute_reply.started": "2022-07-07T13:20:02.840190Z"
    }
   },
   "outputs": [],
   "source": [
    "# let's try everything between 2 and 18 clusters where 18 is the number of genres\n",
    "n_clusters = np.arange(2, 19)\n",
    "\n",
    "# store errors for each value of k\n",
    "errors = []\n",
    "\n",
    "# for i between 2 and 19\n",
    "for k in n_clusters:\n",
    "    print(f'training model with {k} clusters')\n",
    "    # perform k-means clustering\n",
    "    km = KMeans(n_clusters=k, n_init=10, max_iter=300, random_state=42)\n",
    "    km.fit(pca_75_df)\n",
    "    \n",
    "    # measure BCSS\n",
    "    print(f'evaluating model with {k} clusters')\n",
    "    y_preds = km.predict(pca_75_df)\n",
    "    pca_75_df = pd.DataFrame(pca_75_df)\n",
    "    pca_75_df['cluster_label'] = y_preds\n",
    "    errors.append(within_cluster_variation(pca_75_df, 'cluster_label'))\n",
    "    print(errors[-1])"
   ]
  },
  {
   "cell_type": "code",
   "execution_count": null,
   "metadata": {
    "execution": {
     "iopub.execute_input": "2022-07-07T13:20:45.572848Z",
     "iopub.status.busy": "2022-07-07T13:20:45.572127Z",
     "iopub.status.idle": "2022-07-07T13:20:45.906869Z",
     "shell.execute_reply": "2022-07-07T13:20:45.905633Z",
     "shell.execute_reply.started": "2022-07-07T13:20:45.572794Z"
    }
   },
   "outputs": [],
   "source": [
    "plt.figure(figsize=(12,8))\n",
    "plt.xlabel('Number of Clusters (k)')\n",
    "plt.ylabel('Within-Cluster Sum of Squares (WCSS)')\n",
    "plt.title('Elbow Method for Determining Optimal Value of k')\n",
    "plt.scatter(n_clusters, errors, color=\"#4DA017\")\n",
    "plt.plot(n_clusters, errors)\n",
    "plt.xticks(n_clusters)\n",
    "plt.axvline(x=3, color='#4D17A0', lw=2)\n",
    "plt.show()"
   ]
  },
  {
   "cell_type": "markdown",
   "metadata": {},
   "source": [
    "From the cluster analysis, we can see that the elbow falls at the point where K is equal to 3. the Optimal value of K is therefore set at 3."
   ]
  },
  {
   "cell_type": "code",
   "execution_count": null,
   "metadata": {
    "execution": {
     "iopub.execute_input": "2022-07-07T13:21:16.812579Z",
     "iopub.status.busy": "2022-07-07T13:21:16.812091Z",
     "iopub.status.idle": "2022-07-07T13:21:18.323072Z",
     "shell.execute_reply": "2022-07-07T13:21:18.322077Z",
     "shell.execute_reply.started": "2022-07-07T13:21:16.812523Z"
    }
   },
   "outputs": [],
   "source": [
    "K = 3\n",
    "# Remember to set the random state for reproducibility\n",
    "km = KMeans(n_clusters=K, verbose=0, random_state=42)\n",
    "print(\"Clustering sparse data with %s\" % km)\n",
    "t0 = time()\n",
    "km.fit(pca_75_df)\n",
    "print(\"done in %0.3fs\" % (time() - t0))"
   ]
  },
  {
   "cell_type": "code",
   "execution_count": null,
   "metadata": {
    "execution": {
     "iopub.execute_input": "2022-07-07T13:21:35.597465Z",
     "iopub.status.busy": "2022-07-07T13:21:35.596775Z",
     "iopub.status.idle": "2022-07-07T13:21:35.620417Z",
     "shell.execute_reply": "2022-07-07T13:21:35.619405Z",
     "shell.execute_reply.started": "2022-07-07T13:21:35.597431Z"
    }
   },
   "outputs": [],
   "source": [
    "# Obtain cluster memberships for each item in the data\n",
    "y_preds = km.predict(pca_75_df)\n",
    "pca_75_df['cluster_label'] = y_preds\n",
    "centers = km.cluster_centers_"
   ]
  },
  {
   "cell_type": "code",
   "execution_count": null,
   "metadata": {
    "execution": {
     "iopub.execute_input": "2022-07-07T13:21:50.227307Z",
     "iopub.status.busy": "2022-07-07T13:21:50.226680Z",
     "iopub.status.idle": "2022-07-07T13:21:51.080989Z",
     "shell.execute_reply": "2022-07-07T13:21:51.079194Z",
     "shell.execute_reply.started": "2022-07-07T13:21:50.227271Z"
    }
   },
   "outputs": [],
   "source": [
    "plt.figure(dpi=120)\n",
    "for k in range(K):\n",
    "    x1 = pca_75_df[pca_75_df['cluster_label'] == k][0]\n",
    "    x2 = pca_75_df[pca_75_df['cluster_label'] == k][1]\n",
    "    plt.scatter(x1, x2, label=\"k = \"+str(k+1),alpha=0.75)\n",
    "# Show cluster centroid locations    \n",
    "plt.scatter(centers[:,0],centers[:,1],label=\"centroid\")\n",
    "plt.legend()\n",
    "plt.title(f\"K = {K}\")\n",
    "plt.xlabel('Feature 1')\n",
    "plt.ylabel('Feature 2')\n",
    "plt.show()"
   ]
  },
  {
   "cell_type": "markdown",
   "metadata": {},
   "source": [
    "<a id=\"thirty-four\"></a>\n",
    "### 5.0 Modelling\n",
    "\n",
    "To reduce computation time, we train and evaluate the following models on a 100k subset of the data. The best performing model will be trained on the whole dataset to predict the ratings for the final submission file."
   ]
  },
  {
   "cell_type": "code",
   "execution_count": null,
   "metadata": {
    "execution": {
     "iopub.execute_input": "2022-07-07T13:22:11.151595Z",
     "iopub.status.busy": "2022-07-07T13:22:11.150881Z",
     "iopub.status.idle": "2022-07-07T13:22:11.544007Z",
     "shell.execute_reply": "2022-07-07T13:22:11.543141Z",
     "shell.execute_reply.started": "2022-07-07T13:22:11.151557Z"
    }
   },
   "outputs": [],
   "source": [
    "# Load the 100k dataset\n",
    "train_df.drop('timestamp', axis=1, inplace=True)\n",
    "train_subset = train_df[:100000]\n",
    "reader = Reader(rating_scale=(train_subset['rating'].min(), train_subset['rating'].max()))\n",
    "data = Dataset.load_from_df(train_subset[['userId', 'movieId', 'rating']], reader)\n",
    "trainset, testset = train_test_split(data, test_size=.25, random_state=42)"
   ]
  },
  {
   "cell_type": "markdown",
   "metadata": {},
   "source": [
    "<a id=\"thirty-five\"></a>\n",
    "### 5.1 Collaborative Filtering\n",
    "\n",
    "Collaborative filtering is a technique that can filter out items that a user might like on the basis of reactions by similar users. It works by searching a large group of people and finding a smaller set of users with tastes similar to a particular user [[5]](#ref5).\n",
    "\n",
    "<a id=\"thirty-six\"></a>\n",
    "#### 5.1.2 SVD\n",
    "\n",
    "The Singular Value Decomposition algorithm is a matrix factorization technique which reduces the number of features of a dataset and was popularized by Simon Funk during the [Neflix Prize](https://en.wikipedia.org/wiki/Netflix_Prize) contest [[6]](#ref6). In the matrix structure, each row represents a user and each column represents a movie. The matrix elements are ratings that are given to movies by users."
   ]
  },
  {
   "cell_type": "code",
   "execution_count": null,
   "metadata": {
    "execution": {
     "iopub.execute_input": "2022-07-07T13:22:30.823791Z",
     "iopub.status.busy": "2022-07-07T13:22:30.822991Z",
     "iopub.status.idle": "2022-07-07T13:22:43.916717Z",
     "shell.execute_reply": "2022-07-07T13:22:43.915208Z",
     "shell.execute_reply.started": "2022-07-07T13:22:30.823738Z"
    }
   },
   "outputs": [],
   "source": [
    "svd_test = SVD(n_epochs = 30, n_factors = 200, init_std_dev = 0.05, random_state=42)\n",
    "svd_test.fit(trainset)\n",
    "predictions = svd_test.test(testset)\n",
    "# Calculate RMSE\n",
    "svd_rmse = accuracy.rmse(predictions)"
   ]
  },
  {
   "cell_type": "markdown",
   "metadata": {},
   "source": [
    "<a id=\"thirty-seven\"></a>\n",
    "#### 5.1.3 NormalPredictor  \n",
    "The Normal Predictor algorithm predicts a random rating for each movie based on the distribution of the training set, which is assumed to be normal."
   ]
  },
  {
   "cell_type": "code",
   "execution_count": null,
   "metadata": {
    "execution": {
     "iopub.execute_input": "2022-07-07T13:23:33.635553Z",
     "iopub.status.busy": "2022-07-07T13:23:33.635068Z",
     "iopub.status.idle": "2022-07-07T13:23:34.181240Z",
     "shell.execute_reply": "2022-07-07T13:23:34.180047Z",
     "shell.execute_reply.started": "2022-07-07T13:23:33.635497Z"
    }
   },
   "outputs": [],
   "source": [
    "np_test = NormalPredictor()\n",
    "np_test.fit(trainset)\n",
    "predictions = np_test.test(testset)\n",
    "# Calculate RMSE\n",
    "np_rmse = accuracy.rmse(predictions)"
   ]
  },
  {
   "cell_type": "markdown",
   "metadata": {},
   "source": [
    "<a id=\"thirty-eight\"></a>\n",
    "#### 5.1.4 BaselineOnly  \n",
    "The Baseline Only algorithm predicts the baseline estimate for a given user and movie. A baseline is calculated using either Stochastic Gradient Descent (SGD) or Alternating Least Squares (ALS)."
   ]
  },
  {
   "cell_type": "code",
   "execution_count": null,
   "metadata": {
    "execution": {
     "iopub.execute_input": "2022-07-07T13:23:56.517735Z",
     "iopub.status.busy": "2022-07-07T13:23:56.517011Z",
     "iopub.status.idle": "2022-07-07T13:23:57.950259Z",
     "shell.execute_reply": "2022-07-07T13:23:57.949100Z",
     "shell.execute_reply.started": "2022-07-07T13:23:56.517699Z"
    }
   },
   "outputs": [],
   "source": [
    "bsl_options = {'method': 'sgd','n_epochs': 40}\n",
    "blo_test = BaselineOnly(bsl_options=bsl_options)\n",
    "blo_test.fit(trainset)\n",
    "predictions = blo_test.test(testset)\n",
    "# Calculate RMSE\n",
    "blo_rmse = accuracy.rmse(predictions)"
   ]
  },
  {
   "cell_type": "markdown",
   "metadata": {},
   "source": [
    "<a id=\"thirty-nine\"></a>\n",
    "#### 5.1.5 NMF  \n",
    "NMF is a collaborative filtering algorithm based on Non-negative Matrix Factorization. The optimization procedure is a (regularized) stochastic gradient descent with a specific choice of step size that ensures non-negativity of factors, provided that their initial values are also positive."
   ]
  },
  {
   "cell_type": "code",
   "execution_count": null,
   "metadata": {
    "execution": {
     "iopub.execute_input": "2022-07-07T13:24:10.560003Z",
     "iopub.status.busy": "2022-07-07T13:24:10.559619Z",
     "iopub.status.idle": "2022-07-07T13:24:20.184083Z",
     "shell.execute_reply": "2022-07-07T13:24:20.183182Z",
     "shell.execute_reply.started": "2022-07-07T13:24:10.559974Z"
    }
   },
   "outputs": [],
   "source": [
    "nmf_test = NMF()\n",
    "nmf_test.fit(trainset)\n",
    "predictions = nmf_test.test(testset)\n",
    "# Calculate RMSE\n",
    "nmf_rmse = accuracy.rmse(predictions)"
   ]
  },
  {
   "cell_type": "markdown",
   "metadata": {},
   "source": [
    "<a id=\"thirty-nine\"></a>\n",
    "#### 5.1.6 SlopeOne  \n",
    "The SlopeOne algorithm is a simple yet accurate collaborative filtering algorithm that uses a simple linear regression model to solve the data sparisity problem. "
   ]
  },
  {
   "cell_type": "code",
   "execution_count": null,
   "metadata": {
    "execution": {
     "iopub.execute_input": "2022-07-07T13:24:21.256235Z",
     "iopub.status.busy": "2022-07-07T13:24:21.255644Z",
     "iopub.status.idle": "2022-07-07T13:24:24.832661Z",
     "shell.execute_reply": "2022-07-07T13:24:24.831503Z",
     "shell.execute_reply.started": "2022-07-07T13:24:21.256202Z"
    }
   },
   "outputs": [],
   "source": [
    "slo_test = SlopeOne()\n",
    "slo_test.fit(trainset)\n",
    "predictions = slo_test.test(testset)\n",
    "# Calculate RMSE\n",
    "slo_rmse = accuracy.rmse(predictions)"
   ]
  },
  {
   "cell_type": "markdown",
   "metadata": {},
   "source": [
    "<a id=\"fourty\"></a>\n",
    "#### 5.1.7 CoClustering  \n",
    "The Co-clustering algorithm assigns clusters using a straightforward optimization method, much like k-means."
   ]
  },
  {
   "cell_type": "code",
   "execution_count": null,
   "metadata": {
    "execution": {
     "iopub.execute_input": "2022-07-07T13:24:38.866419Z",
     "iopub.status.busy": "2022-07-07T13:24:38.866045Z",
     "iopub.status.idle": "2022-07-07T13:24:45.171104Z",
     "shell.execute_reply": "2022-07-07T13:24:45.169688Z",
     "shell.execute_reply.started": "2022-07-07T13:24:38.866390Z"
    }
   },
   "outputs": [],
   "source": [
    "cc_test = CoClustering(random_state=42)\n",
    "cc_test.fit(trainset)\n",
    "predictions = cc_test.test(testset)\n",
    "# Calculate RMSE\n",
    "cc_rmse = accuracy.rmse(predictions)"
   ]
  },
  {
   "cell_type": "markdown",
   "metadata": {},
   "source": [
    "<a id=\"fourty-one\"></a>\n",
    "### 5.2 Content-based Filtering  \n",
    "Content-based filtering, also referred to as cognitive filtering, recommends items based on a comparison between the content of the items and a user profile. The content of each item is represented as a set of descriptors or terms, typically the words that occur in a document [[7]](#ref7). In the following section, the model uses genres as keywords to recommend similar movies based on input from a user. The model was not used to predict ratings for the testing data, as it is too computationally expensive."
   ]
  },
  {
   "cell_type": "code",
   "execution_count": null,
   "metadata": {
    "execution": {
     "iopub.execute_input": "2022-07-07T13:25:05.424015Z",
     "iopub.status.busy": "2022-07-07T13:25:05.423639Z",
     "iopub.status.idle": "2022-07-07T13:25:05.436464Z",
     "shell.execute_reply": "2022-07-07T13:25:05.435239Z",
     "shell.execute_reply.started": "2022-07-07T13:25:05.423986Z"
    }
   },
   "outputs": [],
   "source": [
    "def data_preprocessing(subset_size):\n",
    "    \"\"\"Prepare data for use within Content filtering algorithm.\n",
    "\n",
    "    Parameters\n",
    "    ----------\n",
    "    subset_size : int\n",
    "        Number of movies to use within the algorithm.\n",
    "\n",
    "    Returns\n",
    "    -------\n",
    "    Pandas Dataframe\n",
    "        Subset of movies selected for content-based filtering.\n",
    "\n",
    "    \"\"\"\n",
    "    # Split genre data into individual words.\n",
    "    movies['keyWords'] = movies['genres'].str.replace('|', ' ')\n",
    "    # Subset of the data\n",
    "    movies_subset = movies[:subset_size]\n",
    "    return movies_subset\n",
    " \n",
    "def content_model(movie_list,top_n=10): \n",
    "    \"\"\"Performs Content filtering based upon a list of movies supplied\n",
    "       by the app user.\n",
    "\n",
    "    Parameters\n",
    "    ----------\n",
    "    movie_list : list (str)\n",
    "        Favorite movies chosen by the app user.\n",
    "    top_n : type\n",
    "        Number of top recommendations to return to the user.\n",
    "\n",
    "    Returns\n",
    "    -------\n",
    "    list (str)\n",
    "        Titles of the top-n movie recommendations to the user.\n",
    "\n",
    "    \"\"\"\n",
    "    # Initializing the empty list of recommended movies\n",
    "    data = data_preprocessing(2000)\n",
    "    # Instantiating and generating the count matrix\n",
    "    count_vec = CountVectorizer()\n",
    "    count_matrix = count_vec.fit_transform(data['keyWords'])\n",
    "    indices = pd.Series(data['title'])\n",
    "    cosine_sim = cosine_similarity(count_matrix, count_matrix)\n",
    "    cosine_sim = pd.DataFrame(cosine_sim, index = data.index, columns = data.index)\n",
    "    # Getting the index of the movie that matches the title\n",
    "    idx_1 = indices[indices == movie_list[0]].index[0]\n",
    "    idx_2 = indices[indices == movie_list[1]].index[0]\n",
    "    idx_3 = indices[indices == movie_list[2]].index[0]\n",
    "    # Creating a Series with the similarity scores in descending order\n",
    "    rank_1 = cosine_sim[idx_1]\n",
    "    rank_2 = cosine_sim[idx_2]\n",
    "    rank_3 = cosine_sim[idx_3]\n",
    "    # Calculating the scores\n",
    "    score_series_1 = pd.Series(rank_1).sort_values(ascending = False)\n",
    "    score_series_2 = pd.Series(rank_2).sort_values(ascending = False)\n",
    "    score_series_3 = pd.Series(rank_3).sort_values(ascending = False)\n",
    "    # Getting the indexes of the 10 most similar movies\n",
    "    listings = score_series_1.append(score_series_2).append(score_series_3).sort_values(ascending = False)\n",
    "    # Store movie names\n",
    "    recommended_movies = []\n",
    "    # Appending the names of movies\n",
    "    top_50_indexes = list(listings.iloc[1:50].index)\n",
    "    # Removing chosen movies\n",
    "    top_indexes = np.setdiff1d(top_50_indexes,[idx_1,idx_2,idx_3])\n",
    "    for i in top_indexes[:top_n]:\n",
    "        recommended_movies.append(list(movies['title'])[i])\n",
    "    return recommended_movies"
   ]
  },
  {
   "cell_type": "code",
   "execution_count": null,
   "metadata": {
    "execution": {
     "iopub.execute_input": "2022-07-07T13:25:27.030096Z",
     "iopub.status.busy": "2022-07-07T13:25:27.028839Z",
     "iopub.status.idle": "2022-07-07T13:25:27.214756Z",
     "shell.execute_reply": "2022-07-07T13:25:27.213327Z",
     "shell.execute_reply.started": "2022-07-07T13:25:27.030051Z"
    }
   },
   "outputs": [],
   "source": [
    "movies = movies_df.dropna()\n",
    "movie_list = ['Grumpier Old Men (1995)','Ace Ventura: When Nature Calls (1995)','Father of the Bride Part II (1995)']\n",
    "content_model(movie_list,top_n=10)"
   ]
  },
  {
   "cell_type": "markdown",
   "metadata": {},
   "source": [
    "<a id=\"fourty-two\"></a>\n",
    "### 6.0 Performance Evaluation\n",
    "\n",
    "We built and tested six different collaborative filtering models and compared their performance using a statistical measure known as the root mean squared error (**RMSE**), which determines the average squared difference between the estimated values and the actual value. A low RMSE value indicates high model accuracy.\n",
    "\n",
    "<a id=\"fourty-three\"></a>\n",
    "### 6.1 Root Mean Squared Error (RMSE):\n",
    "$$RMSE = \\sqrt{\\frac{1}{n}\\Sigma_{i=1}^{n}{\\Big(\\frac{d_i -f_i}{\\sigma_i}\\Big)^2}}$$   "
   ]
  },
  {
   "cell_type": "markdown",
   "metadata": {},
   "source": [
    "The code cell below plots a bar graph to show the difference between the RMSEs for the different models that were built in this notebook. "
   ]
  },
  {
   "cell_type": "code",
   "execution_count": null,
   "metadata": {
    "execution": {
     "iopub.execute_input": "2022-07-07T13:25:46.690988Z",
     "iopub.status.busy": "2022-07-07T13:25:46.690468Z",
     "iopub.status.idle": "2022-07-07T13:25:46.937148Z",
     "shell.execute_reply": "2022-07-07T13:25:46.935836Z",
     "shell.execute_reply.started": "2022-07-07T13:25:46.690952Z"
    }
   },
   "outputs": [],
   "source": [
    "# Compare RMSE values between models\n",
    "fig,axis = plt.subplots(figsize=(8, 5))\n",
    "rmse_x = ['SVD','NormalPredictor','BaselineOnly','NMF','SlopeOne','CoClustering']\n",
    "rmse_y = [svd_rmse,np_rmse,blo_rmse,nmf_rmse,slo_rmse,cc_rmse]\n",
    "ax = sns.barplot(x=rmse_x, y=rmse_y,palette='brg',edgecolor='black')\n",
    "plt.title('RMSE Value Per Collaborative-based Filtering Model',fontsize=14)\n",
    "plt.xticks(rotation=90)\n",
    "plt.ylabel('RMSE')\n",
    "for p in ax.patches:\n",
    "    ax.text(p.get_x() + p.get_width()/2, p.get_y() + p.get_height(), round(p.get_height(),2), fontsize=12, ha=\"center\", va='bottom')\n",
    "    \n",
    "plt.show()"
   ]
  },
  {
   "cell_type": "markdown",
   "metadata": {},
   "source": [
    "<a id=\"fourty-four\"></a>\n",
    "### 7.0 Cross Validation\n",
    "\n",
    "Cross validation is a technique used to test the accuracy of a model's prediction on unseen data (validation sets). This is important because it can assist in picking up issues such as over/underfitting and selection bias. We used the K-fold technique to perform cross validation on our two best perfoming models, i.e. **SVD** and **BaselineOnly**."
   ]
  },
  {
   "cell_type": "markdown",
   "metadata": {},
   "source": [
    "<a id=\"fourty-five\"></a>\n",
    "#### 7.1 SVD"
   ]
  },
  {
   "cell_type": "code",
   "execution_count": null,
   "metadata": {
    "execution": {
     "iopub.execute_input": "2022-07-07T13:26:10.701204Z",
     "iopub.status.busy": "2022-07-07T13:26:10.700816Z",
     "iopub.status.idle": "2022-07-07T13:27:44.140002Z",
     "shell.execute_reply": "2022-07-07T13:27:44.138629Z",
     "shell.execute_reply.started": "2022-07-07T13:26:10.701171Z"
    }
   },
   "outputs": [],
   "source": [
    "svd_test = SVD(n_epochs = 40, n_factors = 200, init_std_dev = 0.05, random_state=42)\n",
    "# Run 5-fold cross-validation and print results\n",
    "a = cross_validate(svd_test, data, measures=['RMSE'], cv=5, verbose=True)"
   ]
  },
  {
   "cell_type": "markdown",
   "metadata": {},
   "source": [
    "<a id=\"fourty-six\"></a>\n",
    "#### 7.2 Baseline Only"
   ]
  },
  {
   "cell_type": "code",
   "execution_count": null,
   "metadata": {
    "execution": {
     "iopub.execute_input": "2022-07-07T13:27:44.142121Z",
     "iopub.status.busy": "2022-07-07T13:27:44.141769Z",
     "iopub.status.idle": "2022-07-07T13:27:53.772232Z",
     "shell.execute_reply": "2022-07-07T13:27:53.770973Z",
     "shell.execute_reply.started": "2022-07-07T13:27:44.142091Z"
    }
   },
   "outputs": [],
   "source": [
    "bsl_options = {'method': 'sgd','n_epochs': 40}\n",
    "blo_test = BaselineOnly(bsl_options=bsl_options)\n",
    "# Run 5-fold cross-validation and print results\n",
    "b = cross_validate(blo_test, data, measures=['RMSE'], cv=5, verbose=True)"
   ]
  },
  {
   "cell_type": "markdown",
   "metadata": {},
   "source": [
    "<a id=\"fourty-seven\"></a>\n",
    "#### 7.3 Model Analysis"
   ]
  },
  {
   "cell_type": "code",
   "execution_count": null,
   "metadata": {
    "execution": {
     "iopub.execute_input": "2022-07-07T13:28:04.857727Z",
     "iopub.status.busy": "2022-07-07T13:28:04.857286Z",
     "iopub.status.idle": "2022-07-07T13:28:05.440286Z",
     "shell.execute_reply": "2022-07-07T13:28:05.439039Z",
     "shell.execute_reply.started": "2022-07-07T13:28:04.857691Z"
    }
   },
   "outputs": [],
   "source": [
    "# Load the 100k dataset\n",
    "train_subset = train_df[:100000]\n",
    "reader = Reader(rating_scale=(train_subset['rating'].min(), train_subset['rating'].max()))\n",
    "data = Dataset.load_from_df(train_subset[['userId', 'movieId', 'rating']], reader)\n",
    "trainset, testset = train_test_split(data, test_size=.25, random_state=42)"
   ]
  },
  {
   "cell_type": "markdown",
   "metadata": {},
   "source": [
    "<a id=\"fourty-eight\"></a>\n",
    "### 8.0 Hyperparameter Tuning \n",
    "\n",
    "Hyperparameter tuning is the process by which a set of ideal hyperparameters are chosen for a model. A hyperparameter is a parameter for which the value is set manually and tuned to control the algorithm's learning process. We tested multiple parameters for our best performing model (i.e. **SVD**)."
   ]
  },
  {
   "cell_type": "code",
   "execution_count": null,
   "metadata": {
    "execution": {
     "iopub.execute_input": "2022-07-07T13:28:23.989317Z",
     "iopub.status.busy": "2022-07-07T13:28:23.988886Z",
     "iopub.status.idle": "2022-07-07T13:30:46.402762Z",
     "shell.execute_reply": "2022-07-07T13:30:46.401626Z",
     "shell.execute_reply.started": "2022-07-07T13:28:23.989283Z"
    }
   },
   "outputs": [],
   "source": [
    "param_grid = {'n_epochs':[40], #[30,40,50],\n",
    "              'n_factors':[400], #[100,200,300,400],\n",
    "              'init_std_dev':[0.005], #[0.001,0.005,0.05,0.1],\n",
    "              'random_state':[42]} \n",
    "grid_SVD = GridSearchCV(SVD, cv=5, measures=['rmse'], param_grid=param_grid, n_jobs=-1)\n",
    "grid_SVD.fit(data)\n",
    "print('***Best score:***')\n",
    "print(grid_SVD.best_score['rmse'])\n",
    "print('***Best parameters:***')\n",
    "print(grid_SVD.best_params['rmse'])"
   ]
  },
  {
   "cell_type": "markdown",
   "metadata": {},
   "source": [
    "<a id=\"fourty-nine\"></a>\n",
    "### 9.0 Results"
   ]
  },
  {
   "cell_type": "code",
   "execution_count": null,
   "metadata": {
    "execution": {
     "iopub.execute_input": "2022-07-07T13:31:09.580865Z",
     "iopub.status.busy": "2022-07-07T13:31:09.580410Z",
     "iopub.status.idle": "2022-07-07T13:31:51.579708Z",
     "shell.execute_reply": "2022-07-07T13:31:51.578358Z",
     "shell.execute_reply.started": "2022-07-07T13:31:09.580819Z"
    }
   },
   "outputs": [],
   "source": [
    "svd_test = SVD(n_epochs = 40, n_factors = 400, init_std_dev = 0.005, random_state=42)\n",
    "svd_test.fit(trainset)\n",
    "predictions = svd_test.test(testset)\n",
    "# Calculate RMSE\n",
    "svd_rmse = accuracy.rmse(predictions)"
   ]
  },
  {
   "cell_type": "code",
   "execution_count": null,
   "metadata": {
    "execution": {
     "iopub.execute_input": "2022-07-07T13:32:03.027586Z",
     "iopub.status.busy": "2022-07-07T13:32:03.026466Z",
     "iopub.status.idle": "2022-07-07T13:32:44.175378Z",
     "shell.execute_reply": "2022-07-07T13:32:44.174159Z",
     "shell.execute_reply.started": "2022-07-07T13:32:03.027502Z"
    }
   },
   "outputs": [],
   "source": [
    "# Predicted Target Values vs. Actual Target Values\n",
    "new_df = pd.DataFrame(columns=['uid', 'iid', 'rating'])\n",
    "i = 0\n",
    "for (uid, iid, rating) in testset:\n",
    "    new_df.loc[i] = [uid, iid, rating]\n",
    "    i = i+1\n",
    "true = new_df['rating']\n",
    "pred = []\n",
    "for i in predictions:\n",
    "    pred.append(i.est)\n",
    "fig,axis = plt.subplots(figsize=(8, 5))\n",
    "sns.boxplot(x=true, y=pred, palette=\"brg\")\n",
    "plt.title(\"Predicted Target Values vs. Actual Target Values\", fontsize=14)\n",
    "plt.xlabel(\"Actual Target Values\")\n",
    "plt.ylabel(\"Predicted Target Values\")\n",
    "plt.show()"
   ]
  },
  {
   "cell_type": "code",
   "execution_count": null,
   "metadata": {},
   "outputs": [],
   "source": [
    "# Register the parameters for the experiment on Comet\n",
    "params = {'n_epochs':40, #[30,40,50],\n",
    "           'n_factors':400, #[100,200,300],\n",
    "           'init_std_dev':0.005, #[0.005,0.05,0.1],\n",
    "           'random_state':[42]} \n",
    "metrics = {\"RMSE\": np.sqrt(mean_squared_error(true, pred))}\n",
    "\n",
    "experiment.log_parameters(params)\n",
    "experiment.log_metrics(metrics)\n",
    "experiment.end()"
   ]
  },
  {
   "cell_type": "code",
   "execution_count": null,
   "metadata": {},
   "outputs": [],
   "source": [
    "# End the Comet Experiment\n",
    "experiment.display()"
   ]
  },
  {
   "cell_type": "markdown",
   "metadata": {},
   "source": [
    "<a id=\"fifty\"></a>\n",
    "### 10.0 Save output"
   ]
  },
  {
   "cell_type": "code",
   "execution_count": null,
   "metadata": {
    "execution": {
     "iopub.execute_input": "2022-07-07T13:35:18.978441Z",
     "iopub.status.busy": "2022-07-07T13:35:18.977355Z",
     "iopub.status.idle": "2022-07-07T15:13:58.938855Z",
     "shell.execute_reply": "2022-07-07T15:13:58.937605Z",
     "shell.execute_reply.started": "2022-07-07T13:35:18.978394Z"
    }
   },
   "outputs": [],
   "source": [
    "# Train model on whole dataset\n",
    "reader = Reader(rating_scale=(train_df['rating'].min(), train_df['rating'].max()))\n",
    "data = Dataset.load_from_df(train_df[['userId', 'movieId', 'rating']], reader)\n",
    "trainset = data.build_full_trainset()\n",
    "svd = SVD(n_epochs = 30, n_factors = 300, init_std_dev = 0.005, random_state=42, verbose=True)\n",
    "svd.fit(trainset)\n",
    "\n",
    "# Create Kaggle submission file\n",
    "predictions = []\n",
    "for i, row in test_df.iterrows():\n",
    "    x = (svd.predict(row.userId, row.movieId))\n",
    "    pred = x[3]\n",
    "    predictions.append(pred)\n",
    "test_df['Id'] = test_df['userId'].map(str) +'_'+ test_df['movieId'].map(str)\n",
    "results = pd.DataFrame({\"Id\":test_df['Id'],\"rating\": predictions})\n",
    "results.to_csv(\"NM2_1st_submission.csv\", index=False)"
   ]
  },
  {
   "cell_type": "markdown",
   "metadata": {},
   "source": [
    "<a id=\"fifty-one\"></a>\n",
    "### 11.0 Conclusion\n",
    "In this project, we succeeded in building an unsupervised machine learning model that is able to recommend movies based on content-based or collaborative filtering and is capable of accurately predicting how a user will rate a movie they have not yet viewed, based on their historical preferences. Our top performing model has a root mean squared error (RMSE) of 0.78, based on a testing set submitted to the EDSA [Kaggle](https://www.kaggle.com/c/edsa-recommender-system-predict/leaderboard) competition.  \n",
    "\n",
    "\n",
    "The singular value decomposition (SVD) algorithm is a baseline approach to recommender systems, as it has a broad range of applications including dimensionality reduction, solving linear inverse problems, and data fitting. The SVD algorithm generally performs better on large datasets compared to some other models as it decomposes a matrix into constituent arrays of feature vectors corresponding to each row and each column."
   ]
  },
  {
   "cell_type": "markdown",
   "metadata": {},
   "source": [
    "<a id=\"fifty-two\"></a>\n",
    "### 12.0 References\n",
    "<a id=\"ref1\"></a>[1] Ansari, A. (n.d.). Internet Recommendation Systems. Retrieved August/September, 2000, from https://www0.gsb.columbia.edu/mygsb/faculty/research/pubfiles/385/Internet Recommendation Systems.pdf\n",
    "\n",
    "<a id=\"ref2\"></a>[2] Shi, C. (2017, June 27). A Hybrid Recommender with Yelp Challenge. Retrieved from https://nycdatascience.com/blog/student-works/yelp-recommender-part-1/\n",
    "\n",
    "<a id=\"ref3\"></a>[3] Wikipedia: t-distributed stochastic neighbor embedding. Retrieved from https://en.wikipedia.org/wiki/T-distributed_stochastic_neighbor_embedding\n",
    "\n",
    "<a id=\"ref4\"></a>[4] Jolliffe, I.T. & Cadima, J. (2016, April 13). Principal component analysis: a review and recent developments. Retrieved from https://royalsocietypublishing.org/doi/10.1098/rsta.2015.0202\n",
    "\n",
    "<a id=\"ref5\"></a>[5] Ajitsaria, A. (n.d.). Build a Recommendation Engine With Collaborative Filtering. Retrieved from https://realpython.com/build-recommendation-engine-collaborative-filtering\n",
    "\n",
    "<a id=\"ref6\"></a>[6] Funk, S. (2006, Deccember 11). Netflix Update: Try This at Home. Retrieved from https://sifter.org/simon/journal/20061211.html\n",
    "\n",
    "<a id=\"ref7\"></a>[7] Recommender Systems: Content-based Filtering. Retrieved from http://recommender-systems.org/content-based-filtering/"
   ]
  },
  {
   "cell_type": "markdown",
   "metadata": {},
   "source": [
    "[Back to top ↑](#top)"
   ]
  },
  {
   "cell_type": "code",
   "execution_count": null,
   "metadata": {},
   "outputs": [],
   "source": []
  }
 ],
 "metadata": {
  "kernelspec": {
   "display_name": "Python 3 (ipykernel)",
   "language": "python",
   "name": "python3"
  },
  "language_info": {
   "codemirror_mode": {
    "name": "ipython",
    "version": 3
   },
   "file_extension": ".py",
   "mimetype": "text/x-python",
   "name": "python",
   "nbconvert_exporter": "python",
   "pygments_lexer": "ipython3",
   "version": "3.9.12"
  }
 },
 "nbformat": 4,
 "nbformat_minor": 4
}
