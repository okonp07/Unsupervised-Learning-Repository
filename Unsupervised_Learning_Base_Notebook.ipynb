{
 "cells": [
  {
   "cell_type": "code",
   "execution_count": 1,
   "metadata": {
    "_cell_guid": "b1076dfc-b9ad-4769-8c92-a6c4dae69d19",
    "_uuid": "8f2839f25d086af736a60e9eeb907d3b93b6e0e5",
    "execution": {
     "iopub.execute_input": "2022-07-07T12:17:39.101738Z",
     "iopub.status.busy": "2022-07-07T12:17:39.100457Z",
     "iopub.status.idle": "2022-07-07T12:17:39.132176Z",
     "shell.execute_reply": "2022-07-07T12:17:39.130971Z",
     "shell.execute_reply.started": "2022-07-07T12:17:39.101616Z"
    }
   },
   "outputs": [],
   "source": [
    "# This Python 3 environment comes with many helpful analytics libraries installed\n",
    "# It is defined by the kaggle/python Docker image: https://github.com/kaggle/docker-python\n",
    "# For example, here's several helpful packages to load\n",
    "\n",
    "import numpy as np # linear algebra\n",
    "import pandas as pd # data processing, CSV file I/O (e.g. pd.read_csv)\n",
    "\n",
    "# Input data files are available in the read-only \"../input/\" directory\n",
    "# For example, running this (by clicking run or pressing Shift+Enter) will list all files under the input directory\n",
    "\n",
    "import os\n",
    "for dirname, _, filenames in os.walk('/kaggle/input'):\n",
    "    for filename in filenames:\n",
    "        print(os.path.join(dirname, filename))\n",
    "\n",
    "# You can write up to 20GB to the current directory (/kaggle/working/) that gets preserved as output when you create a version using \"Save & Run All\" \n",
    "# You can also write temporary files to /kaggle/temp/, but they won't be saved outside of the current session"
   ]
  },
  {
   "cell_type": "code",
   "execution_count": 1,
   "metadata": {
    "execution": {
     "iopub.execute_input": "2022-07-07T12:18:35.627887Z",
     "iopub.status.busy": "2022-07-07T12:18:35.627460Z",
     "iopub.status.idle": "2022-07-07T12:18:39.284446Z",
     "shell.execute_reply": "2022-07-07T12:18:39.283159Z",
     "shell.execute_reply.started": "2022-07-07T12:18:35.627853Z"
    }
   },
   "outputs": [
    {
     "data": {
      "text/html": [
       "        <script type=\"text/javascript\">\n",
       "        window.PlotlyConfig = {MathJaxConfig: 'local'};\n",
       "        if (window.MathJax && window.MathJax.Hub && window.MathJax.Hub.Config) {window.MathJax.Hub.Config({SVG: {font: \"STIX-Web\"}});}\n",
       "        if (typeof require !== 'undefined') {\n",
       "        require.undef(\"plotly\");\n",
       "        requirejs.config({\n",
       "            paths: {\n",
       "                'plotly': ['https://cdn.plot.ly/plotly-2.12.1.min']\n",
       "            }\n",
       "        });\n",
       "        require(['plotly'], function(Plotly) {\n",
       "            window._Plotly = Plotly;\n",
       "        });\n",
       "        }\n",
       "        </script>\n",
       "        "
      ]
     },
     "metadata": {},
     "output_type": "display_data"
    }
   ],
   "source": [
    "# Ignore warnings\n",
    "import warnings\n",
    "warnings.simplefilter(action='ignore')\n",
    "\n",
    "# Install Prerequisites\n",
    "# import sys\n",
    "# !{sys.executable} -m pip install scikit-learn scikit-surprise\n",
    "# !pip install git+https://github.com/gbolmier/funk-svd\n",
    "# pip install cufflinks\n",
    "\n",
    "\n",
    "# Exploratory Data Analysis\n",
    "import pickle\n",
    "import numpy as np\n",
    "import pandas as pd\n",
    "import seaborn as sns\n",
    "import matplotlib.pyplot as plt\n",
    "import re\n",
    "\n",
    "# Data Preprocessing\n",
    "import random\n",
    "from time import time\n",
    "import cufflinks as cf\n",
    "from sklearn.manifold import TSNE\n",
    "from sklearn.cluster import KMeans\n",
    "from sklearn.decomposition import PCA\n",
    "from mpl_toolkits.mplot3d import Axes3D\n",
    "from matplotlib.ticker import NullFormatter\n",
    "from sklearn.preprocessing import StandardScaler\n",
    "from plotly.offline import download_plotlyjs, init_notebook_mode, plot, iplot\n",
    "init_notebook_mode(connected=True)\n",
    "\n",
    "# Models\n",
    "from surprise import Reader, Dataset\n",
    "from surprise import SVD, NormalPredictor, BaselineOnly, NMF, SlopeOne, CoClustering\n",
    "from sklearn.metrics.pairwise import cosine_similarity\n",
    "from sklearn.feature_extraction.text import CountVectorizer\n",
    "\n",
    "# Performance Evaluation\n",
    "from surprise import accuracy\n",
    "from sklearn.metrics import mean_squared_error\n",
    "from surprise.model_selection import GridSearchCV, cross_validate, train_test_split\n",
    "\n",
    "# Display\n",
    "%matplotlib inline\n",
    "sns.set(font_scale=1)\n",
    "sns.set_style(\"white\")\n",
    "pd.set_option('display.max_columns', 37)"
   ]
  },
  {
   "cell_type": "code",
   "execution_count": 2,
   "metadata": {
    "execution": {
     "iopub.execute_input": "2022-07-07T13:00:50.198359Z",
     "iopub.status.busy": "2022-07-07T13:00:50.197586Z",
     "iopub.status.idle": "2022-07-07T13:00:54.292236Z",
     "shell.execute_reply": "2022-07-07T13:00:54.290712Z",
     "shell.execute_reply.started": "2022-07-07T13:00:50.198303Z"
    }
   },
   "outputs": [
    {
     "name": "stdout",
     "output_type": "stream",
     "text": [
      "(10000038, 4) (5000019, 2)\n"
     ]
    },
    {
     "data": {
      "text/html": [
       "<div>\n",
       "<style scoped>\n",
       "    .dataframe tbody tr th:only-of-type {\n",
       "        vertical-align: middle;\n",
       "    }\n",
       "\n",
       "    .dataframe tbody tr th {\n",
       "        vertical-align: top;\n",
       "    }\n",
       "\n",
       "    .dataframe thead th {\n",
       "        text-align: right;\n",
       "    }\n",
       "</style>\n",
       "<table border=\"1\" class=\"dataframe\">\n",
       "  <thead>\n",
       "    <tr style=\"text-align: right;\">\n",
       "      <th></th>\n",
       "      <th>userId</th>\n",
       "      <th>movieId</th>\n",
       "      <th>rating</th>\n",
       "      <th>timestamp</th>\n",
       "    </tr>\n",
       "  </thead>\n",
       "  <tbody>\n",
       "    <tr>\n",
       "      <th>0</th>\n",
       "      <td>5163</td>\n",
       "      <td>57669</td>\n",
       "      <td>4.0</td>\n",
       "      <td>1518349992</td>\n",
       "    </tr>\n",
       "    <tr>\n",
       "      <th>1</th>\n",
       "      <td>106343</td>\n",
       "      <td>5</td>\n",
       "      <td>4.5</td>\n",
       "      <td>1206238739</td>\n",
       "    </tr>\n",
       "    <tr>\n",
       "      <th>2</th>\n",
       "      <td>146790</td>\n",
       "      <td>5459</td>\n",
       "      <td>5.0</td>\n",
       "      <td>1076215539</td>\n",
       "    </tr>\n",
       "  </tbody>\n",
       "</table>\n",
       "</div>"
      ],
      "text/plain": [
       "   userId  movieId  rating   timestamp\n",
       "0    5163    57669     4.0  1518349992\n",
       "1  106343        5     4.5  1206238739\n",
       "2  146790     5459     5.0  1076215539"
      ]
     },
     "execution_count": 2,
     "metadata": {},
     "output_type": "execute_result"
    }
   ],
   "source": [
    "train_df = pd.read_csv('./movie_recommendation_data/train.csv')\n",
    "test_df = pd.read_csv('./movie_recommendation_data/test.csv')\n",
    "print(train_df.shape, test_df.shape)\n",
    "train_df.head(3)"
   ]
  },
  {
   "cell_type": "code",
   "execution_count": 3,
   "metadata": {
    "execution": {
     "iopub.execute_input": "2022-07-07T13:00:56.873903Z",
     "iopub.status.busy": "2022-07-07T13:00:56.873144Z",
     "iopub.status.idle": "2022-07-07T13:01:14.536251Z",
     "shell.execute_reply": "2022-07-07T13:01:14.535319Z",
     "shell.execute_reply.started": "2022-07-07T13:00:56.873863Z"
    }
   },
   "outputs": [
    {
     "name": "stdout",
     "output_type": "stream",
     "text": [
      "(62423, 2) (27278, 5) (62423, 2) (15584448, 2) (1128, 1)\n"
     ]
    }
   ],
   "source": [
    "movies_df =  pd.read_csv('./movie_recommendation_data/movies.csv', index_col='movieId')\n",
    "imdb_df =  pd.read_csv('./movie_recommendation_data/imdb_data.csv', index_col='movieId')\n",
    "links_df =  pd.read_csv('./movie_recommendation_data/links.csv', index_col='movieId')\n",
    "genome_scores =  pd.read_csv('./movie_recommendation_data/genome_scores.csv', index_col='movieId')\n",
    "genome_tags =  pd.read_csv('./movie_recommendation_data/genome_tags.csv', index_col='tagId')\n",
    "#tags =  pd.read_csv('/kaggle/input/edsa-movie-recommendation-2022/tags.csv')\n",
    "print(movies_df.shape, imdb_df.shape, links_df.shape, genome_scores.shape, genome_tags.shape)"
   ]
  },
  {
   "cell_type": "code",
   "execution_count": 4,
   "metadata": {
    "execution": {
     "iopub.execute_input": "2022-07-07T13:01:14.539402Z",
     "iopub.status.busy": "2022-07-07T13:01:14.538190Z",
     "iopub.status.idle": "2022-07-07T13:01:14.553368Z",
     "shell.execute_reply": "2022-07-07T13:01:14.551305Z",
     "shell.execute_reply.started": "2022-07-07T13:01:14.539350Z"
    }
   },
   "outputs": [
    {
     "name": "stdout",
     "output_type": "stream",
     "text": [
      "<class 'pandas.core.frame.DataFrame'>\n",
      "RangeIndex: 10000038 entries, 0 to 10000037\n",
      "Data columns (total 4 columns):\n",
      " #   Column     Dtype  \n",
      "---  ------     -----  \n",
      " 0   userId     int64  \n",
      " 1   movieId    int64  \n",
      " 2   rating     float64\n",
      " 3   timestamp  int64  \n",
      "dtypes: float64(1), int64(3)\n",
      "memory usage: 305.2 MB\n"
     ]
    }
   ],
   "source": [
    "train_df.info()"
   ]
  },
  {
   "cell_type": "code",
   "execution_count": 5,
   "metadata": {
    "execution": {
     "iopub.execute_input": "2022-07-07T13:01:17.981747Z",
     "iopub.status.busy": "2022-07-07T13:01:17.981088Z",
     "iopub.status.idle": "2022-07-07T13:01:17.991766Z",
     "shell.execute_reply": "2022-07-07T13:01:17.990623Z",
     "shell.execute_reply.started": "2022-07-07T13:01:17.981707Z"
    }
   },
   "outputs": [
    {
     "name": "stdout",
     "output_type": "stream",
     "text": [
      "<class 'pandas.core.frame.DataFrame'>\n",
      "RangeIndex: 5000019 entries, 0 to 5000018\n",
      "Data columns (total 2 columns):\n",
      " #   Column   Dtype\n",
      "---  ------   -----\n",
      " 0   userId   int64\n",
      " 1   movieId  int64\n",
      "dtypes: int64(2)\n",
      "memory usage: 76.3 MB\n"
     ]
    }
   ],
   "source": [
    "test_df.info()"
   ]
  },
  {
   "cell_type": "code",
   "execution_count": 6,
   "metadata": {
    "execution": {
     "iopub.execute_input": "2022-07-07T13:01:19.288275Z",
     "iopub.status.busy": "2022-07-07T13:01:19.287512Z",
     "iopub.status.idle": "2022-07-07T13:01:19.305987Z",
     "shell.execute_reply": "2022-07-07T13:01:19.304605Z",
     "shell.execute_reply.started": "2022-07-07T13:01:19.288230Z"
    }
   },
   "outputs": [
    {
     "name": "stdout",
     "output_type": "stream",
     "text": [
      "<class 'pandas.core.frame.DataFrame'>\n",
      "Int64Index: 62423 entries, 1 to 209171\n",
      "Data columns (total 2 columns):\n",
      " #   Column  Non-Null Count  Dtype \n",
      "---  ------  --------------  ----- \n",
      " 0   title   62423 non-null  object\n",
      " 1   genres  62423 non-null  object\n",
      "dtypes: object(2)\n",
      "memory usage: 1.4+ MB\n"
     ]
    }
   ],
   "source": [
    "movies_df.info()"
   ]
  },
  {
   "cell_type": "code",
   "execution_count": 7,
   "metadata": {
    "execution": {
     "iopub.execute_input": "2022-07-07T13:01:20.271851Z",
     "iopub.status.busy": "2022-07-07T13:01:20.270914Z",
     "iopub.status.idle": "2022-07-07T13:01:20.291697Z",
     "shell.execute_reply": "2022-07-07T13:01:20.290765Z",
     "shell.execute_reply.started": "2022-07-07T13:01:20.271808Z"
    }
   },
   "outputs": [
    {
     "name": "stdout",
     "output_type": "stream",
     "text": [
      "<class 'pandas.core.frame.DataFrame'>\n",
      "Int64Index: 27278 entries, 1 to 131262\n",
      "Data columns (total 5 columns):\n",
      " #   Column         Non-Null Count  Dtype  \n",
      "---  ------         --------------  -----  \n",
      " 0   title_cast     17210 non-null  object \n",
      " 1   director       17404 non-null  object \n",
      " 2   runtime        15189 non-null  float64\n",
      " 3   budget         7906 non-null   object \n",
      " 4   plot_keywords  16200 non-null  object \n",
      "dtypes: float64(1), object(4)\n",
      "memory usage: 1.2+ MB\n"
     ]
    }
   ],
   "source": [
    "imdb_df.info()"
   ]
  },
  {
   "cell_type": "code",
   "execution_count": 8,
   "metadata": {
    "execution": {
     "iopub.execute_input": "2022-07-07T13:01:22.531626Z",
     "iopub.status.busy": "2022-07-07T13:01:22.530955Z",
     "iopub.status.idle": "2022-07-07T13:01:22.543516Z",
     "shell.execute_reply": "2022-07-07T13:01:22.542613Z",
     "shell.execute_reply.started": "2022-07-07T13:01:22.531589Z"
    }
   },
   "outputs": [
    {
     "name": "stdout",
     "output_type": "stream",
     "text": [
      "<class 'pandas.core.frame.DataFrame'>\n",
      "Int64Index: 62423 entries, 1 to 209171\n",
      "Data columns (total 2 columns):\n",
      " #   Column  Non-Null Count  Dtype  \n",
      "---  ------  --------------  -----  \n",
      " 0   imdbId  62423 non-null  int64  \n",
      " 1   tmdbId  62316 non-null  float64\n",
      "dtypes: float64(1), int64(1)\n",
      "memory usage: 1.4 MB\n"
     ]
    }
   ],
   "source": [
    "links_df.info()"
   ]
  },
  {
   "cell_type": "code",
   "execution_count": 10,
   "metadata": {
    "execution": {
     "iopub.execute_input": "2022-07-07T13:01:26.684944Z",
     "iopub.status.busy": "2022-07-07T13:01:26.684559Z",
     "iopub.status.idle": "2022-07-07T13:01:26.695969Z",
     "shell.execute_reply": "2022-07-07T13:01:26.694330Z",
     "shell.execute_reply.started": "2022-07-07T13:01:26.684913Z"
    }
   },
   "outputs": [
    {
     "name": "stdout",
     "output_type": "stream",
     "text": [
      "<class 'pandas.core.frame.DataFrame'>\n",
      "Int64Index: 15584448 entries, 1 to 206499\n",
      "Data columns (total 2 columns):\n",
      " #   Column     Dtype  \n",
      "---  ------     -----  \n",
      " 0   tagId      int64  \n",
      " 1   relevance  float64\n",
      "dtypes: float64(1), int64(1)\n",
      "memory usage: 356.7 MB\n"
     ]
    }
   ],
   "source": [
    "genome_scores.info()"
   ]
  },
  {
   "cell_type": "code",
   "execution_count": 9,
   "metadata": {
    "execution": {
     "iopub.execute_input": "2022-07-07T13:01:28.174950Z",
     "iopub.status.busy": "2022-07-07T13:01:28.174247Z",
     "iopub.status.idle": "2022-07-07T13:01:28.189669Z",
     "shell.execute_reply": "2022-07-07T13:01:28.188832Z",
     "shell.execute_reply.started": "2022-07-07T13:01:28.174898Z"
    }
   },
   "outputs": [
    {
     "name": "stdout",
     "output_type": "stream",
     "text": [
      "<class 'pandas.core.frame.DataFrame'>\n",
      "Int64Index: 1128 entries, 1 to 1128\n",
      "Data columns (total 1 columns):\n",
      " #   Column  Non-Null Count  Dtype \n",
      "---  ------  --------------  ----- \n",
      " 0   tag     1128 non-null   object\n",
      "dtypes: object(1)\n",
      "memory usage: 17.6+ KB\n"
     ]
    }
   ],
   "source": [
    "genome_tags.info()"
   ]
  },
  {
   "cell_type": "code",
   "execution_count": 11,
   "metadata": {
    "execution": {
     "iopub.execute_input": "2022-07-07T13:01:29.666866Z",
     "iopub.status.busy": "2022-07-07T13:01:29.665873Z",
     "iopub.status.idle": "2022-07-07T13:01:29.823393Z",
     "shell.execute_reply": "2022-07-07T13:01:29.822154Z",
     "shell.execute_reply.started": "2022-07-07T13:01:29.666825Z"
    }
   },
   "outputs": [
    {
     "name": "stdout",
     "output_type": "stream",
     "text": [
      "Train: \n",
      "userId       0\n",
      "movieId      0\n",
      "rating       0\n",
      "timestamp    0\n",
      "dtype: int64\n",
      "============\n",
      "Test: \n",
      "userId     0\n",
      "movieId    0\n",
      "dtype: int64\n",
      "============\n",
      "Movies: \n",
      "title     0\n",
      "genres    0\n",
      "dtype: int64\n",
      "============\n",
      "Links: \n",
      "imdbId      0\n",
      "tmdbId    107\n",
      "dtype: int64\n",
      "============\n",
      "IMDB: \n",
      "title_cast       10068\n",
      "director          9874\n",
      "runtime          12089\n",
      "budget           19372\n",
      "plot_keywords    11078\n",
      "dtype: int64\n",
      "============\n",
      "Genome scores: \n",
      "tagId        0\n",
      "relevance    0\n",
      "dtype: int64\n",
      "============\n",
      "Genome tags: \n",
      "tag    0\n",
      "dtype: int64\n"
     ]
    }
   ],
   "source": [
    "print(\"Train: \")\n",
    "print(str(train_df.isnull().sum()))\n",
    "print(\"============\")\n",
    "print(\"Test: \")\n",
    "print(str(test_df.isnull().sum()))\n",
    "print(\"============\")\n",
    "print(\"Movies: \")\n",
    "print(str(movies_df.isnull().sum()))\n",
    "# print(\"============\")\n",
    "# print(\"Tags: \")\n",
    "# print(str(tags_df.isnull().sum()))\n",
    "print(\"============\")\n",
    "print(\"Links: \")\n",
    "print(str(links_df.isnull().sum()))\n",
    "print(\"============\")\n",
    "print(\"IMDB: \")\n",
    "print(str(imdb_df.isnull().sum()))\n",
    "print(\"============\")\n",
    "print(\"Genome scores: \")\n",
    "print(str(genome_scores.isnull().sum()))\n",
    "print(\"============\")\n",
    "print(\"Genome tags: \")\n",
    "print(str(genome_tags.isnull().sum()))"
   ]
  },
  {
   "cell_type": "code",
   "execution_count": 12,
   "metadata": {
    "execution": {
     "iopub.execute_input": "2022-07-07T13:01:31.155994Z",
     "iopub.status.busy": "2022-07-07T13:01:31.155631Z",
     "iopub.status.idle": "2022-07-07T13:01:31.166459Z",
     "shell.execute_reply": "2022-07-07T13:01:31.165358Z",
     "shell.execute_reply.started": "2022-07-07T13:01:31.155965Z"
    }
   },
   "outputs": [],
   "source": [
    "# Drop missing rows\n",
    "# tags_df.dropna(axis=0,inplace=True)\n",
    "links_df.dropna(axis=0,inplace=True)"
   ]
  },
  {
   "cell_type": "code",
   "execution_count": 60,
   "metadata": {
    "execution": {
     "iopub.execute_input": "2022-07-07T13:01:34.697726Z",
     "iopub.status.busy": "2022-07-07T13:01:34.697317Z",
     "iopub.status.idle": "2022-07-07T13:01:34.702358Z",
     "shell.execute_reply": "2022-07-07T13:01:34.700959Z",
     "shell.execute_reply.started": "2022-07-07T13:01:34.697683Z"
    }
   },
   "outputs": [],
   "source": [
    "# Drop duplicate movie titles?\n",
    "#movies_df.drop_duplicates(subset=\"title\", keep=False, inplace=True)"
   ]
  },
  {
   "cell_type": "code",
   "execution_count": 13,
   "metadata": {
    "execution": {
     "iopub.execute_input": "2022-07-07T13:01:36.295901Z",
     "iopub.status.busy": "2022-07-07T13:01:36.295056Z",
     "iopub.status.idle": "2022-07-07T13:01:36.305355Z",
     "shell.execute_reply": "2022-07-07T13:01:36.304323Z",
     "shell.execute_reply.started": "2022-07-07T13:01:36.295850Z"
    }
   },
   "outputs": [],
   "source": [
    "def user_ratings_count(df, n):\n",
    "    \"\"\"\n",
    "    Counts the number of user ratings.\n",
    "    Parameters\n",
    "    ----------\n",
    "        df (DataFrame): input DataFrame\n",
    "        n (int): number of users to show\n",
    "    Returns\n",
    "    -------\n",
    "        barplot (NoneType): barplot of top n users by number of observations\n",
    "    Example\n",
    "    -------\n",
    "        >>> df = pd.DataFrame({'userId':[1,2,3,1,2,4,5,4]})\n",
    "        >>> user_ratings_count(df, 3)\n",
    "            NoneType (barplot)\n",
    "    \"\"\"\n",
    "    plt.figure(figsize=(8,6))\n",
    "    data = df['userId'].value_counts().head(n)\n",
    "    ax = sns.barplot(x = data.index, y = data, order= data.index, palette='brg', edgecolor=\"black\")\n",
    "    for p in ax.patches:\n",
    "        ax.text(p.get_x() + p.get_width()/2., p.get_height(), '%d' % int(p.get_height()), fontsize=11, ha='center', va='bottom')\n",
    "    plt.title(f'Top {n} Users by Number of Ratings', fontsize=14)\n",
    "    plt.xlabel('User ID')\n",
    "    plt.ylabel('Number of Ratings')\n",
    "    print(\"Combined number of ratings:\\t\",df['userId'].value_counts().head(n).sum(),\n",
    "         \"\\nTotal number of movies:\\t\\t\", df['movieId'].nunique())\n",
    "    plt.show()"
   ]
  },
  {
   "cell_type": "code",
   "execution_count": 14,
   "metadata": {
    "execution": {
     "iopub.execute_input": "2022-07-07T13:01:37.676706Z",
     "iopub.status.busy": "2022-07-07T13:01:37.675999Z",
     "iopub.status.idle": "2022-07-07T13:01:39.123380Z",
     "shell.execute_reply": "2022-07-07T13:01:39.122131Z",
     "shell.execute_reply.started": "2022-07-07T13:01:37.676666Z"
    }
   },
   "outputs": [
    {
     "name": "stdout",
     "output_type": "stream",
     "text": [
      "Combined number of ratings:\t 34398 \n",
      "Total number of movies:\t\t 48213\n"
     ]
    },
    {
     "data": {
      "image/png": "[encoded data removed]",
      "text/plain": [
       "<Figure size 576x432 with 1 Axes>"
      ]
     },
     "metadata": {},
     "output_type": "display_data"
    }
   ],
   "source": [
    "user_ratings_count(train_df,8)"
   ]
  },
  {
   "cell_type": "code",
   "execution_count": 17,
   "metadata": {
    "execution": {
     "iopub.execute_input": "2022-07-07T13:01:39.358930Z",
     "iopub.status.busy": "2022-07-07T13:01:39.358496Z",
     "iopub.status.idle": "2022-07-07T13:01:39.749977Z",
     "shell.execute_reply": "2022-07-07T13:01:39.748796Z",
     "shell.execute_reply.started": "2022-07-07T13:01:39.358891Z"
    }
   },
   "outputs": [],
   "source": [
    "# Exclude user 72315 for EDA\n",
    "eda_df = train_df[train_df['userId']!=72315]"
   ]
  },
  {
   "cell_type": "code",
   "execution_count": 18,
   "metadata": {
    "execution": {
     "iopub.execute_input": "2022-07-07T13:01:41.364666Z",
     "iopub.status.busy": "2022-07-07T13:01:41.364253Z",
     "iopub.status.idle": "2022-07-07T13:01:42.796147Z",
     "shell.execute_reply": "2022-07-07T13:01:42.794789Z",
     "shell.execute_reply.started": "2022-07-07T13:01:41.364632Z"
    }
   },
   "outputs": [
    {
     "name": "stdout",
     "output_type": "stream",
     "text": [
      "Combined number of ratings:\t 23734 \n",
      "Total number of movies:\t\t 45844\n"
     ]
    },
    {
     "data": {
      "image/png": "[encoded data removed]",
      "text/plain": [
       "<Figure size 576x432 with 1 Axes>"
      ]
     },
     "metadata": {},
     "output_type": "display_data"
    }
   ],
   "source": [
    "user_ratings_count(eda_df,8)"
   ]
  },
  {
   "cell_type": "code",
   "execution_count": 65,
   "metadata": {
    "execution": {
     "iopub.execute_input": "2022-07-07T13:01:43.998166Z",
     "iopub.status.busy": "2022-07-07T13:01:43.997786Z",
     "iopub.status.idle": "2022-07-07T13:01:44.007974Z",
     "shell.execute_reply": "2022-07-07T13:01:44.007080Z",
     "shell.execute_reply.started": "2022-07-07T13:01:43.998135Z"
    }
   },
   "outputs": [],
   "source": [
    "# How many ratings have we lost?\n",
    "34398-23734"
   ]
  },
  {
   "cell_type": "code",
   "execution_count": 66,
   "metadata": {
    "execution": {
     "iopub.execute_input": "2022-07-07T13:01:45.568332Z",
     "iopub.status.busy": "2022-07-07T13:01:45.567423Z",
     "iopub.status.idle": "2022-07-07T13:01:45.574438Z",
     "shell.execute_reply": "2022-07-07T13:01:45.573605Z",
     "shell.execute_reply.started": "2022-07-07T13:01:45.568287Z"
    }
   },
   "outputs": [],
   "source": [
    "# How many movies were only rated by our outlier?\n",
    "48213-45844"
   ]
  },
  {
   "cell_type": "code",
   "execution_count": 19,
   "metadata": {
    "execution": {
     "iopub.execute_input": "2022-07-07T13:01:47.911570Z",
     "iopub.status.busy": "2022-07-07T13:01:47.910421Z",
     "iopub.status.idle": "2022-07-07T13:01:47.921383Z",
     "shell.execute_reply": "2022-07-07T13:01:47.920460Z",
     "shell.execute_reply.started": "2022-07-07T13:01:47.911492Z"
    }
   },
   "outputs": [],
   "source": [
    "def ratings_distplot(df, column='rating'):\n",
    "    \"\"\"\n",
    "    Plots the distribution of ratings in the dataset.\n",
    "    Parameters\n",
    "    ----------\n",
    "        df (DataFrame): input DataFrame\n",
    "        column (str): column to plot\n",
    "    Returns\n",
    "    -------\n",
    "        distplot (NoneType): distplot of rating frequencies\n",
    "    \"\"\"\n",
    "    plt.figure(figsize=(8,6))\n",
    "    ax = sns.distplot(df[f'{column}'],bins=10, kde=False, hist_kws=dict(alpha=0.6),color=\"#4D17A0\")\n",
    "    mean = df[f'{column}'].mean()\n",
    "    median = df[f'{column}'].median()\n",
    "    plt.axvline(x=mean, label = f'mean {round(mean,2)}' , color='#4D17A0', lw=3, ls = '--')\n",
    "    plt.axvline(x=median, label = f'median {median}' , color='#4DA017', lw=3, ls = '--')\n",
    "    plt.xlim((0.5,5))\n",
    "    plt.ylim((0,2500000))\n",
    "    plt.title(f'Distribution of Ratings', fontsize=14)\n",
    "    plt.xlabel('Rating')\n",
    "    plt.ylabel('Frequency')\n",
    "    plt.legend()\n",
    "    plt.show()"
   ]
  },
  {
   "cell_type": "code",
   "execution_count": 20,
   "metadata": {
    "execution": {
     "iopub.execute_input": "2022-07-07T13:01:48.917556Z",
     "iopub.status.busy": "2022-07-07T13:01:48.916801Z",
     "iopub.status.idle": "2022-07-07T13:01:49.783373Z",
     "shell.execute_reply": "2022-07-07T13:01:49.782487Z",
     "shell.execute_reply.started": "2022-07-07T13:01:48.917488Z"
    }
   },
   "outputs": [
    {
     "data": {
      "image/png": "[encoded data removed]",
      "text/plain": [
       "<Figure size 576x432 with 1 Axes>"
      ]
     },
     "metadata": {},
     "output_type": "display_data"
    }
   ],
   "source": [
    "ratings_distplot(eda_df)"
   ]
  },
  {
   "cell_type": "code",
   "execution_count": 21,
   "metadata": {
    "execution": {
     "iopub.execute_input": "2022-07-07T13:01:50.767050Z",
     "iopub.status.busy": "2022-07-07T13:01:50.766289Z",
     "iopub.status.idle": "2022-07-07T13:01:50.773690Z",
     "shell.execute_reply": "2022-07-07T13:01:50.772611Z",
     "shell.execute_reply.started": "2022-07-07T13:01:50.767007Z"
    }
   },
   "outputs": [],
   "source": [
    "def mean_ratings_scatter(df, color='#4DA017', column='userId'):\n",
    "    \"\"\"\n",
    "    Make scatterplots of mean ratings.\n",
    "    Parameters\n",
    "    ----------\n",
    "        df (DataFrame): input DataFrame\n",
    "        color (str): plot colour\n",
    "        column (str): column to plot\n",
    "    Returns\n",
    "    -------\n",
    "        scatterplot (NoneType): scatterplot of mean number of ratings\n",
    "    \"\"\"\n",
    "    plt.figure(figsize=(6,4))\n",
    "    mean_ratings = df.groupby(f'{column}')['rating'].mean()\n",
    "    user_counts = df.groupby(f'{column}')['movieId'].count().values\n",
    "    sns.scatterplot(x=mean_ratings, y = user_counts, color=color)\n",
    "    plt.title(f'Mean Ratings by Number of Ratings', fontsize=14)\n",
    "    plt.xlabel('Rating')\n",
    "    plt.ylabel('Number of Ratings')\n",
    "    plt.show()"
   ]
  },
  {
   "cell_type": "code",
   "execution_count": 22,
   "metadata": {
    "execution": {
     "iopub.execute_input": "2022-07-07T13:01:52.418796Z",
     "iopub.status.busy": "2022-07-07T13:01:52.417633Z",
     "iopub.status.idle": "2022-07-07T13:01:53.787660Z",
     "shell.execute_reply": "2022-07-07T13:01:53.786741Z",
     "shell.execute_reply.started": "2022-07-07T13:01:52.418751Z"
    }
   },
   "outputs": [
    {
     "data": {
      "image/png": "[encoded data removed]",
      "text/plain": [
       "<Figure size 432x288 with 1 Axes>"
      ]
     },
     "metadata": {},
     "output_type": "display_data"
    }
   ],
   "source": [
    "# Mean user ratings by number of ratings\n",
    "mean_ratings_scatter(eda_df,'#4D17A0')"
   ]
  },
  {
   "cell_type": "code",
   "execution_count": 23,
   "metadata": {
    "execution": {
     "iopub.execute_input": "2022-07-07T13:01:54.752339Z",
     "iopub.status.busy": "2022-07-07T13:01:54.751316Z",
     "iopub.status.idle": "2022-07-07T13:01:55.648734Z",
     "shell.execute_reply": "2022-07-07T13:01:55.647461Z",
     "shell.execute_reply.started": "2022-07-07T13:01:54.752291Z"
    }
   },
   "outputs": [
    {
     "data": {
      "image/png": "[encoded data removed]",
      "text/plain": [
       "<Figure size 432x288 with 1 Axes>"
      ]
     },
     "metadata": {},
     "output_type": "display_data"
    }
   ],
   "source": [
    "# Mean movie ratings by number of ratings\n",
    "mean_ratings_scatter(eda_df, column='movieId')"
   ]
  },
  {
   "cell_type": "code",
   "execution_count": 24,
   "metadata": {},
   "outputs": [
    {
     "data": {
      "text/html": [
       "<div>\n",
       "<style scoped>\n",
       "    .dataframe tbody tr th:only-of-type {\n",
       "        vertical-align: middle;\n",
       "    }\n",
       "\n",
       "    .dataframe tbody tr th {\n",
       "        vertical-align: top;\n",
       "    }\n",
       "\n",
       "    .dataframe thead th {\n",
       "        text-align: right;\n",
       "    }\n",
       "</style>\n",
       "<table border=\"1\" class=\"dataframe\">\n",
       "  <thead>\n",
       "    <tr style=\"text-align: right;\">\n",
       "      <th></th>\n",
       "      <th>userId</th>\n",
       "      <th>movieId</th>\n",
       "      <th>rating</th>\n",
       "      <th>title</th>\n",
       "      <th>genres</th>\n",
       "    </tr>\n",
       "  </thead>\n",
       "  <tbody>\n",
       "    <tr>\n",
       "      <th>0</th>\n",
       "      <td>5163</td>\n",
       "      <td>57669</td>\n",
       "      <td>4.0</td>\n",
       "      <td>In Bruges (2008)</td>\n",
       "      <td>Comedy|Crime|Drama|Thriller</td>\n",
       "    </tr>\n",
       "    <tr>\n",
       "      <th>1</th>\n",
       "      <td>87388</td>\n",
       "      <td>57669</td>\n",
       "      <td>3.5</td>\n",
       "      <td>In Bruges (2008)</td>\n",
       "      <td>Comedy|Crime|Drama|Thriller</td>\n",
       "    </tr>\n",
       "    <tr>\n",
       "      <th>2</th>\n",
       "      <td>137050</td>\n",
       "      <td>57669</td>\n",
       "      <td>4.0</td>\n",
       "      <td>In Bruges (2008)</td>\n",
       "      <td>Comedy|Crime|Drama|Thriller</td>\n",
       "    </tr>\n",
       "    <tr>\n",
       "      <th>3</th>\n",
       "      <td>120490</td>\n",
       "      <td>57669</td>\n",
       "      <td>4.5</td>\n",
       "      <td>In Bruges (2008)</td>\n",
       "      <td>Comedy|Crime|Drama|Thriller</td>\n",
       "    </tr>\n",
       "    <tr>\n",
       "      <th>4</th>\n",
       "      <td>50616</td>\n",
       "      <td>57669</td>\n",
       "      <td>4.5</td>\n",
       "      <td>In Bruges (2008)</td>\n",
       "      <td>Comedy|Crime|Drama|Thriller</td>\n",
       "    </tr>\n",
       "  </tbody>\n",
       "</table>\n",
       "</div>"
      ],
      "text/plain": [
       "   userId  movieId  rating             title                       genres\n",
       "0    5163    57669     4.0  In Bruges (2008)  Comedy|Crime|Drama|Thriller\n",
       "1   87388    57669     3.5  In Bruges (2008)  Comedy|Crime|Drama|Thriller\n",
       "2  137050    57669     4.0  In Bruges (2008)  Comedy|Crime|Drama|Thriller\n",
       "3  120490    57669     4.5  In Bruges (2008)  Comedy|Crime|Drama|Thriller\n",
       "4   50616    57669     4.5  In Bruges (2008)  Comedy|Crime|Drama|Thriller"
      ]
     },
     "execution_count": 24,
     "metadata": {},
     "output_type": "execute_result"
    }
   ],
   "source": [
    "# movie eda\n",
    "ratings = train_df.merge(movies_df, on='movieId', how='inner') # Merge train with movies to join movie titles and ratings \n",
    "ratings.drop('timestamp', axis=1, inplace=True)  #drop timestamp after joining the train with movies dataset\n",
    "ratings.head()"
   ]
  },
  {
   "cell_type": "code",
   "execution_count": 25,
   "metadata": {},
   "outputs": [
    {
     "data": {
      "image/png": "[encoded data removed]",
      "text/plain": [
       "<Figure size 720x360 with 1 Axes>"
      ]
     },
     "metadata": {},
     "output_type": "display_data"
    }
   ],
   "source": [
    "# Extract the release year fron the movie titles\n",
    "ratings['release_year'] = ratings.title.map(lambda x: re.findall('\\d\\d\\d\\d', x))\n",
    "ratings.release_year = ratings.release_year.apply(lambda x: np.nan if not x else int(x[-1]))\n",
    "years =  pd.DataFrame(ratings.groupby(['release_year'])['title'].count())\n",
    "years.rename(columns={'title':'movies released'}, inplace=True)\n",
    "\n",
    "# Plot the number of movies released per year\n",
    "plt.figure(figsize=(10,5))\n",
    "plot = sns.lineplot(data=years, dashes=False, legend=False, color='#2F4F4F')\n",
    "\n",
    "# Add figure labels\n",
    "plt.xlabel('Years', fontsize=15)\n",
    "plt.ylabel('Number of movies released', fontsize=15)\n",
    "plt.title('Movies released per year\\n', fontsize=20)\n",
    "\n",
    "plt.show() "
   ]
  },
  {
   "cell_type": "code",
   "execution_count": 26,
   "metadata": {},
   "outputs": [
    {
     "data": {
      "image/png": "[encoded data removed]",
      "text/plain": [
       "<Figure size 1080x1080 with 1 Axes>"
      ]
     },
     "metadata": {},
     "output_type": "display_data"
    }
   ],
   "source": [
    "# Merge train with movies to join movie titles and ratings \n",
    "ratings = train_df.merge(movies_df, on='movieId', how='inner')\n",
    "ratings.drop('timestamp', axis=1, inplace=True)\n",
    "\n",
    "# Count how many ratings are in each category (1 star, 2 star, ect)\n",
    "grouped = pd.DataFrame(ratings.groupby(['rating'])['title'].count())\n",
    "grouped.rename(columns={'title':'rating_count'}, inplace=True)\n",
    "\n",
    "# Creating plots \n",
    "fig = plt.figure(figsize=(15,15))\n",
    "ax = fig.add_subplot(122)\n",
    "    \n",
    "# Create colour palette\n",
    "labels = ['0.5 Star', '1 Stars', '1.5 Stars', '2 Stars', '2.5 Stars', '3 Star', '3.5 Stars', '4 Stars', '4.5 Stars', '5 Stars']\n",
    "theme = plt.get_cmap('copper')\n",
    "ax.set_prop_cycle(\"color\", [theme(1. * i / len(labels))\n",
    "                                 for i in range(len(labels))])\n",
    "sns.set(font_scale=1.25)\n",
    "\n",
    "# Create pie chart\n",
    "pie = ax.pie(grouped['rating_count'],\n",
    "                 autopct='%1.1f%%',\n",
    "                 shadow=True,\n",
    "                 startangle=20,\n",
    "                 pctdistance=1.115,\n",
    "                 explode=(0.1, 0.1, 0.1, 0.1, 0.1, 0.1, 0.1, 0.1, 0.1, 0.1))\n",
    "   \n",
    "# Turn pie chart into a donut chart\n",
    "centre_circle = plt.Circle((0,0),0.70,fc='white')\n",
    "fig = plt.gcf()\n",
    "fig.gca().add_artist(centre_circle)\n",
    "\n",
    "# Display donut plot with legend\n",
    "plt.legend(pie[0], labels, loc=\"lower left\")\n",
    "ax.set_title('Movie Rating distribution\\n', fontsize=15)\n",
    "plt.tight_layout()\n",
    "plt.show()"
   ]
  },
  {
   "cell_type": "code",
   "execution_count": 72,
   "metadata": {
    "execution": {
     "iopub.execute_input": "2022-07-07T13:01:58.582060Z",
     "iopub.status.busy": "2022-07-07T13:01:58.581457Z",
     "iopub.status.idle": "2022-07-07T13:01:58.787727Z",
     "shell.execute_reply": "2022-07-07T13:01:58.786562Z",
     "shell.execute_reply.started": "2022-07-07T13:01:58.582025Z"
    }
   },
   "outputs": [],
   "source": [
    "def plot_ratings(count, n, color='#4DA017', best=True, method='mean'):\n",
    "    \"\"\"\n",
    "    Make scatterplots of ratings.\n",
    "    Parameters\n",
    "    ----------\n",
    "        count (int): number of ratings threshold\n",
    "        n (int): number of movies\n",
    "        color (str): plot colour\n",
    "        best (bool): column to plot\n",
    "        method (str): statistical measure\n",
    "    Returns\n",
    "    -------\n",
    "        scatterplot (NoneType): scatterplot of mean number of ratings\n",
    "    \"\"\"\n",
    "    # What are the best and worst movies\n",
    "    # Creating a new DF with mean and count\n",
    "    if method == 'mean':\n",
    "        movie_avg_ratings = pd.DataFrame(eda_df.join(movies_df, on='movieId', how='left').groupby(['movieId', 'title'])['rating'].mean())\n",
    "    else:\n",
    "        movie_avg_ratings = pd.DataFrame(eda_df.join(movies_df, on='movieId', how='left').groupby(['movieId', 'title'])['rating'].median())\n",
    "    movie_avg_ratings['count'] = eda_df.groupby('movieId')['userId'].count().values\n",
    "    movie_avg_ratings.reset_index(inplace=True)\n",
    "    movie_avg_ratings.set_index('movieId', inplace=True)\n",
    "\n",
    "    # Remove movies that have been rated fewer than n times\n",
    "    data = movie_avg_ratings[movie_avg_ratings['count']>count]\n",
    "    data.sort_values('rating', inplace= True,ascending=False)\n",
    "    if best == True:\n",
    "        plot = data.head(n).sort_values('rating', ascending=True)\n",
    "        title='Best Rated'\n",
    "    else:\n",
    "        plot = data.tail(n).sort_values('rating', ascending=False)\n",
    "        title='Worst Rated'\n",
    "    plt.figure(figsize=(6,5))\n",
    "    sns.scatterplot(x=plot['rating'], y=plot['title'], size=plot['count'], color=color)\n",
    "    plt.xlabel('Rating')\n",
    "    plt.ylabel('')\n",
    "    plt.tick_params(axis='y', which='both', labelleft=False, labelright=True)\n",
    "    plt.title(f'Top {n} {title} Movies with Over {count} Ratings', fontsize=14)\n",
    "    plt.show()"
   ]
  },
  {
   "cell_type": "code",
   "execution_count": 73,
   "metadata": {
    "execution": {
     "iopub.execute_input": "2022-07-07T13:02:01.622651Z",
     "iopub.status.busy": "2022-07-07T13:02:01.621930Z",
     "iopub.status.idle": "2022-07-07T13:02:06.158762Z",
     "shell.execute_reply": "2022-07-07T13:02:06.157617Z",
     "shell.execute_reply.started": "2022-07-07T13:02:01.622613Z"
    }
   },
   "outputs": [],
   "source": [
    "# What are the top 10 highest rated titles?\n",
    "plot_ratings(10000, 15, '#4D17A0', True, 'mean')"
   ]
  },
  {
   "cell_type": "code",
   "execution_count": 74,
   "metadata": {
    "execution": {
     "iopub.execute_input": "2022-07-07T13:02:07.378422Z",
     "iopub.status.busy": "2022-07-07T13:02:07.377764Z",
     "iopub.status.idle": "2022-07-07T13:02:11.884721Z",
     "shell.execute_reply": "2022-07-07T13:02:11.883249Z",
     "shell.execute_reply.started": "2022-07-07T13:02:07.378371Z"
    }
   },
   "outputs": [],
   "source": [
    "# What are the 10 worst rated titles?\n",
    "plot_ratings(500, 15,'#4DA017', False, 'mean')"
   ]
  },
  {
   "cell_type": "code",
   "execution_count": 75,
   "metadata": {
    "execution": {
     "iopub.execute_input": "2022-07-07T13:02:11.887451Z",
     "iopub.status.busy": "2022-07-07T13:02:11.887048Z",
     "iopub.status.idle": "2022-07-07T13:02:12.283325Z",
     "shell.execute_reply": "2022-07-07T13:02:12.282038Z",
     "shell.execute_reply.started": "2022-07-07T13:02:11.887418Z"
    }
   },
   "outputs": [],
   "source": [
    "movieRatingDistGroup = train_df['rating'].value_counts().sort_index().reset_index()\n",
    "fig, ax = plt.subplots(figsize=(10,6))\n",
    "sns.barplot(data=movieRatingDistGroup, x='index', y='rating', palette=\"brg\", edgecolor=\"black\", ax=ax)\n",
    "ax.set_xlabel(\"Rating\")\n",
    "ax.set_ylabel('Number of Users')\n",
    "ax.set_yticklabels(['{:,}'.format(int(x)) for x in ax.get_yticks().tolist()])\n",
    "total = float(movieRatingDistGroup['rating'].sum())\n",
    "for p in ax.patches:\n",
    "    height = p.get_height()\n",
    "    ax.text(p.get_x()+p.get_width()/2., height+350, '{0:.2%}'.format(height/total), fontsize=11, ha=\"center\", va='bottom')\n",
    "plt.title('Number of Users Per Rating', fontsize=14)\n",
    "plt.show()"
   ]
  },
  {
   "cell_type": "code",
   "execution_count": 76,
   "metadata": {
    "execution": {
     "iopub.execute_input": "2022-07-07T13:02:12.285211Z",
     "iopub.status.busy": "2022-07-07T13:02:12.284854Z",
     "iopub.status.idle": "2022-07-07T13:02:12.293273Z",
     "shell.execute_reply": "2022-07-07T13:02:12.291666Z",
     "shell.execute_reply.started": "2022-07-07T13:02:12.285179Z"
    }
   },
   "outputs": [],
   "source": [
    "# function that hasn't found a use yet - it was usefull in the app!!\n",
    "def feat_extractor(df, col):\n",
    "    \"\"\"\n",
    "    Returns a list of all unique features in a DataFrame columns separated by \"|\"\n",
    "    \"\"\"\n",
    "    df.fillna(\"\", inplace=True)\n",
    "    feat_set = set()\n",
    "    for i in range(len(df[f'{col}'])):\n",
    "        for feat in df[f'{col}'].iloc[i].split('|'):\n",
    "            feat_set.add(feat)\n",
    "    return sorted([feat for feat in feat_set if feat != \"\"])"
   ]
  },
  {
   "cell_type": "code",
   "execution_count": 77,
   "metadata": {
    "execution": {
     "iopub.execute_input": "2022-07-07T13:02:12.320451Z",
     "iopub.status.busy": "2022-07-07T13:02:12.319099Z",
     "iopub.status.idle": "2022-07-07T13:02:12.877866Z",
     "shell.execute_reply": "2022-07-07T13:02:12.876638Z",
     "shell.execute_reply.started": "2022-07-07T13:02:12.320385Z"
    }
   },
   "outputs": [],
   "source": [
    "genres = feat_extractor(movies_df, 'genres')"
   ]
  },
  {
   "cell_type": "code",
   "execution_count": 78,
   "metadata": {
    "execution": {
     "iopub.execute_input": "2022-07-07T13:02:15.218100Z",
     "iopub.status.busy": "2022-07-07T13:02:15.217715Z",
     "iopub.status.idle": "2022-07-07T13:02:26.273763Z",
     "shell.execute_reply": "2022-07-07T13:02:26.272738Z",
     "shell.execute_reply.started": "2022-07-07T13:02:15.218068Z"
    }
   },
   "outputs": [],
   "source": [
    "def feature_frequency(df, column):\n",
    "    \"\"\"\n",
    "    Function to count the number of occurences of metadata such as genre\n",
    "    Parameters\n",
    "    ----------\n",
    "        df (DataFrame): input DataFrame containing movie metadata\n",
    "        column (str): target column to extract features from\n",
    "    Returns\n",
    "    -------\n",
    "        \n",
    "    \"\"\"\n",
    "    # Creat a dict to store values\n",
    "    df = df.dropna(axis=0)\n",
    "    genre_dict = {f'{column}': list(),\n",
    "                 'count': list(),}\n",
    "    # Retrieve a list of all possible genres\n",
    "    print('retrieving features...')\n",
    "    for movie in range(len(df)):\n",
    "        gens = df[f'{column}'].iloc[movie].split('|')\n",
    "        for gen in gens:\n",
    "            if gen not in genre_dict[f'{column}']:\n",
    "                genre_dict[f'{column}'].append(gen)\n",
    "    # count the number of occurences of each genre\n",
    "    print('counting...')\n",
    "    for genre in genre_dict[f'{column}']:\n",
    "        count = 0\n",
    "        for movie in range(len(df)):\n",
    "            gens = df[f'{column}'].iloc[movie].split('|')\n",
    "            if genre in gens:\n",
    "                count += 1\n",
    "        genre_dict['count'].append(count)\n",
    "        \n",
    "        # Calculate metrics\n",
    "    data = pd.DataFrame(genre_dict)\n",
    "    print('done!')\n",
    "    return data\n",
    "genres = feature_frequency(movies_df, 'genres')"
   ]
  },
  {
   "cell_type": "code",
   "execution_count": 79,
   "metadata": {
    "execution": {
     "iopub.execute_input": "2022-07-07T13:02:26.276044Z",
     "iopub.status.busy": "2022-07-07T13:02:26.275149Z",
     "iopub.status.idle": "2022-07-07T13:02:26.282684Z",
     "shell.execute_reply": "2022-07-07T13:02:26.281088Z",
     "shell.execute_reply.started": "2022-07-07T13:02:26.276003Z"
    }
   },
   "outputs": [],
   "source": [
    "def feature_count(df, column):\n",
    "    plt.figure(figsize=(10,6))\n",
    "    ax = sns.barplot(y = df[f'{column}'], x = df['count'], palette='brg', orient='h')\n",
    "    plt.title(f'Number of Movies Per {column}', fontsize=14)\n",
    "    plt.ylabel(f'{column}')\n",
    "    plt.xlabel('Count')\n",
    "    plt.show()"
   ]
  },
  {
   "cell_type": "code",
   "execution_count": 80,
   "metadata": {
    "execution": {
     "iopub.execute_input": "2022-07-07T13:02:28.092400Z",
     "iopub.status.busy": "2022-07-07T13:02:28.091602Z",
     "iopub.status.idle": "2022-07-07T13:02:28.424712Z",
     "shell.execute_reply": "2022-07-07T13:02:28.423430Z",
     "shell.execute_reply.started": "2022-07-07T13:02:28.092350Z"
    }
   },
   "outputs": [],
   "source": [
    "feature_count(genres.sort_values(by = 'count', ascending=False), 'genres')"
   ]
  },
  {
   "cell_type": "code",
   "execution_count": 81,
   "metadata": {
    "execution": {
     "iopub.execute_input": "2022-07-07T13:02:29.968330Z",
     "iopub.status.busy": "2022-07-07T13:02:29.967927Z",
     "iopub.status.idle": "2022-07-07T13:02:29.983344Z",
     "shell.execute_reply": "2022-07-07T13:02:29.981782Z",
     "shell.execute_reply.started": "2022-07-07T13:02:29.968295Z"
    }
   },
   "outputs": [],
   "source": [
    "def mean_calc(feat_df, ratings = eda_df, movies = movies_df, metadata = imdb_df, column = 'genres'):\n",
    "    mean_ratings = pd.DataFrame(ratings.join(movies, on='movieId', how='left').groupby(['movieId'])['rating'].mean())\n",
    "    movie_eda = movies.copy()\n",
    "    movie_eda = movie_eda.join(mean_ratings, on = 'movieId', how = 'left')\n",
    "\n",
    "    # Exclude missing values\n",
    "    movie_eda = movie_eda\n",
    "    movie_eda2 = movie_eda[movie_eda['rating'].notnull()]\n",
    "\n",
    "    means = []\n",
    "    for feat in feat_df[f'{column}']:\n",
    "        mean = round(movie_eda2[movie_eda2[f'{column}'].str.contains(feat)]['rating'].mean(),2)\n",
    "        means.append(mean)\n",
    "    return means"
   ]
  },
  {
   "cell_type": "code",
   "execution_count": 82,
   "metadata": {
    "execution": {
     "iopub.execute_input": "2022-07-07T13:02:36.807231Z",
     "iopub.status.busy": "2022-07-07T13:02:36.806042Z",
     "iopub.status.idle": "2022-07-07T13:02:38.836210Z",
     "shell.execute_reply": "2022-07-07T13:02:38.834839Z",
     "shell.execute_reply.started": "2022-07-07T13:02:36.807177Z"
    }
   },
   "outputs": [],
   "source": [
    "genres['mean_rating'] = mean_calc(genres)"
   ]
  },
  {
   "cell_type": "code",
   "execution_count": 83,
   "metadata": {
    "execution": {
     "iopub.execute_input": "2022-07-07T13:02:40.387885Z",
     "iopub.status.busy": "2022-07-07T13:02:40.387469Z",
     "iopub.status.idle": "2022-07-07T13:02:40.400383Z",
     "shell.execute_reply": "2022-07-07T13:02:40.399144Z",
     "shell.execute_reply.started": "2022-07-07T13:02:40.387851Z"
    }
   },
   "outputs": [],
   "source": [
    "genres.sort_values('mean_rating', ascending=False).head(5)"
   ]
  },
  {
   "cell_type": "code",
   "execution_count": 84,
   "metadata": {
    "execution": {
     "iopub.execute_input": "2022-07-07T13:02:43.826820Z",
     "iopub.status.busy": "2022-07-07T13:02:43.825809Z",
     "iopub.status.idle": "2022-07-07T13:02:43.835777Z",
     "shell.execute_reply": "2022-07-07T13:02:43.834480Z",
     "shell.execute_reply.started": "2022-07-07T13:02:43.826772Z"
    }
   },
   "outputs": [],
   "source": [
    "def genre_popularity(df):\n",
    "    \"\"\"\n",
    "    Plots the mean rating per genre.\n",
    "    \"\"\"\n",
    "    count_filt = 500\n",
    "    plt.figure(figsize=(10,6))\n",
    "    plot_data = df[df['count']>count_filt]\n",
    "    mean = plot_data['mean_rating'].mean()\n",
    "    min_ = plot_data['mean_rating'].min()\n",
    "    max_ = plot_data['mean_rating'].max()\n",
    "    sns.barplot(y = plot_data['genres'], x = plot_data['mean_rating'], order = plot_data['genres'], orient='h',palette='brg')\n",
    "    plt.axvline(x=mean, label = f'mean {round(mean,1)}' , color='black', lw=1, ls ='--')\n",
    "    plt.axvline(x=min_, label = f'min {round(min_,1)}' , color='#4D17A0', lw=1, ls = '--')\n",
    "    plt.axvline(x=max_, label = f'max {max_}' , color='#4DA017', lw=1,ls = '--')\n",
    "    plt.title(f'Mean Rating Per Genre', fontsize=14)\n",
    "    plt.ylabel('Genre')\n",
    "    plt.xlabel('Mean Rating')\n",
    "    plt.legend(loc='lower center')\n",
    "    plt.show()"
   ]
  },
  {
   "cell_type": "code",
   "execution_count": 85,
   "metadata": {
    "execution": {
     "iopub.execute_input": "2022-07-07T13:02:45.895164Z",
     "iopub.status.busy": "2022-07-07T13:02:45.894375Z",
     "iopub.status.idle": "2022-07-07T13:02:46.248378Z",
     "shell.execute_reply": "2022-07-07T13:02:46.247097Z",
     "shell.execute_reply.started": "2022-07-07T13:02:45.895115Z"
    }
   },
   "outputs": [],
   "source": [
    "genre_popularity(genres.sort_values('mean_rating', ascending=False))"
   ]
  },
  {
   "cell_type": "code",
   "execution_count": 89,
   "metadata": {
    "execution": {
     "iopub.execute_input": "2022-07-07T13:05:41.929295Z",
     "iopub.status.busy": "2022-07-07T13:05:41.928429Z",
     "iopub.status.idle": "2022-07-07T13:05:41.955796Z",
     "shell.execute_reply": "2022-07-07T13:05:41.954633Z",
     "shell.execute_reply.started": "2022-07-07T13:05:41.929254Z"
    }
   },
   "outputs": [],
   "source": [
    "box = mean_ratings.join(movies_df)\n",
    "box['genres'] = box['genres'].str.replace('|', ',')\n",
    "box['genres'] = box['genres'].apply(lambda x: x.split(\",\"))\n",
    "box = box.explode('genres')\n",
    "box = box[box['genres']!='(no genres listed)']\n",
    "\n",
    "fig,axis = plt.subplots(figsize=(10, 8))\n",
    "sns.boxplot(y=box['genres'], x=box['rating'], palette=\"brg\", orient='h', showfliers = False)\n",
    "plt.title(\"Distribution of Ratings Per Genre\", fontsize=14)\n",
    "plt.xlabel(\"Rating\")\n",
    "plt.ylabel(\"Genre\")\n",
    "plt.show()"
   ]
  },
  {
   "cell_type": "code",
   "execution_count": 90,
   "metadata": {
    "execution": {
     "iopub.execute_input": "2022-07-07T13:06:13.601704Z",
     "iopub.status.busy": "2022-07-07T13:06:13.600880Z",
     "iopub.status.idle": "2022-07-07T13:06:13.619778Z",
     "shell.execute_reply": "2022-07-07T13:06:13.618674Z",
     "shell.execute_reply.started": "2022-07-07T13:06:13.601661Z"
    }
   },
   "outputs": [],
   "source": [
    "def count_directors(df, count = 10):\n",
    "    \"\"\"\n",
    "    Function to count the most common dircetors in a DataFrame:\n",
    "    Parameters\n",
    "    ----------\n",
    "        df (DataFrame): input dataframe containing imdb metadata\n",
    "        count (int): filter directors with fewer than count films\n",
    "        \n",
    "    Returns\n",
    "    -------\n",
    "        directors (DataFrame): output DataFrame\n",
    "    Examples\n",
    "    --------\n",
    "        >>> df = pd.DataFrame({'imdbid':[0,1,2,3,4,5], 'director': [A,B,A,C,B]})\n",
    "        >>> count_directors(df, count = 1)\n",
    "            |index|director|count|\n",
    "            |0|A|2|\n",
    "            |1|B|2|\n",
    "            |2|C|1|\n",
    "    \"\"\"\n",
    "    directors = pd.DataFrame(df['director'].value_counts()).reset_index()\n",
    "    directors.columns = ['director', 'count']\n",
    "    # Lets only take directors who have made 10 or more movies otherwise we will have to analyze 11000 directors\n",
    "    directors = directors[directors['count']>=count]\n",
    "    return directors.sort_values('count', ascending = False)\n",
    "directors = count_directors(imdb_df)"
   ]
  },
  {
   "cell_type": "code",
   "execution_count": 91,
   "metadata": {
    "execution": {
     "iopub.execute_input": "2022-07-07T13:06:31.733745Z",
     "iopub.status.busy": "2022-07-07T13:06:31.733025Z",
     "iopub.status.idle": "2022-07-07T13:06:32.021503Z",
     "shell.execute_reply": "2022-07-07T13:06:32.020387Z",
     "shell.execute_reply.started": "2022-07-07T13:06:31.733705Z"
    }
   },
   "outputs": [],
   "source": [
    "feature_count(directors.head(10), 'director')"
   ]
  },
  {
   "cell_type": "code",
   "execution_count": 92,
   "metadata": {
    "execution": {
     "iopub.execute_input": "2022-07-07T13:06:52.058333Z",
     "iopub.status.busy": "2022-07-07T13:06:52.057933Z",
     "iopub.status.idle": "2022-07-07T13:06:52.065716Z",
     "shell.execute_reply": "2022-07-07T13:06:52.064458Z",
     "shell.execute_reply.started": "2022-07-07T13:06:52.058299Z"
    }
   },
   "outputs": [],
   "source": [
    "def dir_mean(df):\n",
    "    df.set_index('director', inplace=True)\n",
    "\n",
    "    direct_ratings = []\n",
    "    directors_eda = eda_df.join(imdb_df, on = 'movieId', how = 'left')\n",
    "    for director in df.index:\n",
    "        rating = round(directors_eda[directors_eda['director']==director]['rating'].mean(),2)\n",
    "        direct_ratings.append(rating)\n",
    "    df['mean_rating'] = direct_ratings\n",
    "    return df.sort_values('mean_rating', ascending = False)"
   ]
  },
  {
   "cell_type": "code",
   "execution_count": 93,
   "metadata": {
    "execution": {
     "iopub.execute_input": "2022-07-07T13:07:03.649109Z",
     "iopub.status.busy": "2022-07-07T13:07:03.648683Z",
     "iopub.status.idle": "2022-07-07T13:07:31.470110Z",
     "shell.execute_reply": "2022-07-07T13:07:31.468777Z",
     "shell.execute_reply.started": "2022-07-07T13:07:03.649074Z"
    }
   },
   "outputs": [],
   "source": [
    "directors = dir_mean(directors)"
   ]
  },
  {
   "cell_type": "code",
   "execution_count": 94,
   "metadata": {
    "execution": {
     "iopub.execute_input": "2022-07-07T13:07:31.473114Z",
     "iopub.status.busy": "2022-07-07T13:07:31.472595Z",
     "iopub.status.idle": "2022-07-07T13:07:31.484946Z",
     "shell.execute_reply": "2022-07-07T13:07:31.483738Z",
     "shell.execute_reply.started": "2022-07-07T13:07:31.473061Z"
    }
   },
   "outputs": [],
   "source": [
    "directors.head()"
   ]
  },
  {
   "cell_type": "code",
   "execution_count": 95,
   "metadata": {
    "execution": {
     "iopub.execute_input": "2022-07-07T13:08:05.201110Z",
     "iopub.status.busy": "2022-07-07T13:08:05.200376Z",
     "iopub.status.idle": "2022-07-07T13:08:05.209465Z",
     "shell.execute_reply": "2022-07-07T13:08:05.208640Z",
     "shell.execute_reply.started": "2022-07-07T13:08:05.201067Z"
    }
   },
   "outputs": [],
   "source": [
    "def feat_popularity(df, title = 'feat'):\n",
    "    \"\"\"\n",
    "    Plots the mean rating per director.\n",
    "    \"\"\"\n",
    "    plt.figure(figsize=(10,6))\n",
    "    plot_data = df.copy()\n",
    "    mean = plot_data['mean_rating'].mean()\n",
    "    min_ = plot_data['mean_rating'].min()\n",
    "    max_ = round(plot_data['mean_rating'].max(),2)\n",
    "    sns.barplot(y = plot_data.index, x = plot_data['mean_rating'], order = plot_data.index, orient='h',palette='brg')\n",
    "    plt.axvline(x=mean, label = f'mean {round(mean,1)}' , color='black', lw=1, ls ='--')\n",
    "    plt.axvline(x=min_, label = f'min {round(min_,1)}' , color='#4D17A0', lw=1, ls = '--')\n",
    "    plt.axvline(x=max_, label = f'max {max_}' , color='#4DA017', lw=1,ls = '--')\n",
    "    plt.title(f'Mean Rating Per {title}', fontsize=14)\n",
    "    plt.ylabel(f'{title}')\n",
    "    plt.xlabel('Mean Rating')\n",
    "    plt.legend(loc='lower center')\n",
    "    plt.show()"
   ]
  },
  {
   "cell_type": "code",
   "execution_count": 96,
   "metadata": {
    "execution": {
     "iopub.execute_input": "2022-07-07T13:08:24.172697Z",
     "iopub.status.busy": "2022-07-07T13:08:24.172074Z",
     "iopub.status.idle": "2022-07-07T13:08:24.491512Z",
     "shell.execute_reply": "2022-07-07T13:08:24.490137Z",
     "shell.execute_reply.started": "2022-07-07T13:08:24.172659Z"
    }
   },
   "outputs": [],
   "source": [
    "feat_popularity(directors.head(10), 'Director')"
   ]
  },
  {
   "cell_type": "code",
   "execution_count": 97,
   "metadata": {
    "execution": {
     "iopub.execute_input": "2022-07-07T13:08:48.608452Z",
     "iopub.status.busy": "2022-07-07T13:08:48.608095Z",
     "iopub.status.idle": "2022-07-07T13:08:48.912396Z",
     "shell.execute_reply": "2022-07-07T13:08:48.911141Z",
     "shell.execute_reply.started": "2022-07-07T13:08:48.608423Z"
    }
   },
   "outputs": [],
   "source": [
    "feat_popularity(directors.tail(10), 'Director')"
   ]
  },
  {
   "cell_type": "code",
   "execution_count": 98,
   "metadata": {
    "execution": {
     "iopub.execute_input": "2022-07-07T13:09:14.241525Z",
     "iopub.status.busy": "2022-07-07T13:09:14.241055Z",
     "iopub.status.idle": "2022-07-07T13:09:14.250480Z",
     "shell.execute_reply": "2022-07-07T13:09:14.249091Z",
     "shell.execute_reply.started": "2022-07-07T13:09:14.241486Z"
    }
   },
   "outputs": [],
   "source": [
    "# Subset the data to cut down computation time for now\n",
    "genome_score = genome_scores[:10000000]"
   ]
  },
  {
   "cell_type": "code",
   "execution_count": 99,
   "metadata": {
    "execution": {
     "iopub.execute_input": "2022-07-07T13:09:26.799346Z",
     "iopub.status.busy": "2022-07-07T13:09:26.798920Z",
     "iopub.status.idle": "2022-07-07T13:09:27.333865Z",
     "shell.execute_reply": "2022-07-07T13:09:27.332644Z",
     "shell.execute_reply.started": "2022-07-07T13:09:26.799314Z"
    }
   },
   "outputs": [],
   "source": [
    "# Although scores are in the range of 0-1, there is no harm in scaling\n",
    "scaler_mds = StandardScaler()\n",
    "mds_genome = scaler_mds.fit_transform(genome_score.sample(frac=0.0001))"
   ]
  },
  {
   "cell_type": "code",
   "execution_count": 100,
   "metadata": {
    "execution": {
     "iopub.execute_input": "2022-07-07T13:09:38.218168Z",
     "iopub.status.busy": "2022-07-07T13:09:38.217789Z",
     "iopub.status.idle": "2022-07-07T13:09:38.224696Z",
     "shell.execute_reply": "2022-07-07T13:09:38.223374Z",
     "shell.execute_reply.started": "2022-07-07T13:09:38.218139Z"
    }
   },
   "outputs": [],
   "source": [
    "tsne = TSNE(3, n_jobs = -1, verbose = 2, perplexity = 10, learning_rate = 0.1)"
   ]
  },
  {
   "cell_type": "code",
   "execution_count": 101,
   "metadata": {
    "execution": {
     "iopub.execute_input": "2022-07-07T13:09:51.110660Z",
     "iopub.status.busy": "2022-07-07T13:09:51.110251Z",
     "iopub.status.idle": "2022-07-07T13:09:58.079183Z",
     "shell.execute_reply": "2022-07-07T13:09:58.077880Z",
     "shell.execute_reply.started": "2022-07-07T13:09:51.110628Z"
    }
   },
   "outputs": [],
   "source": [
    "tsne.fit(mds_genome)"
   ]
  },
  {
   "cell_type": "code",
   "execution_count": 102,
   "metadata": {
    "execution": {
     "iopub.execute_input": "2022-07-07T13:10:56.652216Z",
     "iopub.status.busy": "2022-07-07T13:10:56.651831Z",
     "iopub.status.idle": "2022-07-07T13:10:56.927945Z",
     "shell.execute_reply": "2022-07-07T13:10:56.926827Z",
     "shell.execute_reply.started": "2022-07-07T13:10:56.652183Z"
    }
   },
   "outputs": [],
   "source": [
    "Axes3D\n",
    "\n",
    "fig = plt.figure(figsize=(15, 8))\n",
    "\n",
    "# Add 3D scatter plot\n",
    "ax = fig.add_subplot(projection='3d')\n",
    "ax.scatter(tsne.embedding_[:,0], tsne.embedding_[:,1], tsne.embedding_[:,2], color='#4D17A0')\n",
    "plt.show()"
   ]
  },
  {
   "cell_type": "code",
   "execution_count": 103,
   "metadata": {
    "execution": {
     "iopub.execute_input": "2022-07-07T13:11:26.369073Z",
     "iopub.status.busy": "2022-07-07T13:11:26.367702Z",
     "iopub.status.idle": "2022-07-07T13:11:26.743637Z",
     "shell.execute_reply": "2022-07-07T13:11:26.742524Z",
     "shell.execute_reply.started": "2022-07-07T13:11:26.369015Z"
    }
   },
   "outputs": [],
   "source": [
    "fig = plt.figure(figsize=(8, 6))\n",
    "sns.scatterplot(x = tsne.embedding_[:,0], y = tsne.embedding_[:,1], size=tsne.embedding_[:,2],color='#4DA017')\n",
    "plt.show()"
   ]
  },
  {
   "cell_type": "code",
   "execution_count": 104,
   "metadata": {
    "execution": {
     "iopub.execute_input": "2022-07-07T13:11:45.252762Z",
     "iopub.status.busy": "2022-07-07T13:11:45.252078Z",
     "iopub.status.idle": "2022-07-07T13:11:45.259133Z",
     "shell.execute_reply": "2022-07-07T13:11:45.257885Z",
     "shell.execute_reply.started": "2022-07-07T13:11:45.252720Z"
    }
   },
   "outputs": [],
   "source": [
    "# Manually pivot table as data is too large for in-built functions\n",
    "def pivot_(df):\n",
    "    \"\"\"\n",
    "    Pivots table.\n",
    "    \"\"\"\n",
    "    new_dict = {'movieId':sorted(set(df.index))}\n",
    "    pivoted = pd.DataFrame(new_dict)\n",
    "    tagids = sorted(set(df['tagId']))\n",
    "    for Id in range(len(tagids)):\n",
    "        pivoted[f'{Id+1}'] = list(df[df['tagId'] == Id+1]['relevance'])\n",
    "    return pivoted"
   ]
  },
  {
   "cell_type": "code",
   "execution_count": 105,
   "metadata": {
    "execution": {
     "iopub.execute_input": "2022-07-07T13:11:58.097889Z",
     "iopub.status.busy": "2022-07-07T13:11:58.097504Z",
     "iopub.status.idle": "2022-07-07T13:12:23.634821Z",
     "shell.execute_reply": "2022-07-07T13:12:23.633451Z",
     "shell.execute_reply.started": "2022-07-07T13:11:58.097859Z"
    }
   },
   "outputs": [],
   "source": [
    "pca_data_pivoted = pivot_(genome_scores).set_index('movieId')"
   ]
  },
  {
   "cell_type": "code",
   "execution_count": 106,
   "metadata": {
    "execution": {
     "iopub.execute_input": "2022-07-07T13:12:31.983849Z",
     "iopub.status.busy": "2022-07-07T13:12:31.983394Z",
     "iopub.status.idle": "2022-07-07T13:12:31.993297Z",
     "shell.execute_reply": "2022-07-07T13:12:31.991947Z",
     "shell.execute_reply.started": "2022-07-07T13:12:31.983806Z"
    }
   },
   "outputs": [],
   "source": [
    "pca_data_pivoted.shape"
   ]
  },
  {
   "cell_type": "code",
   "execution_count": 107,
   "metadata": {
    "execution": {
     "iopub.execute_input": "2022-07-07T13:12:53.413895Z",
     "iopub.status.busy": "2022-07-07T13:12:53.413445Z",
     "iopub.status.idle": "2022-07-07T13:12:53.419834Z",
     "shell.execute_reply": "2022-07-07T13:12:53.418733Z",
     "shell.execute_reply.started": "2022-07-07T13:12:53.413851Z"
    }
   },
   "outputs": [],
   "source": [
    "pca_data_pivoted.columns = list(genome_tags['tag'])"
   ]
  },
  {
   "cell_type": "code",
   "execution_count": 108,
   "metadata": {
    "execution": {
     "iopub.execute_input": "2022-07-07T13:13:07.379769Z",
     "iopub.status.busy": "2022-07-07T13:13:07.378671Z",
     "iopub.status.idle": "2022-07-07T13:13:07.421361Z",
     "shell.execute_reply": "2022-07-07T13:13:07.420195Z",
     "shell.execute_reply.started": "2022-07-07T13:13:07.379726Z"
    }
   },
   "outputs": [],
   "source": [
    "pca_data_pivoted.head()"
   ]
  },
  {
   "cell_type": "code",
   "execution_count": 109,
   "metadata": {
    "execution": {
     "iopub.execute_input": "2022-07-07T13:13:33.174740Z",
     "iopub.status.busy": "2022-07-07T13:13:33.174231Z",
     "iopub.status.idle": "2022-07-07T13:13:33.180247Z",
     "shell.execute_reply": "2022-07-07T13:13:33.179439Z",
     "shell.execute_reply.started": "2022-07-07T13:13:33.174699Z"
    }
   },
   "outputs": [],
   "source": [
    "features = [col for col in pca_data_pivoted.columns]"
   ]
  },
  {
   "cell_type": "code",
   "execution_count": 111,
   "metadata": {
    "execution": {
     "iopub.execute_input": "2022-07-07T13:14:03.192524Z",
     "iopub.status.busy": "2022-07-07T13:14:03.191670Z",
     "iopub.status.idle": "2022-07-07T13:14:06.046522Z",
     "shell.execute_reply": "2022-07-07T13:14:06.044669Z",
     "shell.execute_reply.started": "2022-07-07T13:14:03.192473Z"
    }
   },
   "outputs": [],
   "source": [
    "cf.set_config_file(offline=True, world_readable=True, theme='white')\n",
    "columns = random.sample(range(0, 1129), 20)\n",
    "pca_data_pivoted.iloc[:,columns].iplot(kind='box', title=\"Boxplots of Features (Unscaled)\")"
   ]
  },
  {
   "cell_type": "code",
   "execution_count": 112,
   "metadata": {
    "execution": {
     "iopub.execute_input": "2022-07-07T13:17:41.163331Z",
     "iopub.status.busy": "2022-07-07T13:17:41.162914Z",
     "iopub.status.idle": "2022-07-07T13:17:41.168492Z",
     "shell.execute_reply": "2022-07-07T13:17:41.167658Z",
     "shell.execute_reply.started": "2022-07-07T13:17:41.163296Z"
    }
   },
   "outputs": [],
   "source": [
    "def scaler(df):\n",
    "    \"\"\"\n",
    "    Scales data.\n",
    "    \"\"\"\n",
    "    scaler = StandardScaler(with_std=True)\n",
    "    scaled_data = scaler.fit_transform(df)\n",
    "    return scaled_data"
   ]
  },
  {
   "cell_type": "code",
   "execution_count": 113,
   "metadata": {
    "execution": {
     "iopub.execute_input": "2022-07-07T13:17:51.328150Z",
     "iopub.status.busy": "2022-07-07T13:17:51.327041Z",
     "iopub.status.idle": "2022-07-07T13:17:51.565521Z",
     "shell.execute_reply": "2022-07-07T13:17:51.564273Z",
     "shell.execute_reply.started": "2022-07-07T13:17:51.328106Z"
    }
   },
   "outputs": [],
   "source": [
    "pca_scaled = scaler(pca_data_pivoted)"
   ]
  },
  {
   "cell_type": "code",
   "execution_count": 114,
   "metadata": {
    "execution": {
     "iopub.execute_input": "2022-07-07T13:18:03.058841Z",
     "iopub.status.busy": "2022-07-07T13:18:03.057933Z",
     "iopub.status.idle": "2022-07-07T13:18:03.064081Z",
     "shell.execute_reply": "2022-07-07T13:18:03.062915Z",
     "shell.execute_reply.started": "2022-07-07T13:18:03.058803Z"
    }
   },
   "outputs": [],
   "source": [
    "scaled_pca = pd.DataFrame(pca_scaled, index = pca_data_pivoted.index, columns = pca_data_pivoted.columns)"
   ]
  },
  {
   "cell_type": "code",
   "execution_count": 115,
   "metadata": {
    "execution": {
     "iopub.execute_input": "2022-07-07T13:18:18.454944Z",
     "iopub.status.busy": "2022-07-07T13:18:18.454460Z",
     "iopub.status.idle": "2022-07-07T13:18:21.494119Z",
     "shell.execute_reply": "2022-07-07T13:18:21.492775Z",
     "shell.execute_reply.started": "2022-07-07T13:18:18.454903Z"
    }
   },
   "outputs": [],
   "source": [
    "cf.set_config_file(offline=True, world_readable=True, theme='white')\n",
    "# using plotly to plot the boxplot\n",
    "scaled_pca.iloc[:,columns].iplot(kind='box', title=\"Boxplots of Features (Scaled)\")"
   ]
  },
  {
   "cell_type": "code",
   "execution_count": 116,
   "metadata": {
    "execution": {
     "iopub.execute_input": "2022-07-07T13:18:42.737790Z",
     "iopub.status.busy": "2022-07-07T13:18:42.737355Z",
     "iopub.status.idle": "2022-07-07T13:18:46.491707Z",
     "shell.execute_reply": "2022-07-07T13:18:46.490693Z",
     "shell.execute_reply.started": "2022-07-07T13:18:42.737751Z"
    }
   },
   "outputs": [],
   "source": [
    "# define PCA object\n",
    "pca = PCA()\n",
    "\n",
    "# fit the PCA model to our data and apply the dimensionality reduction \n",
    "prin_comp = pca.fit_transform(pca_data_pivoted[features])\n",
    "\n",
    "# create a dataframe containing the principal components\n",
    "pca_df = pd.DataFrame(data = prin_comp,\n",
    "                      index=pca_data_pivoted.index, columns=pca_data_pivoted.columns\n",
    "                     )\n",
    "\n",
    "# plot line graph of cumulative variance explained\n",
    "plt.plot(np.cumsum(pca.explained_variance_ratio_),color='#4D17A0')\n",
    "plt.xlabel('Number of components')\n",
    "plt.ylabel('Cumulative explained variance')"
   ]
  },
  {
   "cell_type": "code",
   "execution_count": 117,
   "metadata": {
    "execution": {
     "iopub.execute_input": "2022-07-07T13:19:10.895895Z",
     "iopub.status.busy": "2022-07-07T13:19:10.895483Z",
     "iopub.status.idle": "2022-07-07T13:19:14.364579Z",
     "shell.execute_reply": "2022-07-07T13:19:14.362972Z",
     "shell.execute_reply.started": "2022-07-07T13:19:10.895862Z"
    }
   },
   "outputs": [],
   "source": [
    "pca_75 = PCA(.80)\n",
    "pca_75_df = pca_75.fit_transform(pca_data_pivoted)\n",
    "print(round(pca_75.explained_variance_ratio_.sum()*100, 1),\n",
    "      \"% of variance explained by\",\n",
    "      pca_75.n_components_,\n",
    "      \"components.\")"
   ]
  },
  {
   "cell_type": "code",
   "execution_count": 118,
   "metadata": {
    "execution": {
     "iopub.execute_input": "2022-07-07T13:19:24.732726Z",
     "iopub.status.busy": "2022-07-07T13:19:24.731661Z",
     "iopub.status.idle": "2022-07-07T13:19:24.767745Z",
     "shell.execute_reply": "2022-07-07T13:19:24.766574Z",
     "shell.execute_reply.started": "2022-07-07T13:19:24.732688Z"
    }
   },
   "outputs": [],
   "source": [
    "pca_75_df = pd.DataFrame(pca_75_df, index = pca_data_pivoted.index)\n",
    "pca_75_df.head()"
   ]
  },
  {
   "cell_type": "code",
   "execution_count": 119,
   "metadata": {
    "execution": {
     "iopub.execute_input": "2022-07-07T13:19:47.737954Z",
     "iopub.status.busy": "2022-07-07T13:19:47.737522Z",
     "iopub.status.idle": "2022-07-07T13:19:47.745119Z",
     "shell.execute_reply": "2022-07-07T13:19:47.743986Z",
     "shell.execute_reply.started": "2022-07-07T13:19:47.737924Z"
    }
   },
   "outputs": [],
   "source": [
    "# Manually implement the WCSS\n",
    "def within_cluster_variation(df, label_col='cluster_label'):\n",
    "    \"\"\"\n",
    "    Manually implements the WCSS.\n",
    "    \"\"\"\n",
    "    centroids = df.groupby(label_col).mean()\n",
    "    out = 0\n",
    "    for label, point in centroids.iterrows():\n",
    "        df_features = df[df[label_col] == label].drop(label_col, axis=1)\n",
    "        out += (df_features - point).pow(2).sum(axis=1).sum()\n",
    "    return out"
   ]
  },
  {
   "cell_type": "code",
   "execution_count": 120,
   "metadata": {
    "execution": {
     "iopub.execute_input": "2022-07-07T13:20:02.840238Z",
     "iopub.status.busy": "2022-07-07T13:20:02.839495Z",
     "iopub.status.idle": "2022-07-07T13:20:45.570228Z",
     "shell.execute_reply": "2022-07-07T13:20:45.568231Z",
     "shell.execute_reply.started": "2022-07-07T13:20:02.840190Z"
    }
   },
   "outputs": [],
   "source": [
    "# let's try everything between 2 and 18 clusters where 18 is the number of genres\n",
    "n_clusters = np.arange(2, 19)\n",
    "\n",
    "# store errors for each value of k\n",
    "errors = []\n",
    "\n",
    "# for i between 2 and 19\n",
    "for k in n_clusters:\n",
    "    print(f'training model with {k} clusters')\n",
    "    # perform k-means clustering\n",
    "    km = KMeans(n_clusters=k, n_init=10, max_iter=300, random_state=42)\n",
    "    km.fit(pca_75_df)\n",
    "    \n",
    "    # measure BCSS\n",
    "    print(f'evaluating model with {k} clusters')\n",
    "    y_preds = km.predict(pca_75_df)\n",
    "    pca_75_df = pd.DataFrame(pca_75_df)\n",
    "    pca_75_df['cluster_label'] = y_preds\n",
    "    errors.append(within_cluster_variation(pca_75_df, 'cluster_label'))\n",
    "    print(errors[-1])"
   ]
  },
  {
   "cell_type": "code",
   "execution_count": 121,
   "metadata": {
    "execution": {
     "iopub.execute_input": "2022-07-07T13:20:45.572848Z",
     "iopub.status.busy": "2022-07-07T13:20:45.572127Z",
     "iopub.status.idle": "2022-07-07T13:20:45.906869Z",
     "shell.execute_reply": "2022-07-07T13:20:45.905633Z",
     "shell.execute_reply.started": "2022-07-07T13:20:45.572794Z"
    }
   },
   "outputs": [],
   "source": [
    "plt.figure(figsize=(12,8))\n",
    "plt.xlabel('Number of Clusters (k)')\n",
    "plt.ylabel('Within-Cluster Sum of Squares (WCSS)')\n",
    "plt.title('Elbow Method for Determining Optimal Value of k')\n",
    "plt.scatter(n_clusters, errors, color=\"#4DA017\")\n",
    "plt.plot(n_clusters, errors)\n",
    "plt.xticks(n_clusters)\n",
    "plt.axvline(x=3, color='#4D17A0', lw=2)\n",
    "plt.show()"
   ]
  },
  {
   "cell_type": "code",
   "execution_count": 122,
   "metadata": {
    "execution": {
     "iopub.execute_input": "2022-07-07T13:21:16.812579Z",
     "iopub.status.busy": "2022-07-07T13:21:16.812091Z",
     "iopub.status.idle": "2022-07-07T13:21:18.323072Z",
     "shell.execute_reply": "2022-07-07T13:21:18.322077Z",
     "shell.execute_reply.started": "2022-07-07T13:21:16.812523Z"
    }
   },
   "outputs": [],
   "source": [
    "K = 3\n",
    "# Remember to set the random state for reproducibility\n",
    "km = KMeans(n_clusters=K, verbose=0, random_state=42)\n",
    "print(\"Clustering sparse data with %s\" % km)\n",
    "t0 = time()\n",
    "km.fit(pca_75_df)\n",
    "print(\"done in %0.3fs\" % (time() - t0))"
   ]
  },
  {
   "cell_type": "code",
   "execution_count": 123,
   "metadata": {
    "execution": {
     "iopub.execute_input": "2022-07-07T13:21:35.597465Z",
     "iopub.status.busy": "2022-07-07T13:21:35.596775Z",
     "iopub.status.idle": "2022-07-07T13:21:35.620417Z",
     "shell.execute_reply": "2022-07-07T13:21:35.619405Z",
     "shell.execute_reply.started": "2022-07-07T13:21:35.597431Z"
    }
   },
   "outputs": [],
   "source": [
    "# Obtain cluster memberships for each item in the data\n",
    "y_preds = km.predict(pca_75_df)\n",
    "pca_75_df['cluster_label'] = y_preds\n",
    "centers = km.cluster_centers_"
   ]
  },
  {
   "cell_type": "code",
   "execution_count": 124,
   "metadata": {
    "execution": {
     "iopub.execute_input": "2022-07-07T13:21:50.227307Z",
     "iopub.status.busy": "2022-07-07T13:21:50.226680Z",
     "iopub.status.idle": "2022-07-07T13:21:51.080989Z",
     "shell.execute_reply": "2022-07-07T13:21:51.079194Z",
     "shell.execute_reply.started": "2022-07-07T13:21:50.227271Z"
    }
   },
   "outputs": [],
   "source": [
    "plt.figure(dpi=120)\n",
    "for k in range(K):\n",
    "    x1 = pca_75_df[pca_75_df['cluster_label'] == k][0]\n",
    "    x2 = pca_75_df[pca_75_df['cluster_label'] == k][1]\n",
    "    plt.scatter(x1, x2, label=\"k = \"+str(k+1),alpha=0.75)\n",
    "# Show cluster centroid locations    \n",
    "plt.scatter(centers[:,0],centers[:,1],label=\"centroid\")\n",
    "plt.legend()\n",
    "plt.title(f\"K = {K}\")\n",
    "plt.xlabel('Feature 1')\n",
    "plt.ylabel('Feature 2')\n",
    "plt.show()"
   ]
  },
  {
   "cell_type": "code",
   "execution_count": 125,
   "metadata": {
    "execution": {
     "iopub.execute_input": "2022-07-07T13:22:11.151595Z",
     "iopub.status.busy": "2022-07-07T13:22:11.150881Z",
     "iopub.status.idle": "2022-07-07T13:22:11.544007Z",
     "shell.execute_reply": "2022-07-07T13:22:11.543141Z",
     "shell.execute_reply.started": "2022-07-07T13:22:11.151557Z"
    }
   },
   "outputs": [],
   "source": [
    "# Load the 100k dataset\n",
    "train_df.drop('timestamp', axis=1, inplace=True)\n",
    "train_subset = train_df[:100000]\n",
    "reader = Reader(rating_scale=(train_subset['rating'].min(), train_subset['rating'].max()))\n",
    "data = Dataset.load_from_df(train_subset[['userId', 'movieId', 'rating']], reader)\n",
    "trainset, testset = train_test_split(data, test_size=.25, random_state=42)"
   ]
  },
  {
   "cell_type": "code",
   "execution_count": 126,
   "metadata": {
    "execution": {
     "iopub.execute_input": "2022-07-07T13:22:30.823791Z",
     "iopub.status.busy": "2022-07-07T13:22:30.822991Z",
     "iopub.status.idle": "2022-07-07T13:22:43.916717Z",
     "shell.execute_reply": "2022-07-07T13:22:43.915208Z",
     "shell.execute_reply.started": "2022-07-07T13:22:30.823738Z"
    }
   },
   "outputs": [],
   "source": [
    "svd_test = SVD(n_epochs = 30, n_factors = 200, init_std_dev = 0.05, random_state=42)\n",
    "svd_test.fit(trainset)\n",
    "predictions = svd_test.test(testset)\n",
    "# Calculate RMSE\n",
    "svd_rmse = accuracy.rmse(predictions)"
   ]
  },
  {
   "cell_type": "code",
   "execution_count": 127,
   "metadata": {
    "execution": {
     "iopub.execute_input": "2022-07-07T13:23:33.635553Z",
     "iopub.status.busy": "2022-07-07T13:23:33.635068Z",
     "iopub.status.idle": "2022-07-07T13:23:34.181240Z",
     "shell.execute_reply": "2022-07-07T13:23:34.180047Z",
     "shell.execute_reply.started": "2022-07-07T13:23:33.635497Z"
    }
   },
   "outputs": [],
   "source": [
    "np_test = NormalPredictor()\n",
    "np_test.fit(trainset)\n",
    "predictions = np_test.test(testset)\n",
    "# Calculate RMSE\n",
    "np_rmse = accuracy.rmse(predictions)"
   ]
  },
  {
   "cell_type": "code",
   "execution_count": 128,
   "metadata": {
    "execution": {
     "iopub.execute_input": "2022-07-07T13:23:56.517735Z",
     "iopub.status.busy": "2022-07-07T13:23:56.517011Z",
     "iopub.status.idle": "2022-07-07T13:23:57.950259Z",
     "shell.execute_reply": "2022-07-07T13:23:57.949100Z",
     "shell.execute_reply.started": "2022-07-07T13:23:56.517699Z"
    }
   },
   "outputs": [],
   "source": [
    "bsl_options = {'method': 'sgd','n_epochs': 40}\n",
    "blo_test = BaselineOnly(bsl_options=bsl_options)\n",
    "blo_test.fit(trainset)\n",
    "predictions = blo_test.test(testset)\n",
    "# Calculate RMSE\n",
    "blo_rmse = accuracy.rmse(predictions)"
   ]
  },
  {
   "cell_type": "code",
   "execution_count": 129,
   "metadata": {
    "execution": {
     "iopub.execute_input": "2022-07-07T13:24:10.560003Z",
     "iopub.status.busy": "2022-07-07T13:24:10.559619Z",
     "iopub.status.idle": "2022-07-07T13:24:20.184083Z",
     "shell.execute_reply": "2022-07-07T13:24:20.183182Z",
     "shell.execute_reply.started": "2022-07-07T13:24:10.559974Z"
    }
   },
   "outputs": [],
   "source": [
    "nmf_test = NMF()\n",
    "nmf_test.fit(trainset)\n",
    "predictions = nmf_test.test(testset)\n",
    "# Calculate RMSE\n",
    "nmf_rmse = accuracy.rmse(predictions)"
   ]
  },
  {
   "cell_type": "code",
   "execution_count": 130,
   "metadata": {
    "execution": {
     "iopub.execute_input": "2022-07-07T13:24:21.256235Z",
     "iopub.status.busy": "2022-07-07T13:24:21.255644Z",
     "iopub.status.idle": "2022-07-07T13:24:24.832661Z",
     "shell.execute_reply": "2022-07-07T13:24:24.831503Z",
     "shell.execute_reply.started": "2022-07-07T13:24:21.256202Z"
    }
   },
   "outputs": [],
   "source": [
    "slo_test = SlopeOne()\n",
    "slo_test.fit(trainset)\n",
    "predictions = slo_test.test(testset)\n",
    "# Calculate RMSE\n",
    "slo_rmse = accuracy.rmse(predictions)"
   ]
  },
  {
   "cell_type": "code",
   "execution_count": 131,
   "metadata": {
    "execution": {
     "iopub.execute_input": "2022-07-07T13:24:38.866419Z",
     "iopub.status.busy": "2022-07-07T13:24:38.866045Z",
     "iopub.status.idle": "2022-07-07T13:24:45.171104Z",
     "shell.execute_reply": "2022-07-07T13:24:45.169688Z",
     "shell.execute_reply.started": "2022-07-07T13:24:38.866390Z"
    }
   },
   "outputs": [],
   "source": [
    "cc_test = CoClustering(random_state=42)\n",
    "cc_test.fit(trainset)\n",
    "predictions = cc_test.test(testset)\n",
    "# Calculate RMSE\n",
    "cc_rmse = accuracy.rmse(predictions)"
   ]
  },
  {
   "cell_type": "code",
   "execution_count": 132,
   "metadata": {
    "execution": {
     "iopub.execute_input": "2022-07-07T13:25:05.424015Z",
     "iopub.status.busy": "2022-07-07T13:25:05.423639Z",
     "iopub.status.idle": "2022-07-07T13:25:05.436464Z",
     "shell.execute_reply": "2022-07-07T13:25:05.435239Z",
     "shell.execute_reply.started": "2022-07-07T13:25:05.423986Z"
    }
   },
   "outputs": [],
   "source": [
    "def data_preprocessing(subset_size):\n",
    "    \"\"\"Prepare data for use within Content filtering algorithm.\n",
    "\n",
    "    Parameters\n",
    "    ----------\n",
    "    subset_size : int\n",
    "        Number of movies to use within the algorithm.\n",
    "\n",
    "    Returns\n",
    "    -------\n",
    "    Pandas Dataframe\n",
    "        Subset of movies selected for content-based filtering.\n",
    "\n",
    "    \"\"\"\n",
    "    # Split genre data into individual words.\n",
    "    movies['keyWords'] = movies['genres'].str.replace('|', ' ')\n",
    "    # Subset of the data\n",
    "    movies_subset = movies[:subset_size]\n",
    "    return movies_subset\n",
    " \n",
    "def content_model(movie_list,top_n=10): \n",
    "    \"\"\"Performs Content filtering based upon a list of movies supplied\n",
    "       by the app user.\n",
    "\n",
    "    Parameters\n",
    "    ----------\n",
    "    movie_list : list (str)\n",
    "        Favorite movies chosen by the app user.\n",
    "    top_n : type\n",
    "        Number of top recommendations to return to the user.\n",
    "\n",
    "    Returns\n",
    "    -------\n",
    "    list (str)\n",
    "        Titles of the top-n movie recommendations to the user.\n",
    "\n",
    "    \"\"\"\n",
    "    # Initializing the empty list of recommended movies\n",
    "    data = data_preprocessing(2000)\n",
    "    # Instantiating and generating the count matrix\n",
    "    count_vec = CountVectorizer()\n",
    "    count_matrix = count_vec.fit_transform(data['keyWords'])\n",
    "    indices = pd.Series(data['title'])\n",
    "    cosine_sim = cosine_similarity(count_matrix, count_matrix)\n",
    "    cosine_sim = pd.DataFrame(cosine_sim, index = data.index, columns = data.index)\n",
    "    # Getting the index of the movie that matches the title\n",
    "    idx_1 = indices[indices == movie_list[0]].index[0]\n",
    "    idx_2 = indices[indices == movie_list[1]].index[0]\n",
    "    idx_3 = indices[indices == movie_list[2]].index[0]\n",
    "    # Creating a Series with the similarity scores in descending order\n",
    "    rank_1 = cosine_sim[idx_1]\n",
    "    rank_2 = cosine_sim[idx_2]\n",
    "    rank_3 = cosine_sim[idx_3]\n",
    "    # Calculating the scores\n",
    "    score_series_1 = pd.Series(rank_1).sort_values(ascending = False)\n",
    "    score_series_2 = pd.Series(rank_2).sort_values(ascending = False)\n",
    "    score_series_3 = pd.Series(rank_3).sort_values(ascending = False)\n",
    "    # Getting the indexes of the 10 most similar movies\n",
    "    listings = score_series_1.append(score_series_2).append(score_series_3).sort_values(ascending = False)\n",
    "    # Store movie names\n",
    "    recommended_movies = []\n",
    "    # Appending the names of movies\n",
    "    top_50_indexes = list(listings.iloc[1:50].index)\n",
    "    # Removing chosen movies\n",
    "    top_indexes = np.setdiff1d(top_50_indexes,[idx_1,idx_2,idx_3])\n",
    "    for i in top_indexes[:top_n]:\n",
    "        recommended_movies.append(list(movies['title'])[i])\n",
    "    return recommended_movies"
   ]
  },
  {
   "cell_type": "code",
   "execution_count": 133,
   "metadata": {
    "execution": {
     "iopub.execute_input": "2022-07-07T13:25:27.030096Z",
     "iopub.status.busy": "2022-07-07T13:25:27.028839Z",
     "iopub.status.idle": "2022-07-07T13:25:27.214756Z",
     "shell.execute_reply": "2022-07-07T13:25:27.213327Z",
     "shell.execute_reply.started": "2022-07-07T13:25:27.030051Z"
    }
   },
   "outputs": [],
   "source": [
    "movies = movies_df.dropna()\n",
    "movie_list = ['Grumpier Old Men (1995)','Ace Ventura: When Nature Calls (1995)','Father of the Bride Part II (1995)']\n",
    "content_model(movie_list,top_n=10)"
   ]
  },
  {
   "cell_type": "code",
   "execution_count": 134,
   "metadata": {
    "execution": {
     "iopub.execute_input": "2022-07-07T13:25:46.690988Z",
     "iopub.status.busy": "2022-07-07T13:25:46.690468Z",
     "iopub.status.idle": "2022-07-07T13:25:46.937148Z",
     "shell.execute_reply": "2022-07-07T13:25:46.935836Z",
     "shell.execute_reply.started": "2022-07-07T13:25:46.690952Z"
    }
   },
   "outputs": [],
   "source": [
    "# Compare RMSE values between models\n",
    "fig,axis = plt.subplots(figsize=(8, 5))\n",
    "rmse_x = ['SVD','NormalPredictor','BaselineOnly','NMF','SlopeOne','CoClustering']\n",
    "rmse_y = [svd_rmse,np_rmse,blo_rmse,nmf_rmse,slo_rmse,cc_rmse]\n",
    "ax = sns.barplot(x=rmse_x, y=rmse_y,palette='brg',edgecolor='black')\n",
    "plt.title('RMSE Value Per Collaborative-based Filtering Model',fontsize=14)\n",
    "plt.xticks(rotation=90)\n",
    "plt.ylabel('RMSE')\n",
    "for p in ax.patches:\n",
    "    ax.text(p.get_x() + p.get_width()/2, p.get_y() + p.get_height(), round(p.get_height(),2), fontsize=12, ha=\"center\", va='bottom')\n",
    "    \n",
    "plt.show()"
   ]
  },
  {
   "cell_type": "code",
   "execution_count": 135,
   "metadata": {
    "execution": {
     "iopub.execute_input": "2022-07-07T13:26:10.701204Z",
     "iopub.status.busy": "2022-07-07T13:26:10.700816Z",
     "iopub.status.idle": "2022-07-07T13:27:44.140002Z",
     "shell.execute_reply": "2022-07-07T13:27:44.138629Z",
     "shell.execute_reply.started": "2022-07-07T13:26:10.701171Z"
    }
   },
   "outputs": [],
   "source": [
    "svd_test = SVD(n_epochs = 40, n_factors = 200, init_std_dev = 0.05, random_state=42)\n",
    "# Run 5-fold cross-validation and print results\n",
    "a = cross_validate(svd_test, data, measures=['RMSE'], cv=5, verbose=True)"
   ]
  },
  {
   "cell_type": "code",
   "execution_count": 136,
   "metadata": {
    "execution": {
     "iopub.execute_input": "2022-07-07T13:27:44.142121Z",
     "iopub.status.busy": "2022-07-07T13:27:44.141769Z",
     "iopub.status.idle": "2022-07-07T13:27:53.772232Z",
     "shell.execute_reply": "2022-07-07T13:27:53.770973Z",
     "shell.execute_reply.started": "2022-07-07T13:27:44.142091Z"
    }
   },
   "outputs": [],
   "source": [
    "bsl_options = {'method': 'sgd','n_epochs': 40}\n",
    "blo_test = BaselineOnly(bsl_options=bsl_options)\n",
    "# Run 5-fold cross-validation and print results\n",
    "b = cross_validate(blo_test, data, measures=['RMSE'], cv=5, verbose=True)"
   ]
  },
  {
   "cell_type": "code",
   "execution_count": 137,
   "metadata": {
    "execution": {
     "iopub.execute_input": "2022-07-07T13:28:04.857727Z",
     "iopub.status.busy": "2022-07-07T13:28:04.857286Z",
     "iopub.status.idle": "2022-07-07T13:28:05.440286Z",
     "shell.execute_reply": "2022-07-07T13:28:05.439039Z",
     "shell.execute_reply.started": "2022-07-07T13:28:04.857691Z"
    }
   },
   "outputs": [],
   "source": [
    "# Load the 100k dataset\n",
    "train_subset = train_df[:100000]\n",
    "reader = Reader(rating_scale=(train_subset['rating'].min(), train_subset['rating'].max()))\n",
    "data = Dataset.load_from_df(train_subset[['userId', 'movieId', 'rating']], reader)\n",
    "trainset, testset = train_test_split(data, test_size=.25, random_state=42)"
   ]
  },
  {
   "cell_type": "code",
   "execution_count": 138,
   "metadata": {
    "execution": {
     "iopub.execute_input": "2022-07-07T13:28:23.989317Z",
     "iopub.status.busy": "2022-07-07T13:28:23.988886Z",
     "iopub.status.idle": "2022-07-07T13:30:46.402762Z",
     "shell.execute_reply": "2022-07-07T13:30:46.401626Z",
     "shell.execute_reply.started": "2022-07-07T13:28:23.989283Z"
    }
   },
   "outputs": [],
   "source": [
    "param_grid = {'n_epochs':[40], #[30,40,50],\n",
    "              'n_factors':[400], #[100,200,300,400],\n",
    "              'init_std_dev':[0.005], #[0.001,0.005,0.05,0.1],\n",
    "              'random_state':[42]} \n",
    "grid_SVD = GridSearchCV(SVD, cv=5, measures=['rmse'], param_grid=param_grid, n_jobs=-1)\n",
    "grid_SVD.fit(data)\n",
    "print('***Best score:***')\n",
    "print(grid_SVD.best_score['rmse'])\n",
    "print('***Best parameters:***')\n",
    "print(grid_SVD.best_params['rmse'])"
   ]
  },
  {
   "cell_type": "code",
   "execution_count": 139,
   "metadata": {
    "execution": {
     "iopub.execute_input": "2022-07-07T13:31:09.580865Z",
     "iopub.status.busy": "2022-07-07T13:31:09.580410Z",
     "iopub.status.idle": "2022-07-07T13:31:51.579708Z",
     "shell.execute_reply": "2022-07-07T13:31:51.578358Z",
     "shell.execute_reply.started": "2022-07-07T13:31:09.580819Z"
    }
   },
   "outputs": [],
   "source": [
    "svd_test = SVD(n_epochs = 40, n_factors = 400, init_std_dev = 0.005, random_state=42)\n",
    "svd_test.fit(trainset)\n",
    "predictions = svd_test.test(testset)\n",
    "# Calculate RMSE\n",
    "svd_rmse = accuracy.rmse(predictions)"
   ]
  },
  {
   "cell_type": "code",
   "execution_count": 140,
   "metadata": {
    "execution": {
     "iopub.execute_input": "2022-07-07T13:32:03.027586Z",
     "iopub.status.busy": "2022-07-07T13:32:03.026466Z",
     "iopub.status.idle": "2022-07-07T13:32:44.175378Z",
     "shell.execute_reply": "2022-07-07T13:32:44.174159Z",
     "shell.execute_reply.started": "2022-07-07T13:32:03.027502Z"
    }
   },
   "outputs": [],
   "source": [
    "# Predicted Target Values vs. Actual Target Values\n",
    "new_df = pd.DataFrame(columns=['uid', 'iid', 'rating'])\n",
    "i = 0\n",
    "for (uid, iid, rating) in testset:\n",
    "    new_df.loc[i] = [uid, iid, rating]\n",
    "    i = i+1\n",
    "true = new_df['rating']\n",
    "pred = []\n",
    "for i in predictions:\n",
    "    pred.append(i.est)\n",
    "fig,axis = plt.subplots(figsize=(8, 5))\n",
    "sns.boxplot(x=true, y=pred, palette=\"brg\")\n",
    "plt.title(\"Predicted Target Values vs. Actual Target Values\", fontsize=14)\n",
    "plt.xlabel(\"Actual Target Values\")\n",
    "plt.ylabel(\"Predicted Target Values\")\n",
    "plt.show()"
   ]
  },
  {
   "cell_type": "code",
   "execution_count": 141,
   "metadata": {
    "execution": {
     "iopub.execute_input": "2022-07-07T13:35:18.978441Z",
     "iopub.status.busy": "2022-07-07T13:35:18.977355Z",
     "iopub.status.idle": "2022-07-07T15:13:58.938855Z",
     "shell.execute_reply": "2022-07-07T15:13:58.937605Z",
     "shell.execute_reply.started": "2022-07-07T13:35:18.978394Z"
    }
   },
   "outputs": [],
   "source": [
    "# Train model on whole dataset\n",
    "reader = Reader(rating_scale=(train_df['rating'].min(), train_df['rating'].max()))\n",
    "data = Dataset.load_from_df(train_df[['userId', 'movieId', 'rating']], reader)\n",
    "trainset = data.build_full_trainset()\n",
    "svd = SVD(n_epochs = 40, n_factors = 400, init_std_dev = 0.005, random_state=42, verbose=True)\n",
    "svd.fit(trainset)\n",
    "\n",
    "# Create Kaggle submission file\n",
    "predictions = []\n",
    "for i, row in test_df.iterrows():\n",
    "    x = (svd.predict(row.userId, row.movieId))\n",
    "    pred = x[3]\n",
    "    predictions.append(pred)\n",
    "test_df['Id'] = test_df['userId'].map(str) +'_'+ test_df['movieId'].map(str)\n",
    "results = pd.DataFrame({\"Id\":test_df['Id'],\"rating\": predictions})\n",
    "results.to_csv(\"NM2_1st_submission.csv\", index=False)"
   ]
  },
  {
   "cell_type": "code",
   "execution_count": null,
   "metadata": {},
   "outputs": [],
   "source": []
  }
 ],
 "metadata": {
  "kernelspec": {
   "display_name": "Python 3",
   "language": "python",
   "name": "python3"
  },
  "language_info": {
   "codemirror_mode": {
    "name": "ipython",
    "version": 3
   },
   "file_extension": ".py",
   "mimetype": "text/x-python",
   "name": "python",
   "nbconvert_exporter": "python",
   "pygments_lexer": "ipython3",
   "version": "3.8.8"
  }
 },
 "nbformat": 4,
 "nbformat_minor": 4
}
